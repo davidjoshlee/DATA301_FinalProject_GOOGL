{
 "cells": [
  {
   "cell_type": "markdown",
   "metadata": {
    "colab_type": "text",
    "id": "T2MMN5yDEcv1"
   },
   "source": [
    "# Part 3: Exploratory Data Analysis"
   ]
  },
  {
   "cell_type": "code",
   "execution_count": 0,
   "metadata": {
    "colab": {
     "base_uri": "https://localhost:8080/",
     "height": 228
    },
    "colab_type": "code",
    "id": "00idcVo7EcSq",
    "outputId": "89a507ca-12f9-4eac-ad44-03ec8d1b8540"
   },
   "outputs": [
    {
     "data": {
      "text/html": [
       "<div>\n",
       "<style scoped>\n",
       "    .dataframe tbody tr th:only-of-type {\n",
       "        vertical-align: middle;\n",
       "    }\n",
       "\n",
       "    .dataframe tbody tr th {\n",
       "        vertical-align: top;\n",
       "    }\n",
       "\n",
       "    .dataframe thead th {\n",
       "        text-align: right;\n",
       "    }\n",
       "</style>\n",
       "<table border=\"1\" class=\"dataframe\">\n",
       "  <thead>\n",
       "    <tr style=\"text-align: right;\">\n",
       "      <th></th>\n",
       "      <th>Open</th>\n",
       "      <th>High</th>\n",
       "      <th>Low</th>\n",
       "      <th>Close</th>\n",
       "      <th>Volume</th>\n",
       "      <th>OpenInt</th>\n",
       "    </tr>\n",
       "    <tr>\n",
       "      <th>Date</th>\n",
       "      <th></th>\n",
       "      <th></th>\n",
       "      <th></th>\n",
       "      <th></th>\n",
       "      <th></th>\n",
       "      <th></th>\n",
       "    </tr>\n",
       "  </thead>\n",
       "  <tbody>\n",
       "    <tr>\n",
       "      <th>2013-01-02</th>\n",
       "      <td>359.71</td>\n",
       "      <td>363.50</td>\n",
       "      <td>358.28</td>\n",
       "      <td>361.62</td>\n",
       "      <td>5083536</td>\n",
       "      <td>0</td>\n",
       "    </tr>\n",
       "    <tr>\n",
       "      <th>2013-01-03</th>\n",
       "      <td>362.32</td>\n",
       "      <td>365.96</td>\n",
       "      <td>360.36</td>\n",
       "      <td>361.84</td>\n",
       "      <td>4636280</td>\n",
       "      <td>0</td>\n",
       "    </tr>\n",
       "    <tr>\n",
       "      <th>2013-01-04</th>\n",
       "      <td>364.67</td>\n",
       "      <td>370.74</td>\n",
       "      <td>363.84</td>\n",
       "      <td>368.98</td>\n",
       "      <td>5527104</td>\n",
       "      <td>0</td>\n",
       "    </tr>\n",
       "    <tr>\n",
       "      <th>2013-01-07</th>\n",
       "      <td>367.72</td>\n",
       "      <td>369.69</td>\n",
       "      <td>365.29</td>\n",
       "      <td>367.38</td>\n",
       "      <td>3311534</td>\n",
       "      <td>0</td>\n",
       "    </tr>\n",
       "    <tr>\n",
       "      <th>2013-01-08</th>\n",
       "      <td>367.77</td>\n",
       "      <td>368.15</td>\n",
       "      <td>362.22</td>\n",
       "      <td>366.65</td>\n",
       "      <td>3352074</td>\n",
       "      <td>0</td>\n",
       "    </tr>\n",
       "  </tbody>\n",
       "</table>\n",
       "</div>"
      ],
      "text/plain": [
       "              Open    High     Low   Close   Volume  OpenInt\n",
       "Date                                                        \n",
       "2013-01-02  359.71  363.50  358.28  361.62  5083536        0\n",
       "2013-01-03  362.32  365.96  360.36  361.84  4636280        0\n",
       "2013-01-04  364.67  370.74  363.84  368.98  5527104        0\n",
       "2013-01-07  367.72  369.69  365.29  367.38  3311534        0\n",
       "2013-01-08  367.77  368.15  362.22  366.65  3352074        0"
      ]
     },
     "execution_count": 8,
     "metadata": {
      "tags": []
     },
     "output_type": "execute_result"
    }
   ],
   "source": [
    "# making date the dataframe index \n",
    "# googl_four_df.index = googl_four_df['Date']\n",
    "googl_four_df = googl_four_df.set_index('Date')\n",
    "googl_four_df.head()"
   ]
  },
  {
   "cell_type": "code",
   "execution_count": 0,
   "metadata": {
    "colab": {
     "base_uri": "https://localhost:8080/",
     "height": 228
    },
    "colab_type": "code",
    "id": "WOkJsnBKJ6wg",
    "outputId": "54d9c4f1-38ef-49b1-e6a6-31df822d40f5"
   },
   "outputs": [
    {
     "data": {
      "text/html": [
       "<div>\n",
       "<style scoped>\n",
       "    .dataframe tbody tr th:only-of-type {\n",
       "        vertical-align: middle;\n",
       "    }\n",
       "\n",
       "    .dataframe tbody tr th {\n",
       "        vertical-align: top;\n",
       "    }\n",
       "\n",
       "    .dataframe thead th {\n",
       "        text-align: right;\n",
       "    }\n",
       "</style>\n",
       "<table border=\"1\" class=\"dataframe\">\n",
       "  <thead>\n",
       "    <tr style=\"text-align: right;\">\n",
       "      <th></th>\n",
       "      <th>Open</th>\n",
       "      <th>High</th>\n",
       "      <th>Low</th>\n",
       "      <th>Close</th>\n",
       "      <th>Volume</th>\n",
       "      <th>OpenInt</th>\n",
       "      <th>avg</th>\n",
       "    </tr>\n",
       "    <tr>\n",
       "      <th>Date</th>\n",
       "      <th></th>\n",
       "      <th></th>\n",
       "      <th></th>\n",
       "      <th></th>\n",
       "      <th></th>\n",
       "      <th></th>\n",
       "      <th></th>\n",
       "    </tr>\n",
       "  </thead>\n",
       "  <tbody>\n",
       "    <tr>\n",
       "      <th>2013-01-02</th>\n",
       "      <td>359.71</td>\n",
       "      <td>363.50</td>\n",
       "      <td>358.28</td>\n",
       "      <td>361.62</td>\n",
       "      <td>5083536</td>\n",
       "      <td>0</td>\n",
       "      <td>360.890</td>\n",
       "    </tr>\n",
       "    <tr>\n",
       "      <th>2013-01-03</th>\n",
       "      <td>362.32</td>\n",
       "      <td>365.96</td>\n",
       "      <td>360.36</td>\n",
       "      <td>361.84</td>\n",
       "      <td>4636280</td>\n",
       "      <td>0</td>\n",
       "      <td>363.160</td>\n",
       "    </tr>\n",
       "    <tr>\n",
       "      <th>2013-01-04</th>\n",
       "      <td>364.67</td>\n",
       "      <td>370.74</td>\n",
       "      <td>363.84</td>\n",
       "      <td>368.98</td>\n",
       "      <td>5527104</td>\n",
       "      <td>0</td>\n",
       "      <td>367.290</td>\n",
       "    </tr>\n",
       "    <tr>\n",
       "      <th>2013-01-07</th>\n",
       "      <td>367.72</td>\n",
       "      <td>369.69</td>\n",
       "      <td>365.29</td>\n",
       "      <td>367.38</td>\n",
       "      <td>3311534</td>\n",
       "      <td>0</td>\n",
       "      <td>367.490</td>\n",
       "    </tr>\n",
       "    <tr>\n",
       "      <th>2013-01-08</th>\n",
       "      <td>367.77</td>\n",
       "      <td>368.15</td>\n",
       "      <td>362.22</td>\n",
       "      <td>366.65</td>\n",
       "      <td>3352074</td>\n",
       "      <td>0</td>\n",
       "      <td>365.185</td>\n",
       "    </tr>\n",
       "  </tbody>\n",
       "</table>\n",
       "</div>"
      ],
      "text/plain": [
       "              Open    High     Low   Close   Volume  OpenInt      avg\n",
       "Date                                                                 \n",
       "2013-01-02  359.71  363.50  358.28  361.62  5083536        0  360.890\n",
       "2013-01-03  362.32  365.96  360.36  361.84  4636280        0  363.160\n",
       "2013-01-04  364.67  370.74  363.84  368.98  5527104        0  367.290\n",
       "2013-01-07  367.72  369.69  365.29  367.38  3311534        0  367.490\n",
       "2013-01-08  367.77  368.15  362.22  366.65  3352074        0  365.185"
      ]
     },
     "execution_count": 9,
     "metadata": {
      "tags": []
     },
     "output_type": "execute_result"
    }
   ],
   "source": [
    "# creating an avg between the high and low prices \n",
    "\n",
    "googl_four_df['avg'] = googl_four_df.apply(lambda row: (row.High + row.Low) / 2, axis=1)\n",
    "googl_four_df.head()"
   ]
  },
  {
   "cell_type": "code",
   "execution_count": 0,
   "metadata": {
    "colab": {},
    "colab_type": "code",
    "collapsed": true,
    "id": "qIEq1ITBcurD"
   },
   "outputs": [],
   "source": [
    "googl_df['avg'] = googl_df.apply(lambda row: (row.High + row.Low) / 2, axis=1)\n"
   ]
  },
  {
   "cell_type": "code",
   "execution_count": 0,
   "metadata": {
    "colab": {
     "base_uri": "https://localhost:8080/",
     "height": 104
    },
    "colab_type": "code",
    "id": "AjZa_VAqRGlY",
    "outputId": "2302c7d2-4ba5-4b95-fd45-c41dfdc86358"
   },
   "outputs": [
    {
     "name": "stdout",
     "output_type": "stream",
     "text": [
      "mean:  598.2381076388884\n",
      "median:  569.85\n",
      "min:  350.21500000000003\n",
      "max:  833.49\n",
      "sd 127.5479561189933\n"
     ]
    }
   ],
   "source": [
    "# summary statistics\n",
    "\n",
    "mea = googl_four_df['avg'].mean()\n",
    "mi = googl_four_df['avg'].min()\n",
    "ma = googl_four_df['avg'].max()\n",
    "med = googl_four_df['avg'].median()\n",
    "sd = googl_four_df['avg'].std()\n",
    "\n",
    "print('mean: ', mea)\n",
    "print('median: ', med)\n",
    "print('min: ', mi)\n",
    "print('max: ', ma)\n",
    "print('sd', sd)"
   ]
  },
  {
   "cell_type": "code",
   "execution_count": 0,
   "metadata": {
    "colab": {
     "base_uri": "https://localhost:8080/",
     "height": 295
    },
    "colab_type": "code",
    "id": "c6FyECAPLACM",
    "outputId": "1d48a3f9-e38a-4317-fe87-30773dccd04d"
   },
   "outputs": [
    {
     "data": {
      "text/plain": [
       "<matplotlib.axes._subplots.AxesSubplot at 0x7f894ff76940>"
      ]
     },
     "execution_count": 12,
     "metadata": {
      "tags": []
     },
     "output_type": "execute_result"
    },
    {
     "data": {
      "image/png": "[encoded data removed]",
      "text/plain": [
       "<Figure size 432x288 with 1 Axes>"
      ]
     },
     "metadata": {
      "tags": []
     },
     "output_type": "display_data"
    }
   ],
   "source": [
    "googl_four_df['avg'].plot.line()"
   ]
  },
  {
   "cell_type": "code",
   "execution_count": 0,
   "metadata": {
    "colab": {
     "base_uri": "https://localhost:8080/",
     "height": 228
    },
    "colab_type": "code",
    "id": "Tk_ehOoWh3d0",
    "outputId": "8844307f-5491-40d1-9fa7-1f09916a27b8"
   },
   "outputs": [
    {
     "data": {
      "text/html": [
       "<div>\n",
       "<style scoped>\n",
       "    .dataframe tbody tr th:only-of-type {\n",
       "        vertical-align: middle;\n",
       "    }\n",
       "\n",
       "    .dataframe tbody tr th {\n",
       "        vertical-align: top;\n",
       "    }\n",
       "\n",
       "    .dataframe thead th {\n",
       "        text-align: right;\n",
       "    }\n",
       "</style>\n",
       "<table border=\"1\" class=\"dataframe\">\n",
       "  <thead>\n",
       "    <tr style=\"text-align: right;\">\n",
       "      <th></th>\n",
       "      <th>Open</th>\n",
       "      <th>High</th>\n",
       "      <th>Low</th>\n",
       "      <th>Close</th>\n",
       "      <th>Volume</th>\n",
       "      <th>OpenInt</th>\n",
       "      <th>avg</th>\n",
       "      <th>Year</th>\n",
       "      <th>Month</th>\n",
       "      <th>Weekday Name</th>\n",
       "      <th>Month Name</th>\n",
       "    </tr>\n",
       "    <tr>\n",
       "      <th>Date</th>\n",
       "      <th></th>\n",
       "      <th></th>\n",
       "      <th></th>\n",
       "      <th></th>\n",
       "      <th></th>\n",
       "      <th></th>\n",
       "      <th></th>\n",
       "      <th></th>\n",
       "      <th></th>\n",
       "      <th></th>\n",
       "      <th></th>\n",
       "    </tr>\n",
       "  </thead>\n",
       "  <tbody>\n",
       "    <tr>\n",
       "      <th>2013-01-02</th>\n",
       "      <td>359.71</td>\n",
       "      <td>363.50</td>\n",
       "      <td>358.28</td>\n",
       "      <td>361.62</td>\n",
       "      <td>5083536</td>\n",
       "      <td>0</td>\n",
       "      <td>360.890</td>\n",
       "      <td>2013</td>\n",
       "      <td>1</td>\n",
       "      <td>Wednesday</td>\n",
       "      <td>Jan</td>\n",
       "    </tr>\n",
       "    <tr>\n",
       "      <th>2013-01-03</th>\n",
       "      <td>362.32</td>\n",
       "      <td>365.96</td>\n",
       "      <td>360.36</td>\n",
       "      <td>361.84</td>\n",
       "      <td>4636280</td>\n",
       "      <td>0</td>\n",
       "      <td>363.160</td>\n",
       "      <td>2013</td>\n",
       "      <td>1</td>\n",
       "      <td>Thursday</td>\n",
       "      <td>Jan</td>\n",
       "    </tr>\n",
       "    <tr>\n",
       "      <th>2013-01-04</th>\n",
       "      <td>364.67</td>\n",
       "      <td>370.74</td>\n",
       "      <td>363.84</td>\n",
       "      <td>368.98</td>\n",
       "      <td>5527104</td>\n",
       "      <td>0</td>\n",
       "      <td>367.290</td>\n",
       "      <td>2013</td>\n",
       "      <td>1</td>\n",
       "      <td>Friday</td>\n",
       "      <td>Jan</td>\n",
       "    </tr>\n",
       "    <tr>\n",
       "      <th>2013-01-07</th>\n",
       "      <td>367.72</td>\n",
       "      <td>369.69</td>\n",
       "      <td>365.29</td>\n",
       "      <td>367.38</td>\n",
       "      <td>3311534</td>\n",
       "      <td>0</td>\n",
       "      <td>367.490</td>\n",
       "      <td>2013</td>\n",
       "      <td>1</td>\n",
       "      <td>Monday</td>\n",
       "      <td>Jan</td>\n",
       "    </tr>\n",
       "    <tr>\n",
       "      <th>2013-01-08</th>\n",
       "      <td>367.77</td>\n",
       "      <td>368.15</td>\n",
       "      <td>362.22</td>\n",
       "      <td>366.65</td>\n",
       "      <td>3352074</td>\n",
       "      <td>0</td>\n",
       "      <td>365.185</td>\n",
       "      <td>2013</td>\n",
       "      <td>1</td>\n",
       "      <td>Tuesday</td>\n",
       "      <td>Jan</td>\n",
       "    </tr>\n",
       "  </tbody>\n",
       "</table>\n",
       "</div>"
      ],
      "text/plain": [
       "              Open    High     Low   Close  ...  Year  Month  Weekday Name  Month Name\n",
       "Date                                        ...                                       \n",
       "2013-01-02  359.71  363.50  358.28  361.62  ...  2013      1     Wednesday         Jan\n",
       "2013-01-03  362.32  365.96  360.36  361.84  ...  2013      1      Thursday         Jan\n",
       "2013-01-04  364.67  370.74  363.84  368.98  ...  2013      1        Friday         Jan\n",
       "2013-01-07  367.72  369.69  365.29  367.38  ...  2013      1        Monday         Jan\n",
       "2013-01-08  367.77  368.15  362.22  366.65  ...  2013      1       Tuesday         Jan\n",
       "\n",
       "[5 rows x 11 columns]"
      ]
     },
     "execution_count": 13,
     "metadata": {
      "tags": []
     },
     "output_type": "execute_result"
    }
   ],
   "source": [
    "googl_four_df['Year'] = googl_four_df.index.year\n",
    "googl_four_df['Month'] = googl_four_df.index.month\n",
    "googl_four_df['Weekday Name'] = googl_four_df.index.weekday_name\n",
    "\n",
    "import calendar\n",
    "googl_four_df['Month Name'] = googl_four_df['Month'].apply(lambda x: calendar.month_abbr[x])\n",
    "\n",
    "googl_four_df.head()"
   ]
  },
  {
   "cell_type": "code",
   "execution_count": 0,
   "metadata": {
    "colab": {
     "base_uri": "https://localhost:8080/",
     "height": 121
    },
    "colab_type": "code",
    "id": "nRuIu9CArgEc",
    "outputId": "ee2beb70-bf16-47ae-bd91-d69cb6cee462"
   },
   "outputs": [
    {
     "data": {
      "text/plain": [
       "Year\n",
       "2013    252\n",
       "2014    252\n",
       "2015    252\n",
       "2016    252\n",
       "Name: avg, dtype: int64"
      ]
     },
     "execution_count": 14,
     "metadata": {
      "tags": []
     },
     "output_type": "execute_result"
    }
   ],
   "source": [
    "googl_four_df.groupby('Year')['avg'].count()"
   ]
  },
  {
   "cell_type": "code",
   "execution_count": 0,
   "metadata": {
    "colab": {
     "base_uri": "https://localhost:8080/",
     "height": 298
    },
    "colab_type": "code",
    "id": "Wq2OxvswG-D-",
    "outputId": "cfb863dd-c4be-4296-96b8-fad55e585002"
   },
   "outputs": [
    {
     "data": {
      "image/png": "[encoded data removed]",
      "text/plain": [
       "<Figure size 432x288 with 4 Axes>"
      ]
     },
     "metadata": {
      "tags": []
     },
     "output_type": "display_data"
    }
   ],
   "source": [
    "# plotting decomposition of time series \n",
    "\n",
    "import statsmodels.api as sm \n",
    "import matplotlib\n",
    "\n",
    "# note that freq=253 since there are 252 trading days in the years (see above cell)\n",
    "decomp = sm.tsa.seasonal_decompose(googl_four_df['avg'], model = 'additive',freq=252)\n",
    "f = decomp.plot()\n",
    "matplotlib.rcParams['figure.figsize'] = [9.0, 5.0]"
   ]
  },
  {
   "cell_type": "markdown",
   "metadata": {
    "colab_type": "text",
    "id": "OGY9LzaL0W-W"
   },
   "source": [
    "There is a clear indication of trend, seasonality, and patterns in the residuals. "
   ]
  },
  {
   "cell_type": "code",
   "execution_count": 0,
   "metadata": {
    "colab": {
     "base_uri": "https://localhost:8080/",
     "height": 336
    },
    "colab_type": "code",
    "id": "0ft1FkgtMUTZ",
    "outputId": "d5042252-98a8-4649-d66d-b7871181604d"
   },
   "outputs": [
    {
     "data": {
      "image/png": "[encoded data removed]",
      "text/plain": [
       "<Figure size 648x360 with 1 Axes>"
      ]
     },
     "metadata": {
      "tags": []
     },
     "output_type": "display_data"
    }
   ],
   "source": [
    "# plotting ACF\n",
    "\n",
    "from statsmodels.graphics.tsaplots import plot_acf, plot_pacf\n",
    "import matplotlib.pyplot as plt\n",
    "\n",
    "plot_acf(googl_four_df['avg'])\n",
    "plt.show()"
   ]
  },
  {
   "cell_type": "markdown",
   "metadata": {
    "colab_type": "text",
    "id": "zOAcCzMzNu4v"
   },
   "source": [
    "The trend in the ACF indicates seasonality is present. "
   ]
  },
  {
   "cell_type": "code",
   "execution_count": 0,
   "metadata": {
    "colab": {
     "base_uri": "https://localhost:8080/",
     "height": 336
    },
    "colab_type": "code",
    "id": "ztnA09t3NOiJ",
    "outputId": "48b9e140-44cb-4688-ab93-45e3781c0764"
   },
   "outputs": [
    {
     "data": {
      "image/png": "[encoded data removed]",
      "text/plain": [
       "<Figure size 648x360 with 1 Axes>"
      ]
     },
     "metadata": {
      "tags": []
     },
     "output_type": "display_data"
    }
   ],
   "source": [
    "# plotting PACF\n",
    "\n",
    "plot_pacf(googl_four_df['avg'])\n",
    "plt.show()"
   ]
  },
  {
   "cell_type": "markdown",
   "metadata": {
    "colab_type": "text",
    "id": "BdAHEWwWPVfD"
   },
   "source": [
    "The spikes in the PACF indicate that lags 1 and 2 may be potential values for p in an Autoregressive formula. "
   ]
  },
  {
   "cell_type": "code",
   "execution_count": 0,
   "metadata": {
    "colab": {
     "base_uri": "https://localhost:8080/",
     "height": 624
    },
    "colab_type": "code",
    "id": "W0glgdO8hHV4",
    "outputId": "b77971bd-de6e-4b45-f9d4-ba41f0a38ba0"
   },
   "outputs": [
    {
     "data": {
      "text/plain": [
       "Text(0, 0.5, 'Price')"
      ]
     },
     "execution_count": 18,
     "metadata": {
      "tags": []
     },
     "output_type": "execute_result"
    },
    {
     "data": {
      "image/png": "[encoded data removed]",
      "text/plain": [
       "<Figure size 792x720 with 1 Axes>"
      ]
     },
     "metadata": {
      "tags": []
     },
     "output_type": "display_data"
    }
   ],
   "source": [
    "# boxplots to observe seasonality \n",
    "\n",
    "import seaborn as sns \n",
    "fig, axes = plt.subplots(1, 1, figsize=(11, 10), sharex=True)\n",
    "sns.boxplot(data=googl_four_df, x='Month', y='avg', ax=axes)\n",
    "axes.set_ylabel('Price')\n"
   ]
  },
  {
   "cell_type": "markdown",
   "metadata": {
    "colab_type": "text",
    "id": "PpbkN2Ug3h_g"
   },
   "source": [
    "There is clear seasonality. "
   ]
  }
 ],
 "metadata": {
  "colab": {
   "name": "Data Exploration - DATA 301 Final Project",
   "provenance": []
  },
  "kernelspec": {
   "display_name": "Python 3",
   "language": "python",
   "name": "python3"
  },
  "language_info": {
   "codemirror_mode": {
    "name": "ipython",
    "version": 3
   },
   "file_extension": ".py",
   "mimetype": "text/x-python",
   "name": "python",
   "nbconvert_exporter": "python",
   "pygments_lexer": "ipython3",
   "version": "3.6.3"
  }
 },
 "nbformat": 4,
 "nbformat_minor": 1
}
