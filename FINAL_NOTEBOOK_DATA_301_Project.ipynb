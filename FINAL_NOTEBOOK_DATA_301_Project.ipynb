{
  "nbformat": 4,
  "nbformat_minor": 0,
  "metadata": {
    "colab": {
      "name": "FINAL NOTEBOOK -  DATA 301 Project.ipynb",
      "provenance": [],
      "collapsed_sections": [
        "MqQ2AynEoh9i",
        "R554kE2K6SNj",
        "BGGra5hENTaz",
        "j3XcVgVHDcG6",
        "DX3aOVZZDiqg",
        "DmHRyVA6GB1p",
        "czV57fBagM-Z",
        "wpuAzAIpDI6Q",
        "S2kQWgSrUab6",
        "_jdu-xkKUiO4"
      ]
    },
    "kernelspec": {
      "name": "python3",
      "display_name": "Python 3"
    },
    "accelerator": "GPU"
  },
  "cells": [
    {
      "cell_type": "markdown",
      "metadata": {
        "id": "iPNEiMRy2Op2",
        "colab_type": "text"
      },
      "source": [
        "# Project Motivation \n",
        "\n",
        "As we college students get older and start making real money for the first time, it is important that we are as knowledgable and possible on how to effectively manage that money. One of the most popular ways to manage and grow money over time is via stock market investing, where anyone can purchase a small stake in public companies across the world. The main concern with this is that prices of these shares fluctuate quite often over a certain time and in response to news. With these price changes, it is often much easier to lose money than it is to gain. To minimize the amount you could potentially lose, buying at the lowest price before an increase is optimal. Given this goal, Karan and I wanted to model stock prices of Alphabet Class A Stock between 2013 - 2016, supplemented by a sentimemnt analysis of news articles across the same time period. "
      ]
    },
    {
      "cell_type": "markdown",
      "metadata": {
        "id": "stRE16eboZJD",
        "colab_type": "text"
      },
      "source": [
        "# Part 1: Reading in Alphabet Class A Stock Data"
      ]
    },
    {
      "cell_type": "markdown",
      "metadata": {
        "id": "HmYLQQtx9QCp",
        "colab_type": "text"
      },
      "source": [
        "Link to dataset: https://www.kaggle.com/borismarjanovic/price-volume-data-for-all-us-stocks-etfs#aadr.us.txt \n",
        "\n",
        "New York Times API documentation: https://developer.nytimes.com/docs/articlesearch-product/1/overview "
      ]
    },
    {
      "cell_type": "code",
      "metadata": {
        "id": "9i0yFUMCmRz8",
        "colab_type": "code",
        "colab": {}
      },
      "source": [
        "import pandas as pd\n",
        "import requests \n",
        "import json\n",
        "from pandas.io.json import json_normalize\n"
      ],
      "execution_count": 0,
      "outputs": []
    },
    {
      "cell_type": "code",
      "metadata": {
        "id": "1jbr-0xxnj75",
        "colab_type": "code",
        "colab": {}
      },
      "source": [
        "# Code to read csv file into Colaboratory:\n",
        "!pip install -U -q PyDrive\n",
        "from pydrive.auth import GoogleAuth\n",
        "from pydrive.drive import GoogleDrive\n",
        "from google.colab import auth\n",
        "from oauth2client.client import GoogleCredentials\n",
        "# Authenticate and create the PyDrive client.\n",
        "auth.authenticate_user()\n",
        "gauth = GoogleAuth()\n",
        "gauth.credentials = GoogleCredentials.get_application_default()\n",
        "drive = GoogleDrive(gauth)"
      ],
      "execution_count": 0,
      "outputs": []
    },
    {
      "cell_type": "code",
      "metadata": {
        "id": "fI6b5Zxwnyzt",
        "colab_type": "code",
        "colab": {}
      },
      "source": [
        "link = 'https://drive.google.com/open?id=1IsfFD6tPmloFiMWuja_RhzU9k1ZWHASD'\n",
        "fluff, idx = link.split('=')\n",
        "downloaded = drive.CreateFile({'id':idx}) \n",
        "downloaded.GetContentFile('googl.csv')  \n",
        "googl_df = pd.read_csv('googl.csv', sep = ',')"
      ],
      "execution_count": 0,
      "outputs": []
    },
    {
      "cell_type": "code",
      "metadata": {
        "id": "_kYWYew8oSSb",
        "colab_type": "code",
        "outputId": "7280b3df-d38a-4016-f05a-3f86a7649450",
        "colab": {
          "base_uri": "https://localhost:8080/",
          "height": 198
        }
      },
      "source": [
        "googl_df.head()"
      ],
      "execution_count": 0,
      "outputs": [
        {
          "output_type": "execute_result",
          "data": {
            "text/html": [
              "<div>\n",
              "<style scoped>\n",
              "    .dataframe tbody tr th:only-of-type {\n",
              "        vertical-align: middle;\n",
              "    }\n",
              "\n",
              "    .dataframe tbody tr th {\n",
              "        vertical-align: top;\n",
              "    }\n",
              "\n",
              "    .dataframe thead th {\n",
              "        text-align: right;\n",
              "    }\n",
              "</style>\n",
              "<table border=\"1\" class=\"dataframe\">\n",
              "  <thead>\n",
              "    <tr style=\"text-align: right;\">\n",
              "      <th></th>\n",
              "      <th>Date</th>\n",
              "      <th>Open</th>\n",
              "      <th>High</th>\n",
              "      <th>Low</th>\n",
              "      <th>Close</th>\n",
              "      <th>Volume</th>\n",
              "      <th>OpenInt</th>\n",
              "    </tr>\n",
              "  </thead>\n",
              "  <tbody>\n",
              "    <tr>\n",
              "      <th>0</th>\n",
              "      <td>2004-08-19</td>\n",
              "      <td>50.000</td>\n",
              "      <td>52.03</td>\n",
              "      <td>47.980</td>\n",
              "      <td>50.170</td>\n",
              "      <td>44703800</td>\n",
              "      <td>0</td>\n",
              "    </tr>\n",
              "    <tr>\n",
              "      <th>1</th>\n",
              "      <td>2004-08-20</td>\n",
              "      <td>50.505</td>\n",
              "      <td>54.54</td>\n",
              "      <td>50.250</td>\n",
              "      <td>54.155</td>\n",
              "      <td>22857200</td>\n",
              "      <td>0</td>\n",
              "    </tr>\n",
              "    <tr>\n",
              "      <th>2</th>\n",
              "      <td>2004-08-23</td>\n",
              "      <td>55.375</td>\n",
              "      <td>56.74</td>\n",
              "      <td>54.525</td>\n",
              "      <td>54.700</td>\n",
              "      <td>18274400</td>\n",
              "      <td>0</td>\n",
              "    </tr>\n",
              "    <tr>\n",
              "      <th>3</th>\n",
              "      <td>2004-08-24</td>\n",
              "      <td>55.620</td>\n",
              "      <td>55.80</td>\n",
              "      <td>51.785</td>\n",
              "      <td>52.435</td>\n",
              "      <td>15262600</td>\n",
              "      <td>0</td>\n",
              "    </tr>\n",
              "    <tr>\n",
              "      <th>4</th>\n",
              "      <td>2004-08-25</td>\n",
              "      <td>52.480</td>\n",
              "      <td>54.00</td>\n",
              "      <td>51.940</td>\n",
              "      <td>53.000</td>\n",
              "      <td>9197800</td>\n",
              "      <td>0</td>\n",
              "    </tr>\n",
              "  </tbody>\n",
              "</table>\n",
              "</div>"
            ],
            "text/plain": [
              "         Date    Open   High     Low   Close    Volume  OpenInt\n",
              "0  2004-08-19  50.000  52.03  47.980  50.170  44703800        0\n",
              "1  2004-08-20  50.505  54.54  50.250  54.155  22857200        0\n",
              "2  2004-08-23  55.375  56.74  54.525  54.700  18274400        0\n",
              "3  2004-08-24  55.620  55.80  51.785  52.435  15262600        0\n",
              "4  2004-08-25  52.480  54.00  51.940  53.000   9197800        0"
            ]
          },
          "metadata": {
            "tags": []
          },
          "execution_count": 17
        }
      ]
    },
    {
      "cell_type": "code",
      "metadata": {
        "id": "lynjk49MomYE",
        "colab_type": "code",
        "colab": {}
      },
      "source": [
        "# Changing Date column to date time object\n",
        "googl_df['Date'] = pd.to_datetime(googl_df['Date'])\n",
        "#googl_df.set_index('Date', inplace=True)"
      ],
      "execution_count": 0,
      "outputs": []
    },
    {
      "cell_type": "code",
      "metadata": {
        "id": "mwFLrZ0arW8f",
        "colab_type": "code",
        "colab": {}
      },
      "source": [
        "start_date = '2013-01-01'\n",
        "end_date = '2016-12-31'\n",
        "mask = (googl_df['Date'] >= start_date) & (googl_df['Date'] <= end_date)\n",
        "googl_four_df = googl_df[mask]"
      ],
      "execution_count": 0,
      "outputs": []
    },
    {
      "cell_type": "code",
      "metadata": {
        "id": "7O0nyOprklT_",
        "colab_type": "code",
        "outputId": "2ca00c36-7cc2-4a69-d9ee-23b563cc2b8d",
        "colab": {
          "base_uri": "https://localhost:8080/",
          "height": 259
        }
      },
      "source": [
        "googl_four_df.head"
      ],
      "execution_count": 0,
      "outputs": [
        {
          "output_type": "execute_result",
          "data": {
            "text/plain": [
              "<bound method NDFrame.head of            Date    Open     High      Low   Close   Volume  OpenInt\n",
              "2107 2013-01-02  359.71  363.500  358.280  361.62  5083536        0\n",
              "2108 2013-01-03  362.32  365.960  360.360  361.84  4636280        0\n",
              "2109 2013-01-04  364.67  370.740  363.840  368.98  5527104        0\n",
              "2110 2013-01-07  367.72  369.690  365.290  367.38  3311534        0\n",
              "2111 2013-01-08  367.77  368.150  362.220  366.65  3352074        0\n",
              "...         ...     ...      ...      ...     ...      ...      ...\n",
              "3110 2016-12-23  808.01  810.970  805.110  807.80   750685        0\n",
              "3111 2016-12-27  808.68  816.000  805.800  809.93   946336        0\n",
              "3112 2016-12-28  813.33  813.330  802.440  804.57  1159794        0\n",
              "3113 2016-12-29  802.33  805.750  798.144  802.83   998255        0\n",
              "3114 2016-12-30  803.21  803.285  789.620  792.45  1735879        0\n",
              "\n",
              "[1008 rows x 7 columns]>"
            ]
          },
          "metadata": {
            "tags": []
          },
          "execution_count": 20
        }
      ]
    },
    {
      "cell_type": "markdown",
      "metadata": {
        "id": "MqQ2AynEoh9i",
        "colab_type": "text"
      },
      "source": [
        "# Part 2a: Retrieving News Data via NYT REST API \n",
        "\n",
        "**Note that after initial webscraping is finished, the data is written to a CSV, which is in the \"Project\" folder. Skip the below blocks and instead read in the file via drive to save time.**"
      ]
    },
    {
      "cell_type": "markdown",
      "metadata": {
        "id": "vREC47appgg7",
        "colab_type": "text"
      },
      "source": [
        "Utilizing newsapi.org to get all data related to Alphabet/Google between 2013 - 2016."
      ]
    },
    {
      "cell_type": "code",
      "metadata": {
        "id": "PXD-Lr9FpsbO",
        "colab_type": "code",
        "colab": {}
      },
      "source": [
        "# default values \n",
        "key = \"dntIk6KTZEo5h1RVjQ0wh9EZKsMrY6Q1\"\n",
        "link = ('https://api.nytimes.com/svc/search/v2/articlesearch.json?q=alphabet' + \n",
        "        '&begin_date=20130101&end_date=20161231' + '&api-key=' + key)"
      ],
      "execution_count": 0,
      "outputs": []
    },
    {
      "cell_type": "code",
      "metadata": {
        "id": "5btci0cepvSP",
        "colab_type": "code",
        "outputId": "979cad81-2cb4-48e4-8ee2-11aae314d01b",
        "colab": {
          "base_uri": "https://localhost:8080/",
          "height": 35
        }
      },
      "source": [
        "# get the number of pages of data that the API has for alphabet \n",
        "resp = requests.get(link)\n",
        "first_h = resp.json()\n",
        "all_news = json_normalize(first_h)\n",
        "n_arts = int(all_news['response.meta.hits'])\n",
        "n_pages = n_arts // 10 + 1\n",
        "n_pages"
      ],
      "execution_count": 0,
      "outputs": [
        {
          "output_type": "execute_result",
          "data": {
            "text/plain": [
              "87"
            ]
          },
          "metadata": {
            "tags": []
          },
          "execution_count": 8
        }
      ]
    },
    {
      "cell_type": "code",
      "metadata": {
        "id": "wDCMcD8ge6y3",
        "colab_type": "code",
        "colab": {}
      },
      "source": [
        "# traversing through all the pages and adding the elements to a list \n",
        "import time \n",
        "articles = []\n",
        "for i in range(0, n_pages): \n",
        "  new_l = link + \"&page=\" + str(i)\n",
        "  resp = requests.get(new_l)\n",
        "  hold = resp.json()\n",
        "  articles.extend(hold['response']['docs'])\n",
        "  if (i + 2) % 10 == 0:\n",
        "    time.sleep(60)"
      ],
      "execution_count": 0,
      "outputs": []
    },
    {
      "cell_type": "code",
      "metadata": {
        "id": "AzMFSvtcqLMu",
        "colab_type": "code",
        "outputId": "97c2d8af-88c8-43f8-d3c4-5aca7f772b11",
        "colab": {
          "base_uri": "https://localhost:8080/",
          "height": 564
        }
      },
      "source": [
        "# convert to DF\n",
        "all_articles = json_normalize(articles)\n",
        "all_articles.tail()"
      ],
      "execution_count": 0,
      "outputs": [
        {
          "output_type": "execute_result",
          "data": {
            "text/html": [
              "<div>\n",
              "<style scoped>\n",
              "    .dataframe tbody tr th:only-of-type {\n",
              "        vertical-align: middle;\n",
              "    }\n",
              "\n",
              "    .dataframe tbody tr th {\n",
              "        vertical-align: top;\n",
              "    }\n",
              "\n",
              "    .dataframe thead th {\n",
              "        text-align: right;\n",
              "    }\n",
              "</style>\n",
              "<table border=\"1\" class=\"dataframe\">\n",
              "  <thead>\n",
              "    <tr style=\"text-align: right;\">\n",
              "      <th></th>\n",
              "      <th>abstract</th>\n",
              "      <th>web_url</th>\n",
              "      <th>snippet</th>\n",
              "      <th>lead_paragraph</th>\n",
              "      <th>source</th>\n",
              "      <th>multimedia</th>\n",
              "      <th>keywords</th>\n",
              "      <th>pub_date</th>\n",
              "      <th>document_type</th>\n",
              "      <th>news_desk</th>\n",
              "      <th>section_name</th>\n",
              "      <th>type_of_material</th>\n",
              "      <th>_id</th>\n",
              "      <th>word_count</th>\n",
              "      <th>uri</th>\n",
              "      <th>headline.main</th>\n",
              "      <th>headline.kicker</th>\n",
              "      <th>headline.content_kicker</th>\n",
              "      <th>headline.print_headline</th>\n",
              "      <th>headline.name</th>\n",
              "      <th>headline.seo</th>\n",
              "      <th>headline.sub</th>\n",
              "      <th>byline.original</th>\n",
              "      <th>byline.person</th>\n",
              "      <th>byline.organization</th>\n",
              "      <th>print_section</th>\n",
              "      <th>print_page</th>\n",
              "      <th>subsection_name</th>\n",
              "      <th>slideshow_credits</th>\n",
              "    </tr>\n",
              "  </thead>\n",
              "  <tbody>\n",
              "    <tr>\n",
              "      <th>862</th>\n",
              "      <td>Two readers comment on a Sunday Review essay t...</td>\n",
              "      <td>https://www.nytimes.com/2015/06/04/opinion/the...</td>\n",
              "      <td>Two readers comment on a Sunday Review essay t...</td>\n",
              "      <td>To the Editor:</td>\n",
              "      <td>The New York Times</td>\n",
              "      <td>[]</td>\n",
              "      <td>[{'name': 'subject', 'value': 'Women and Girls...</td>\n",
              "      <td>2015-06-04T07:20:06+0000</td>\n",
              "      <td>article</td>\n",
              "      <td>Letters</td>\n",
              "      <td>Opinion</td>\n",
              "      <td>Letter</td>\n",
              "      <td>nyt://article/07629053-3e41-5b40-8ae5-8b9b1e35...</td>\n",
              "      <td>265</td>\n",
              "      <td>nyt://article/07629053-3e41-5b40-8ae5-8b9b1e35...</td>\n",
              "      <td>The Pressure to Primp</td>\n",
              "      <td>Letters</td>\n",
              "      <td>None</td>\n",
              "      <td>The Pressure to Primp</td>\n",
              "      <td>None</td>\n",
              "      <td>None</td>\n",
              "      <td>None</td>\n",
              "      <td>None</td>\n",
              "      <td>[]</td>\n",
              "      <td>None</td>\n",
              "      <td>A</td>\n",
              "      <td>24</td>\n",
              "      <td>NaN</td>\n",
              "      <td>NaN</td>\n",
              "    </tr>\n",
              "    <tr>\n",
              "      <th>863</th>\n",
              "      <td>Remembering some of the artists, innovators an...</td>\n",
              "      <td>https://www.nytimes.com/interactive/2015/12/16...</td>\n",
              "      <td>Remembering some of the artists, innovators an...</td>\n",
              "      <td>Remembering some of the artists, innovators an...</td>\n",
              "      <td>The New York Times</td>\n",
              "      <td>[{'rank': 0, 'subtype': 'watch308', 'caption':...</td>\n",
              "      <td>[{'name': 'subject', 'value': 'Deaths (Obituar...</td>\n",
              "      <td>2015-12-23T13:15:48+0000</td>\n",
              "      <td>multimedia</td>\n",
              "      <td>Magazine</td>\n",
              "      <td>Magazine</td>\n",
              "      <td>Interactive Feature</td>\n",
              "      <td>nyt://interactive/f09df3dd-47d1-54a7-9d26-05d1...</td>\n",
              "      <td>0</td>\n",
              "      <td>nyt://interactive/f09df3dd-47d1-54a7-9d26-05d1...</td>\n",
              "      <td>The Lives They Lived</td>\n",
              "      <td>Feature</td>\n",
              "      <td>None</td>\n",
              "      <td>None</td>\n",
              "      <td>None</td>\n",
              "      <td>None</td>\n",
              "      <td>None</td>\n",
              "      <td>None</td>\n",
              "      <td>[]</td>\n",
              "      <td>None</td>\n",
              "      <td>NaN</td>\n",
              "      <td>NaN</td>\n",
              "      <td>NaN</td>\n",
              "      <td>NaN</td>\n",
              "    </tr>\n",
              "    <tr>\n",
              "      <th>864</th>\n",
              "      <td>Two teachers agree with an opinion writer abou...</td>\n",
              "      <td>https://www.nytimes.com/2015/05/26/opinion/the...</td>\n",
              "      <td>Two teachers agree with an opinion writer abou...</td>\n",
              "      <td>To the Editor:</td>\n",
              "      <td>The New York Times</td>\n",
              "      <td>[{'rank': 0, 'subtype': 'watch308', 'caption':...</td>\n",
              "      <td>[{'name': 'subject', 'value': 'Children and Ch...</td>\n",
              "      <td>2015-05-26T07:21:19+0000</td>\n",
              "      <td>article</td>\n",
              "      <td>Letters</td>\n",
              "      <td>Opinion</td>\n",
              "      <td>Letter</td>\n",
              "      <td>nyt://article/2aab24d1-919a-5a00-9d8d-5af95255...</td>\n",
              "      <td>380</td>\n",
              "      <td>nyt://article/2aab24d1-919a-5a00-9d8d-5af95255...</td>\n",
              "      <td>The Importance of Play as a Learning Tool</td>\n",
              "      <td>Letter</td>\n",
              "      <td>None</td>\n",
              "      <td>The Importance of Play as a Learning Tool</td>\n",
              "      <td>None</td>\n",
              "      <td>None</td>\n",
              "      <td>None</td>\n",
              "      <td>None</td>\n",
              "      <td>[]</td>\n",
              "      <td>None</td>\n",
              "      <td>A</td>\n",
              "      <td>18</td>\n",
              "      <td>NaN</td>\n",
              "      <td>NaN</td>\n",
              "    </tr>\n",
              "    <tr>\n",
              "      <th>865</th>\n",
              "      <td>The best present ideas, selected by Times expe...</td>\n",
              "      <td>https://www.nytimes.com/interactive/2014/multi...</td>\n",
              "      <td>The best present ideas, selected by Times expe...</td>\n",
              "      <td>The best present ideas, selected by Times expe...</td>\n",
              "      <td>The New York Times</td>\n",
              "      <td>[{'rank': 0, 'subtype': 'wide', 'caption': Non...</td>\n",
              "      <td>[{'name': 'subject', 'value': 'Gifts', 'rank':...</td>\n",
              "      <td>2014-10-14T18:56:40+0000</td>\n",
              "      <td>multimedia</td>\n",
              "      <td>Multimedia/Photos</td>\n",
              "      <td>Multimedia/Photos</td>\n",
              "      <td>Interactive Feature</td>\n",
              "      <td>nyt://interactive/e2ec3e6f-b0b1-58e8-8537-4f18...</td>\n",
              "      <td>0</td>\n",
              "      <td>nyt://interactive/e2ec3e6f-b0b1-58e8-8537-4f18...</td>\n",
              "      <td>2014 Holiday Gift Ideas and Guide — Movies, Mu...</td>\n",
              "      <td>None</td>\n",
              "      <td>None</td>\n",
              "      <td>None</td>\n",
              "      <td>None</td>\n",
              "      <td>None</td>\n",
              "      <td>None</td>\n",
              "      <td>None</td>\n",
              "      <td>[]</td>\n",
              "      <td>None</td>\n",
              "      <td>NaN</td>\n",
              "      <td>NaN</td>\n",
              "      <td>NaN</td>\n",
              "      <td>NaN</td>\n",
              "    </tr>\n",
              "    <tr>\n",
              "      <th>866</th>\n",
              "      <td>Readers reflect on how we see ourselves and le...</td>\n",
              "      <td>https://www.nytimes.com/2014/03/23/opinion/sun...</td>\n",
              "      <td>Readers reflect on how we see ourselves and le...</td>\n",
              "      <td>Readers reflect on how we see ourselves and le...</td>\n",
              "      <td>The New York Times</td>\n",
              "      <td>[{'rank': 0, 'subtype': 'wide', 'caption': Non...</td>\n",
              "      <td>[{'name': 'subject', 'value': 'Books and Liter...</td>\n",
              "      <td>2014-03-22T18:30:01+0000</td>\n",
              "      <td>article</td>\n",
              "      <td>Letters</td>\n",
              "      <td>Opinion</td>\n",
              "      <td>Letter</td>\n",
              "      <td>nyt://article/020c0074-1418-5334-81d2-15a0e71a...</td>\n",
              "      <td>988</td>\n",
              "      <td>nyt://article/020c0074-1418-5334-81d2-15a0e71a...</td>\n",
              "      <td>Diversity in Kids’ Books</td>\n",
              "      <td>Letters</td>\n",
              "      <td>None</td>\n",
              "      <td>Diversity in Kids’ Books</td>\n",
              "      <td>None</td>\n",
              "      <td>None</td>\n",
              "      <td>None</td>\n",
              "      <td>None</td>\n",
              "      <td>[]</td>\n",
              "      <td>None</td>\n",
              "      <td>SR</td>\n",
              "      <td>12</td>\n",
              "      <td>Sunday Review</td>\n",
              "      <td>NaN</td>\n",
              "    </tr>\n",
              "  </tbody>\n",
              "</table>\n",
              "</div>"
            ],
            "text/plain": [
              "                                              abstract  ... slideshow_credits\n",
              "862  Two readers comment on a Sunday Review essay t...  ...               NaN\n",
              "863  Remembering some of the artists, innovators an...  ...               NaN\n",
              "864  Two teachers agree with an opinion writer abou...  ...               NaN\n",
              "865  The best present ideas, selected by Times expe...  ...               NaN\n",
              "866  Readers reflect on how we see ourselves and le...  ...               NaN\n",
              "\n",
              "[5 rows x 29 columns]"
            ]
          },
          "metadata": {
            "tags": []
          },
          "execution_count": 15
        }
      ]
    },
    {
      "cell_type": "code",
      "metadata": {
        "id": "_7e6_MVFxmoD",
        "colab_type": "code",
        "outputId": "cd31aef4-0390-45f4-eee6-9dcdfe3beebc",
        "colab": {
          "base_uri": "https://localhost:8080/",
          "height": 35
        }
      },
      "source": [
        "from google.colab import drive\n",
        "drive.mount('drive')"
      ],
      "execution_count": 0,
      "outputs": [
        {
          "output_type": "stream",
          "text": [
            "Drive already mounted at drive; to attempt to forcibly remount, call drive.mount(\"drive\", force_remount=True).\n"
          ],
          "name": "stdout"
        }
      ]
    },
    {
      "cell_type": "code",
      "metadata": {
        "id": "Gze0Rduux455",
        "colab_type": "code",
        "colab": {}
      },
      "source": [
        "# write to CSV \n",
        "all_articles.to_csv('all_articles_googl.csv')\n",
        "!cp all_articles_googl.csv \"drive/My Drive/\""
      ],
      "execution_count": 0,
      "outputs": []
    },
    {
      "cell_type": "markdown",
      "metadata": {
        "id": "R554kE2K6SNj",
        "colab_type": "text"
      },
      "source": [
        "# Part 2b: Reading in Article Data via Drive CSV"
      ]
    },
    {
      "cell_type": "code",
      "metadata": {
        "id": "yladJAQ35Xsr",
        "colab_type": "code",
        "colab": {}
      },
      "source": [
        "# open and reading in CSV \n",
        "auth.authenticate_user()\n",
        "gauth = GoogleAuth()\n",
        "gauth.credentials = GoogleCredentials.get_application_default()\n",
        "drive = GoogleDrive(gauth)\n",
        "\n",
        "link = 'https://drive.google.com/open?id=1-3BMbLq2BGIRQVg4vhguypidcRLLKtOr'\n",
        "fluff, idx = link.split('=')\n",
        "downloaded = drive.CreateFile({'id':idx}) \n",
        "downloaded.GetContentFile('all_articles_googl.csv')  \n",
        "articles_df = pd.read_csv('all_articles_googl.csv', sep = ',')"
      ],
      "execution_count": 0,
      "outputs": []
    },
    {
      "cell_type": "code",
      "metadata": {
        "id": "S_D1JUCn6GHG",
        "colab_type": "code",
        "outputId": "d3c36e26-3e93-4487-b4bd-73deebe72323",
        "colab": {
          "base_uri": "https://localhost:8080/",
          "height": 581
        }
      },
      "source": [
        "articles_df.tail()"
      ],
      "execution_count": 0,
      "outputs": [
        {
          "output_type": "execute_result",
          "data": {
            "text/html": [
              "<div>\n",
              "<style scoped>\n",
              "    .dataframe tbody tr th:only-of-type {\n",
              "        vertical-align: middle;\n",
              "    }\n",
              "\n",
              "    .dataframe tbody tr th {\n",
              "        vertical-align: top;\n",
              "    }\n",
              "\n",
              "    .dataframe thead th {\n",
              "        text-align: right;\n",
              "    }\n",
              "</style>\n",
              "<table border=\"1\" class=\"dataframe\">\n",
              "  <thead>\n",
              "    <tr style=\"text-align: right;\">\n",
              "      <th></th>\n",
              "      <th>Unnamed: 0</th>\n",
              "      <th>abstract</th>\n",
              "      <th>web_url</th>\n",
              "      <th>snippet</th>\n",
              "      <th>lead_paragraph</th>\n",
              "      <th>source</th>\n",
              "      <th>multimedia</th>\n",
              "      <th>keywords</th>\n",
              "      <th>pub_date</th>\n",
              "      <th>document_type</th>\n",
              "      <th>news_desk</th>\n",
              "      <th>section_name</th>\n",
              "      <th>type_of_material</th>\n",
              "      <th>_id</th>\n",
              "      <th>word_count</th>\n",
              "      <th>uri</th>\n",
              "      <th>headline.main</th>\n",
              "      <th>headline.kicker</th>\n",
              "      <th>headline.content_kicker</th>\n",
              "      <th>headline.print_headline</th>\n",
              "      <th>headline.name</th>\n",
              "      <th>headline.seo</th>\n",
              "      <th>headline.sub</th>\n",
              "      <th>byline.original</th>\n",
              "      <th>byline.person</th>\n",
              "      <th>byline.organization</th>\n",
              "      <th>print_section</th>\n",
              "      <th>print_page</th>\n",
              "      <th>subsection_name</th>\n",
              "      <th>slideshow_credits</th>\n",
              "    </tr>\n",
              "  </thead>\n",
              "  <tbody>\n",
              "    <tr>\n",
              "      <th>862</th>\n",
              "      <td>862</td>\n",
              "      <td>Two readers comment on a Sunday Review essay t...</td>\n",
              "      <td>https://www.nytimes.com/2015/06/04/opinion/the...</td>\n",
              "      <td>Two readers comment on a Sunday Review essay t...</td>\n",
              "      <td>To the Editor:</td>\n",
              "      <td>The New York Times</td>\n",
              "      <td>[]</td>\n",
              "      <td>[{'name': 'subject', 'value': 'Women and Girls...</td>\n",
              "      <td>2015-06-04T07:20:06+0000</td>\n",
              "      <td>article</td>\n",
              "      <td>Letters</td>\n",
              "      <td>Opinion</td>\n",
              "      <td>Letter</td>\n",
              "      <td>nyt://article/07629053-3e41-5b40-8ae5-8b9b1e35...</td>\n",
              "      <td>265</td>\n",
              "      <td>nyt://article/07629053-3e41-5b40-8ae5-8b9b1e35...</td>\n",
              "      <td>The Pressure to Primp</td>\n",
              "      <td>Letters</td>\n",
              "      <td>NaN</td>\n",
              "      <td>The Pressure to Primp</td>\n",
              "      <td>NaN</td>\n",
              "      <td>NaN</td>\n",
              "      <td>NaN</td>\n",
              "      <td>NaN</td>\n",
              "      <td>[]</td>\n",
              "      <td>NaN</td>\n",
              "      <td>A</td>\n",
              "      <td>24.0</td>\n",
              "      <td>NaN</td>\n",
              "      <td>NaN</td>\n",
              "    </tr>\n",
              "    <tr>\n",
              "      <th>863</th>\n",
              "      <td>863</td>\n",
              "      <td>Remembering some of the artists, innovators an...</td>\n",
              "      <td>https://www.nytimes.com/interactive/2015/12/16...</td>\n",
              "      <td>Remembering some of the artists, innovators an...</td>\n",
              "      <td>Remembering some of the artists, innovators an...</td>\n",
              "      <td>The New York Times</td>\n",
              "      <td>[{'rank': 0, 'subtype': 'watch308', 'caption':...</td>\n",
              "      <td>[{'name': 'subject', 'value': 'Deaths (Obituar...</td>\n",
              "      <td>2015-12-23T13:15:48+0000</td>\n",
              "      <td>multimedia</td>\n",
              "      <td>Magazine</td>\n",
              "      <td>Magazine</td>\n",
              "      <td>Interactive Feature</td>\n",
              "      <td>nyt://interactive/f09df3dd-47d1-54a7-9d26-05d1...</td>\n",
              "      <td>0</td>\n",
              "      <td>nyt://interactive/f09df3dd-47d1-54a7-9d26-05d1...</td>\n",
              "      <td>The Lives They Lived</td>\n",
              "      <td>Feature</td>\n",
              "      <td>NaN</td>\n",
              "      <td>NaN</td>\n",
              "      <td>NaN</td>\n",
              "      <td>NaN</td>\n",
              "      <td>NaN</td>\n",
              "      <td>NaN</td>\n",
              "      <td>[]</td>\n",
              "      <td>NaN</td>\n",
              "      <td>NaN</td>\n",
              "      <td>NaN</td>\n",
              "      <td>NaN</td>\n",
              "      <td>NaN</td>\n",
              "    </tr>\n",
              "    <tr>\n",
              "      <th>864</th>\n",
              "      <td>864</td>\n",
              "      <td>Two teachers agree with an opinion writer abou...</td>\n",
              "      <td>https://www.nytimes.com/2015/05/26/opinion/the...</td>\n",
              "      <td>Two teachers agree with an opinion writer abou...</td>\n",
              "      <td>To the Editor:</td>\n",
              "      <td>The New York Times</td>\n",
              "      <td>[{'rank': 0, 'subtype': 'watch308', 'caption':...</td>\n",
              "      <td>[{'name': 'subject', 'value': 'Children and Ch...</td>\n",
              "      <td>2015-05-26T07:21:19+0000</td>\n",
              "      <td>article</td>\n",
              "      <td>Letters</td>\n",
              "      <td>Opinion</td>\n",
              "      <td>Letter</td>\n",
              "      <td>nyt://article/2aab24d1-919a-5a00-9d8d-5af95255...</td>\n",
              "      <td>380</td>\n",
              "      <td>nyt://article/2aab24d1-919a-5a00-9d8d-5af95255...</td>\n",
              "      <td>The Importance of Play as a Learning Tool</td>\n",
              "      <td>Letter</td>\n",
              "      <td>NaN</td>\n",
              "      <td>The Importance of Play as a Learning Tool</td>\n",
              "      <td>NaN</td>\n",
              "      <td>NaN</td>\n",
              "      <td>NaN</td>\n",
              "      <td>NaN</td>\n",
              "      <td>[]</td>\n",
              "      <td>NaN</td>\n",
              "      <td>A</td>\n",
              "      <td>18.0</td>\n",
              "      <td>NaN</td>\n",
              "      <td>NaN</td>\n",
              "    </tr>\n",
              "    <tr>\n",
              "      <th>865</th>\n",
              "      <td>865</td>\n",
              "      <td>The best present ideas, selected by Times expe...</td>\n",
              "      <td>https://www.nytimes.com/interactive/2014/multi...</td>\n",
              "      <td>The best present ideas, selected by Times expe...</td>\n",
              "      <td>The best present ideas, selected by Times expe...</td>\n",
              "      <td>The New York Times</td>\n",
              "      <td>[{'rank': 0, 'subtype': 'wide', 'caption': Non...</td>\n",
              "      <td>[{'name': 'subject', 'value': 'Gifts', 'rank':...</td>\n",
              "      <td>2014-10-14T18:56:40+0000</td>\n",
              "      <td>multimedia</td>\n",
              "      <td>Multimedia/Photos</td>\n",
              "      <td>Multimedia/Photos</td>\n",
              "      <td>Interactive Feature</td>\n",
              "      <td>nyt://interactive/e2ec3e6f-b0b1-58e8-8537-4f18...</td>\n",
              "      <td>0</td>\n",
              "      <td>nyt://interactive/e2ec3e6f-b0b1-58e8-8537-4f18...</td>\n",
              "      <td>2014 Holiday Gift Ideas and Guide — Movies, Mu...</td>\n",
              "      <td>NaN</td>\n",
              "      <td>NaN</td>\n",
              "      <td>NaN</td>\n",
              "      <td>NaN</td>\n",
              "      <td>NaN</td>\n",
              "      <td>NaN</td>\n",
              "      <td>NaN</td>\n",
              "      <td>[]</td>\n",
              "      <td>NaN</td>\n",
              "      <td>NaN</td>\n",
              "      <td>NaN</td>\n",
              "      <td>NaN</td>\n",
              "      <td>NaN</td>\n",
              "    </tr>\n",
              "    <tr>\n",
              "      <th>866</th>\n",
              "      <td>866</td>\n",
              "      <td>Readers reflect on how we see ourselves and le...</td>\n",
              "      <td>https://www.nytimes.com/2014/03/23/opinion/sun...</td>\n",
              "      <td>Readers reflect on how we see ourselves and le...</td>\n",
              "      <td>Readers reflect on how we see ourselves and le...</td>\n",
              "      <td>The New York Times</td>\n",
              "      <td>[{'rank': 0, 'subtype': 'wide', 'caption': Non...</td>\n",
              "      <td>[{'name': 'subject', 'value': 'Books and Liter...</td>\n",
              "      <td>2014-03-22T18:30:01+0000</td>\n",
              "      <td>article</td>\n",
              "      <td>Letters</td>\n",
              "      <td>Opinion</td>\n",
              "      <td>Letter</td>\n",
              "      <td>nyt://article/020c0074-1418-5334-81d2-15a0e71a...</td>\n",
              "      <td>988</td>\n",
              "      <td>nyt://article/020c0074-1418-5334-81d2-15a0e71a...</td>\n",
              "      <td>Diversity in Kids’ Books</td>\n",
              "      <td>Letters</td>\n",
              "      <td>NaN</td>\n",
              "      <td>Diversity in Kids’ Books</td>\n",
              "      <td>NaN</td>\n",
              "      <td>NaN</td>\n",
              "      <td>NaN</td>\n",
              "      <td>NaN</td>\n",
              "      <td>[]</td>\n",
              "      <td>NaN</td>\n",
              "      <td>SR</td>\n",
              "      <td>12.0</td>\n",
              "      <td>Sunday Review</td>\n",
              "      <td>NaN</td>\n",
              "    </tr>\n",
              "  </tbody>\n",
              "</table>\n",
              "</div>"
            ],
            "text/plain": [
              "     Unnamed: 0  ... slideshow_credits\n",
              "862         862  ...               NaN\n",
              "863         863  ...               NaN\n",
              "864         864  ...               NaN\n",
              "865         865  ...               NaN\n",
              "866         866  ...               NaN\n",
              "\n",
              "[5 rows x 30 columns]"
            ]
          },
          "metadata": {
            "tags": []
          },
          "execution_count": 8
        }
      ]
    },
    {
      "cell_type": "markdown",
      "metadata": {
        "id": "T2MMN5yDEcv1",
        "colab_type": "text"
      },
      "source": [
        "# Part 3: Exploratory Data Analysis"
      ]
    },
    {
      "cell_type": "code",
      "metadata": {
        "id": "00idcVo7EcSq",
        "colab_type": "code",
        "outputId": "94dd413b-a6e9-4e2f-81d0-84ce68da81a8",
        "colab": {
          "base_uri": "https://localhost:8080/",
          "height": 228
        }
      },
      "source": [
        "# making date the dataframe index \n",
        "# googl_four_df.index = googl_four_df['Date']\n",
        "googl_four_df = googl_four_df.set_index('Date')\n",
        "googl_four_df.head()"
      ],
      "execution_count": 0,
      "outputs": [
        {
          "output_type": "execute_result",
          "data": {
            "text/html": [
              "<div>\n",
              "<style scoped>\n",
              "    .dataframe tbody tr th:only-of-type {\n",
              "        vertical-align: middle;\n",
              "    }\n",
              "\n",
              "    .dataframe tbody tr th {\n",
              "        vertical-align: top;\n",
              "    }\n",
              "\n",
              "    .dataframe thead th {\n",
              "        text-align: right;\n",
              "    }\n",
              "</style>\n",
              "<table border=\"1\" class=\"dataframe\">\n",
              "  <thead>\n",
              "    <tr style=\"text-align: right;\">\n",
              "      <th></th>\n",
              "      <th>Open</th>\n",
              "      <th>High</th>\n",
              "      <th>Low</th>\n",
              "      <th>Close</th>\n",
              "      <th>Volume</th>\n",
              "      <th>OpenInt</th>\n",
              "    </tr>\n",
              "    <tr>\n",
              "      <th>Date</th>\n",
              "      <th></th>\n",
              "      <th></th>\n",
              "      <th></th>\n",
              "      <th></th>\n",
              "      <th></th>\n",
              "      <th></th>\n",
              "    </tr>\n",
              "  </thead>\n",
              "  <tbody>\n",
              "    <tr>\n",
              "      <th>2013-01-02</th>\n",
              "      <td>359.71</td>\n",
              "      <td>363.50</td>\n",
              "      <td>358.28</td>\n",
              "      <td>361.62</td>\n",
              "      <td>5083536</td>\n",
              "      <td>0</td>\n",
              "    </tr>\n",
              "    <tr>\n",
              "      <th>2013-01-03</th>\n",
              "      <td>362.32</td>\n",
              "      <td>365.96</td>\n",
              "      <td>360.36</td>\n",
              "      <td>361.84</td>\n",
              "      <td>4636280</td>\n",
              "      <td>0</td>\n",
              "    </tr>\n",
              "    <tr>\n",
              "      <th>2013-01-04</th>\n",
              "      <td>364.67</td>\n",
              "      <td>370.74</td>\n",
              "      <td>363.84</td>\n",
              "      <td>368.98</td>\n",
              "      <td>5527104</td>\n",
              "      <td>0</td>\n",
              "    </tr>\n",
              "    <tr>\n",
              "      <th>2013-01-07</th>\n",
              "      <td>367.72</td>\n",
              "      <td>369.69</td>\n",
              "      <td>365.29</td>\n",
              "      <td>367.38</td>\n",
              "      <td>3311534</td>\n",
              "      <td>0</td>\n",
              "    </tr>\n",
              "    <tr>\n",
              "      <th>2013-01-08</th>\n",
              "      <td>367.77</td>\n",
              "      <td>368.15</td>\n",
              "      <td>362.22</td>\n",
              "      <td>366.65</td>\n",
              "      <td>3352074</td>\n",
              "      <td>0</td>\n",
              "    </tr>\n",
              "  </tbody>\n",
              "</table>\n",
              "</div>"
            ],
            "text/plain": [
              "              Open    High     Low   Close   Volume  OpenInt\n",
              "Date                                                        \n",
              "2013-01-02  359.71  363.50  358.28  361.62  5083536        0\n",
              "2013-01-03  362.32  365.96  360.36  361.84  4636280        0\n",
              "2013-01-04  364.67  370.74  363.84  368.98  5527104        0\n",
              "2013-01-07  367.72  369.69  365.29  367.38  3311534        0\n",
              "2013-01-08  367.77  368.15  362.22  366.65  3352074        0"
            ]
          },
          "metadata": {
            "tags": []
          },
          "execution_count": 21
        }
      ]
    },
    {
      "cell_type": "code",
      "metadata": {
        "id": "WOkJsnBKJ6wg",
        "colab_type": "code",
        "outputId": "3ef78758-9b55-4e09-ad6a-8cb70466242d",
        "colab": {
          "base_uri": "https://localhost:8080/",
          "height": 228
        }
      },
      "source": [
        "# creating an avg between the high and low prices \n",
        "\n",
        "googl_four_df['avg'] = googl_four_df.apply(lambda row: (row.High + row.Low) / 2, axis=1)\n",
        "googl_four_df.head()"
      ],
      "execution_count": 0,
      "outputs": [
        {
          "output_type": "execute_result",
          "data": {
            "text/html": [
              "<div>\n",
              "<style scoped>\n",
              "    .dataframe tbody tr th:only-of-type {\n",
              "        vertical-align: middle;\n",
              "    }\n",
              "\n",
              "    .dataframe tbody tr th {\n",
              "        vertical-align: top;\n",
              "    }\n",
              "\n",
              "    .dataframe thead th {\n",
              "        text-align: right;\n",
              "    }\n",
              "</style>\n",
              "<table border=\"1\" class=\"dataframe\">\n",
              "  <thead>\n",
              "    <tr style=\"text-align: right;\">\n",
              "      <th></th>\n",
              "      <th>Open</th>\n",
              "      <th>High</th>\n",
              "      <th>Low</th>\n",
              "      <th>Close</th>\n",
              "      <th>Volume</th>\n",
              "      <th>OpenInt</th>\n",
              "      <th>avg</th>\n",
              "    </tr>\n",
              "    <tr>\n",
              "      <th>Date</th>\n",
              "      <th></th>\n",
              "      <th></th>\n",
              "      <th></th>\n",
              "      <th></th>\n",
              "      <th></th>\n",
              "      <th></th>\n",
              "      <th></th>\n",
              "    </tr>\n",
              "  </thead>\n",
              "  <tbody>\n",
              "    <tr>\n",
              "      <th>2013-01-02</th>\n",
              "      <td>359.71</td>\n",
              "      <td>363.50</td>\n",
              "      <td>358.28</td>\n",
              "      <td>361.62</td>\n",
              "      <td>5083536</td>\n",
              "      <td>0</td>\n",
              "      <td>360.890</td>\n",
              "    </tr>\n",
              "    <tr>\n",
              "      <th>2013-01-03</th>\n",
              "      <td>362.32</td>\n",
              "      <td>365.96</td>\n",
              "      <td>360.36</td>\n",
              "      <td>361.84</td>\n",
              "      <td>4636280</td>\n",
              "      <td>0</td>\n",
              "      <td>363.160</td>\n",
              "    </tr>\n",
              "    <tr>\n",
              "      <th>2013-01-04</th>\n",
              "      <td>364.67</td>\n",
              "      <td>370.74</td>\n",
              "      <td>363.84</td>\n",
              "      <td>368.98</td>\n",
              "      <td>5527104</td>\n",
              "      <td>0</td>\n",
              "      <td>367.290</td>\n",
              "    </tr>\n",
              "    <tr>\n",
              "      <th>2013-01-07</th>\n",
              "      <td>367.72</td>\n",
              "      <td>369.69</td>\n",
              "      <td>365.29</td>\n",
              "      <td>367.38</td>\n",
              "      <td>3311534</td>\n",
              "      <td>0</td>\n",
              "      <td>367.490</td>\n",
              "    </tr>\n",
              "    <tr>\n",
              "      <th>2013-01-08</th>\n",
              "      <td>367.77</td>\n",
              "      <td>368.15</td>\n",
              "      <td>362.22</td>\n",
              "      <td>366.65</td>\n",
              "      <td>3352074</td>\n",
              "      <td>0</td>\n",
              "      <td>365.185</td>\n",
              "    </tr>\n",
              "  </tbody>\n",
              "</table>\n",
              "</div>"
            ],
            "text/plain": [
              "              Open    High     Low   Close   Volume  OpenInt      avg\n",
              "Date                                                                 \n",
              "2013-01-02  359.71  363.50  358.28  361.62  5083536        0  360.890\n",
              "2013-01-03  362.32  365.96  360.36  361.84  4636280        0  363.160\n",
              "2013-01-04  364.67  370.74  363.84  368.98  5527104        0  367.290\n",
              "2013-01-07  367.72  369.69  365.29  367.38  3311534        0  367.490\n",
              "2013-01-08  367.77  368.15  362.22  366.65  3352074        0  365.185"
            ]
          },
          "metadata": {
            "tags": []
          },
          "execution_count": 22
        }
      ]
    },
    {
      "cell_type": "code",
      "metadata": {
        "id": "qIEq1ITBcurD",
        "colab_type": "code",
        "colab": {}
      },
      "source": [
        "googl_df['avg'] = googl_df.apply(lambda row: (row.High + row.Low) / 2, axis=1)\n"
      ],
      "execution_count": 0,
      "outputs": []
    },
    {
      "cell_type": "code",
      "metadata": {
        "id": "AjZa_VAqRGlY",
        "colab_type": "code",
        "outputId": "9b9ae885-c038-4344-d550-551d6e89404d",
        "colab": {
          "base_uri": "https://localhost:8080/",
          "height": 104
        }
      },
      "source": [
        "# summary statistics\n",
        "\n",
        "mea = googl_four_df['avg'].mean()\n",
        "mi = googl_four_df['avg'].min()\n",
        "ma = googl_four_df['avg'].max()\n",
        "med = googl_four_df['avg'].median()\n",
        "sd = googl_four_df['avg'].std()\n",
        "\n",
        "print('mean: ', mea)\n",
        "print('median: ', med)\n",
        "print('min: ', mi)\n",
        "print('max: ', ma)\n",
        "print('sd', sd)"
      ],
      "execution_count": 0,
      "outputs": [
        {
          "output_type": "stream",
          "text": [
            "mean:  598.2381076388884\n",
            "median:  569.85\n",
            "min:  350.21500000000003\n",
            "max:  833.49\n",
            "sd 127.5479561189933\n"
          ],
          "name": "stdout"
        }
      ]
    },
    {
      "cell_type": "code",
      "metadata": {
        "id": "c6FyECAPLACM",
        "colab_type": "code",
        "outputId": "959db132-f6de-4752-ec12-14d1a3e67388",
        "colab": {
          "base_uri": "https://localhost:8080/",
          "height": 295
        }
      },
      "source": [
        "googl_four_df['avg'].plot.line()"
      ],
      "execution_count": 0,
      "outputs": [
        {
          "output_type": "execute_result",
          "data": {
            "text/plain": [
              "<matplotlib.axes._subplots.AxesSubplot at 0x7f8d6ac519b0>"
            ]
          },
          "metadata": {
            "tags": []
          },
          "execution_count": 25
        },
        {
          "output_type": "display_data",
          "data": {
            "image/png": "[encoded data removed]",
            "text/plain": [
              "<Figure size 432x288 with 1 Axes>"
            ]
          },
          "metadata": {
            "tags": []
          }
        }
      ]
    },
    {
      "cell_type": "code",
      "metadata": {
        "id": "Tk_ehOoWh3d0",
        "colab_type": "code",
        "outputId": "672eb493-72b4-4549-d203-d6d2a7d2d5a6",
        "colab": {
          "base_uri": "https://localhost:8080/",
          "height": 228
        }
      },
      "source": [
        "googl_four_df['Year'] = googl_four_df.index.year\n",
        "googl_four_df['Month'] = googl_four_df.index.month\n",
        "googl_four_df['Weekday Name'] = googl_four_df.index.weekday_name\n",
        "\n",
        "import calendar\n",
        "googl_four_df['Month Name'] = googl_four_df['Month'].apply(lambda x: calendar.month_abbr[x])\n",
        "\n",
        "googl_four_df.head()"
      ],
      "execution_count": 0,
      "outputs": [
        {
          "output_type": "execute_result",
          "data": {
            "text/html": [
              "<div>\n",
              "<style scoped>\n",
              "    .dataframe tbody tr th:only-of-type {\n",
              "        vertical-align: middle;\n",
              "    }\n",
              "\n",
              "    .dataframe tbody tr th {\n",
              "        vertical-align: top;\n",
              "    }\n",
              "\n",
              "    .dataframe thead th {\n",
              "        text-align: right;\n",
              "    }\n",
              "</style>\n",
              "<table border=\"1\" class=\"dataframe\">\n",
              "  <thead>\n",
              "    <tr style=\"text-align: right;\">\n",
              "      <th></th>\n",
              "      <th>Open</th>\n",
              "      <th>High</th>\n",
              "      <th>Low</th>\n",
              "      <th>Close</th>\n",
              "      <th>Volume</th>\n",
              "      <th>OpenInt</th>\n",
              "      <th>avg</th>\n",
              "      <th>Year</th>\n",
              "      <th>Month</th>\n",
              "      <th>Weekday Name</th>\n",
              "      <th>Month Name</th>\n",
              "    </tr>\n",
              "    <tr>\n",
              "      <th>Date</th>\n",
              "      <th></th>\n",
              "      <th></th>\n",
              "      <th></th>\n",
              "      <th></th>\n",
              "      <th></th>\n",
              "      <th></th>\n",
              "      <th></th>\n",
              "      <th></th>\n",
              "      <th></th>\n",
              "      <th></th>\n",
              "      <th></th>\n",
              "    </tr>\n",
              "  </thead>\n",
              "  <tbody>\n",
              "    <tr>\n",
              "      <th>2013-01-02</th>\n",
              "      <td>359.71</td>\n",
              "      <td>363.50</td>\n",
              "      <td>358.28</td>\n",
              "      <td>361.62</td>\n",
              "      <td>5083536</td>\n",
              "      <td>0</td>\n",
              "      <td>360.890</td>\n",
              "      <td>2013</td>\n",
              "      <td>1</td>\n",
              "      <td>Wednesday</td>\n",
              "      <td>Jan</td>\n",
              "    </tr>\n",
              "    <tr>\n",
              "      <th>2013-01-03</th>\n",
              "      <td>362.32</td>\n",
              "      <td>365.96</td>\n",
              "      <td>360.36</td>\n",
              "      <td>361.84</td>\n",
              "      <td>4636280</td>\n",
              "      <td>0</td>\n",
              "      <td>363.160</td>\n",
              "      <td>2013</td>\n",
              "      <td>1</td>\n",
              "      <td>Thursday</td>\n",
              "      <td>Jan</td>\n",
              "    </tr>\n",
              "    <tr>\n",
              "      <th>2013-01-04</th>\n",
              "      <td>364.67</td>\n",
              "      <td>370.74</td>\n",
              "      <td>363.84</td>\n",
              "      <td>368.98</td>\n",
              "      <td>5527104</td>\n",
              "      <td>0</td>\n",
              "      <td>367.290</td>\n",
              "      <td>2013</td>\n",
              "      <td>1</td>\n",
              "      <td>Friday</td>\n",
              "      <td>Jan</td>\n",
              "    </tr>\n",
              "    <tr>\n",
              "      <th>2013-01-07</th>\n",
              "      <td>367.72</td>\n",
              "      <td>369.69</td>\n",
              "      <td>365.29</td>\n",
              "      <td>367.38</td>\n",
              "      <td>3311534</td>\n",
              "      <td>0</td>\n",
              "      <td>367.490</td>\n",
              "      <td>2013</td>\n",
              "      <td>1</td>\n",
              "      <td>Monday</td>\n",
              "      <td>Jan</td>\n",
              "    </tr>\n",
              "    <tr>\n",
              "      <th>2013-01-08</th>\n",
              "      <td>367.77</td>\n",
              "      <td>368.15</td>\n",
              "      <td>362.22</td>\n",
              "      <td>366.65</td>\n",
              "      <td>3352074</td>\n",
              "      <td>0</td>\n",
              "      <td>365.185</td>\n",
              "      <td>2013</td>\n",
              "      <td>1</td>\n",
              "      <td>Tuesday</td>\n",
              "      <td>Jan</td>\n",
              "    </tr>\n",
              "  </tbody>\n",
              "</table>\n",
              "</div>"
            ],
            "text/plain": [
              "              Open    High     Low   Close  ...  Year  Month  Weekday Name  Month Name\n",
              "Date                                        ...                                       \n",
              "2013-01-02  359.71  363.50  358.28  361.62  ...  2013      1     Wednesday         Jan\n",
              "2013-01-03  362.32  365.96  360.36  361.84  ...  2013      1      Thursday         Jan\n",
              "2013-01-04  364.67  370.74  363.84  368.98  ...  2013      1        Friday         Jan\n",
              "2013-01-07  367.72  369.69  365.29  367.38  ...  2013      1        Monday         Jan\n",
              "2013-01-08  367.77  368.15  362.22  366.65  ...  2013      1       Tuesday         Jan\n",
              "\n",
              "[5 rows x 11 columns]"
            ]
          },
          "metadata": {
            "tags": []
          },
          "execution_count": 26
        }
      ]
    },
    {
      "cell_type": "code",
      "metadata": {
        "id": "nRuIu9CArgEc",
        "colab_type": "code",
        "outputId": "f3542c09-d002-4e4f-e86f-3fdc19ad8844",
        "colab": {
          "base_uri": "https://localhost:8080/",
          "height": 121
        }
      },
      "source": [
        "googl_four_df.groupby('Year')['avg'].count()"
      ],
      "execution_count": 0,
      "outputs": [
        {
          "output_type": "execute_result",
          "data": {
            "text/plain": [
              "Year\n",
              "2013    252\n",
              "2014    252\n",
              "2015    252\n",
              "2016    252\n",
              "Name: avg, dtype: int64"
            ]
          },
          "metadata": {
            "tags": []
          },
          "execution_count": 27
        }
      ]
    },
    {
      "cell_type": "code",
      "metadata": {
        "id": "Wq2OxvswG-D-",
        "colab_type": "code",
        "outputId": "e57d7af2-0537-440b-c11c-7c868202c5ab",
        "colab": {
          "base_uri": "https://localhost:8080/",
          "height": 298
        }
      },
      "source": [
        "# plotting decomposition of time series \n",
        "\n",
        "import statsmodels.api as sm \n",
        "import matplotlib\n",
        "\n",
        "# note that freq=253 since there are 252 trading days in the years (see above cell)\n",
        "decomp = sm.tsa.seasonal_decompose(googl_four_df['avg'], model = 'additive',freq=252)\n",
        "f = decomp.plot()\n",
        "matplotlib.rcParams['figure.figsize'] = [9.0, 5.0]"
      ],
      "execution_count": 0,
      "outputs": [
        {
          "output_type": "display_data",
          "data": {
            "image/png": "[encoded data removed]",
            "text/plain": [
              "<Figure size 432x288 with 4 Axes>"
            ]
          },
          "metadata": {
            "tags": []
          }
        }
      ]
    },
    {
      "cell_type": "markdown",
      "metadata": {
        "id": "OGY9LzaL0W-W",
        "colab_type": "text"
      },
      "source": [
        "There is a clear indication of trend, seasonality, and patterns in the residuals. "
      ]
    },
    {
      "cell_type": "code",
      "metadata": {
        "id": "0ft1FkgtMUTZ",
        "colab_type": "code",
        "outputId": "dbdca213-1861-41be-9f9b-fb55a8b96aa0",
        "colab": {
          "base_uri": "https://localhost:8080/",
          "height": 336
        }
      },
      "source": [
        "# plotting ACF\n",
        "\n",
        "from statsmodels.graphics.tsaplots import plot_acf, plot_pacf\n",
        "import matplotlib.pyplot as plt\n",
        "\n",
        "plot_acf(googl_four_df['avg'])\n",
        "plt.show()"
      ],
      "execution_count": 0,
      "outputs": [
        {
          "output_type": "display_data",
          "data": {
            "image/png": "[encoded data removed]",
            "text/plain": [
              "<Figure size 648x360 with 1 Axes>"
            ]
          },
          "metadata": {
            "tags": []
          }
        }
      ]
    },
    {
      "cell_type": "markdown",
      "metadata": {
        "id": "zOAcCzMzNu4v",
        "colab_type": "text"
      },
      "source": [
        "The trend in the ACF indicates seasonality is present. "
      ]
    },
    {
      "cell_type": "code",
      "metadata": {
        "id": "ztnA09t3NOiJ",
        "colab_type": "code",
        "outputId": "396d57aa-7645-4252-ac43-faa2d5cb4a8c",
        "colab": {
          "base_uri": "https://localhost:8080/",
          "height": 336
        }
      },
      "source": [
        "# plotting PACF\n",
        "\n",
        "plot_pacf(googl_four_df['avg'])\n",
        "plt.show()"
      ],
      "execution_count": 0,
      "outputs": [
        {
          "output_type": "display_data",
          "data": {
            "image/png": "[encoded data removed]",
            "text/plain": [
              "<Figure size 648x360 with 1 Axes>"
            ]
          },
          "metadata": {
            "tags": []
          }
        }
      ]
    },
    {
      "cell_type": "markdown",
      "metadata": {
        "id": "BdAHEWwWPVfD",
        "colab_type": "text"
      },
      "source": [
        "The spikes in the PACF indicate that lags 1 and 2 may be potential values for p in an Autoregressive formula. "
      ]
    },
    {
      "cell_type": "code",
      "metadata": {
        "id": "W0glgdO8hHV4",
        "colab_type": "code",
        "outputId": "14d7613b-2103-46af-916e-08322afcc4ef",
        "colab": {
          "base_uri": "https://localhost:8080/",
          "height": 624
        }
      },
      "source": [
        "# boxplots to observe seasonality \n",
        "\n",
        "import seaborn as sns \n",
        "fig, axes = plt.subplots(1, 1, figsize=(11, 10), sharex=True)\n",
        "sns.boxplot(data=googl_four_df, x='Month', y='avg', ax=axes)\n",
        "axes.set_ylabel('Price')\n"
      ],
      "execution_count": 0,
      "outputs": [
        {
          "output_type": "execute_result",
          "data": {
            "text/plain": [
              "Text(0, 0.5, 'Price')"
            ]
          },
          "metadata": {
            "tags": []
          },
          "execution_count": 31
        },
        {
          "output_type": "display_data",
          "data": {
            "image/png": "[encoded data removed]",
            "text/plain": [
              "<Figure size 792x720 with 1 Axes>"
            ]
          },
          "metadata": {
            "tags": []
          }
        }
      ]
    },
    {
      "cell_type": "markdown",
      "metadata": {
        "id": "PpbkN2Ug3h_g",
        "colab_type": "text"
      },
      "source": [
        "There is clear seasonality. "
      ]
    },
    {
      "cell_type": "markdown",
      "metadata": {
        "id": "aT4T2UM5DVdW",
        "colab_type": "text"
      },
      "source": [
        "# Part 4: Machine Learning"
      ]
    },
    {
      "cell_type": "code",
      "metadata": {
        "id": "FFeBhEPEOhVl",
        "colab_type": "code",
        "colab": {}
      },
      "source": [
        "y_train = googl_four_df['avg']"
      ],
      "execution_count": 0,
      "outputs": []
    },
    {
      "cell_type": "markdown",
      "metadata": {
        "id": "BGGra5hENTaz",
        "colab_type": "text"
      },
      "source": [
        "## Simple Linear Regression Model "
      ]
    },
    {
      "cell_type": "code",
      "metadata": {
        "id": "nq6etWhVNXGj",
        "colab_type": "code",
        "outputId": "5d2b2ad2-d46f-4558-abbe-8e4b642187b9",
        "colab": {
          "base_uri": "https://localhost:8080/",
          "height": 190
        }
      },
      "source": [
        "# Convert dates to a decimal year\n",
        "date = googl_four_df.index\n",
        "t = date.year + (30 * (date.month - 1) + date.day) / 365\n",
        "# t = date.year + (date.month / 12)\n",
        "t"
      ],
      "execution_count": 0,
      "outputs": [
        {
          "output_type": "execute_result",
          "data": {
            "text/plain": [
              "Float64Index([2013.0054794520547, 2013.0082191780823, 2013.0109589041097,\n",
              "              2013.0191780821917,  2013.021917808219, 2013.0246575342467,\n",
              "               2013.027397260274, 2013.0301369863014, 2013.0383561643835,\n",
              "               2013.041095890411,\n",
              "              ...\n",
              "              2016.9479452054795, 2016.9561643835616,  2016.958904109589,\n",
              "              2016.9616438356165,  2016.964383561644, 2016.9671232876713,\n",
              "               2016.978082191781, 2016.9808219178083, 2016.9835616438356,\n",
              "               2016.986301369863],\n",
              "             dtype='float64', name='Date', length=1008)"
            ]
          },
          "metadata": {
            "tags": []
          },
          "execution_count": 33
        }
      ]
    },
    {
      "cell_type": "code",
      "metadata": {
        "id": "eh6zBXerNiCd",
        "colab_type": "code",
        "outputId": "0d8974d7-6002-40f2-d841-aa2c51351f41",
        "colab": {
          "base_uri": "https://localhost:8080/",
          "height": 344
        }
      },
      "source": [
        "from sklearn.linear_model import LinearRegression\n",
        "\n",
        "# Fit linear regression of y on t\n",
        "model = LinearRegression()\n",
        "model.fit(X=t.to_frame(), y=y_train)\n",
        "\n",
        "# Predicting using the model \n",
        "y_train_ = pd.Series(\n",
        "    model.predict(X=t.to_frame()),\n",
        "    index=y_train.index)\n",
        "\n",
        "# Graphing the fit \n",
        "\n",
        "y_train.plot.line()\n",
        "y_train_.plot.line(c='red')"
      ],
      "execution_count": 0,
      "outputs": [
        {
          "output_type": "execute_result",
          "data": {
            "text/plain": [
              "<matplotlib.axes._subplots.AxesSubplot at 0x7f8d4fcc6fd0>"
            ]
          },
          "metadata": {
            "tags": []
          },
          "execution_count": 34
        },
        {
          "output_type": "display_data",
          "data": {
            "image/png": "[encoded data removed]",
            "text/plain": [
              "<Figure size 648x360 with 1 Axes>"
            ]
          },
          "metadata": {
            "tags": []
          }
        }
      ]
    },
    {
      "cell_type": "code",
      "metadata": {
        "id": "MiCiGOnbxR6h",
        "colab_type": "code",
        "outputId": "65d88c4d-092d-44f3-b178-360a774f45f9",
        "colab": {
          "base_uri": "https://localhost:8080/",
          "height": 52
        }
      },
      "source": [
        "model.predict(X=t.to_frame())"
      ],
      "execution_count": 0,
      "outputs": [
        {
          "output_type": "execute_result",
          "data": {
            "text/plain": [
              "array([392.91166429, 393.19376492, 393.47586556, ..., 802.23968551,\n",
              "       802.52178614, 802.80388678])"
            ]
          },
          "metadata": {
            "tags": []
          },
          "execution_count": 35
        }
      ]
    },
    {
      "cell_type": "markdown",
      "metadata": {
        "id": "j3XcVgVHDcG6",
        "colab_type": "text"
      },
      "source": [
        "## Polynomial Regression Model with Seasonality "
      ]
    },
    {
      "cell_type": "code",
      "metadata": {
        "id": "5rUf2r-HOdUj",
        "colab_type": "code",
        "outputId": "809200c4-c53c-42fa-9e11-6df15989b4c1",
        "colab": {
          "base_uri": "https://localhost:8080/",
          "height": 344
        }
      },
      "source": [
        "import numpy as np\n",
        "from sklearn.preprocessing import FunctionTransformer, PolynomialFeatures\n",
        "from sklearn.pipeline import make_union, make_pipeline\n",
        "\n",
        "# Fit linear regression on t, t^2, sin(2 pi t), cos(2 pi t)\n",
        "pipeline = make_pipeline(\n",
        "    make_union(\n",
        "        PolynomialFeatures(degree=3, include_bias=False),\n",
        "        FunctionTransformer(lambda t: np.sin(2 * 12 * np.pi * t)),\n",
        "        FunctionTransformer(lambda t: np.cos(2 * 12 * np.pi * t))\n",
        "    ),\n",
        "    LinearRegression()\n",
        ")\n",
        "pipeline.fit(X=t.to_frame(), y=y_train)\n",
        "\n",
        "# Store model predictions in a Series for easy plotting\n",
        "y_train_ = pd.Series(\n",
        "    pipeline.predict(t.to_frame()),\n",
        "    index=y_train.index\n",
        ")\n",
        "\n",
        "# Plot the data and the fitted trend\n",
        "y_train.plot.line()\n",
        "y_train_.plot.line(c='red')"
      ],
      "execution_count": 0,
      "outputs": [
        {
          "output_type": "execute_result",
          "data": {
            "text/plain": [
              "<matplotlib.axes._subplots.AxesSubplot at 0x7f8d4f5303c8>"
            ]
          },
          "metadata": {
            "tags": []
          },
          "execution_count": 36
        },
        {
          "output_type": "display_data",
          "data": {
            "image/png": "[encoded data removed]",
            "text/plain": [
              "<Figure size 648x360 with 1 Axes>"
            ]
          },
          "metadata": {
            "tags": []
          }
        }
      ]
    },
    {
      "cell_type": "code",
      "metadata": {
        "id": "fH23Lx0z9q-_",
        "colab_type": "code",
        "outputId": "e8c50889-2be4-4e74-8548-e4a42caa6c57",
        "colab": {
          "base_uri": "https://localhost:8080/",
          "height": 228
        }
      },
      "source": [
        "googl_four_df['t'] = t\n",
        "googl_four_df.head()"
      ],
      "execution_count": 0,
      "outputs": [
        {
          "output_type": "execute_result",
          "data": {
            "text/html": [
              "<div>\n",
              "<style scoped>\n",
              "    .dataframe tbody tr th:only-of-type {\n",
              "        vertical-align: middle;\n",
              "    }\n",
              "\n",
              "    .dataframe tbody tr th {\n",
              "        vertical-align: top;\n",
              "    }\n",
              "\n",
              "    .dataframe thead th {\n",
              "        text-align: right;\n",
              "    }\n",
              "</style>\n",
              "<table border=\"1\" class=\"dataframe\">\n",
              "  <thead>\n",
              "    <tr style=\"text-align: right;\">\n",
              "      <th></th>\n",
              "      <th>Open</th>\n",
              "      <th>High</th>\n",
              "      <th>Low</th>\n",
              "      <th>Close</th>\n",
              "      <th>Volume</th>\n",
              "      <th>OpenInt</th>\n",
              "      <th>avg</th>\n",
              "      <th>Year</th>\n",
              "      <th>Month</th>\n",
              "      <th>Weekday Name</th>\n",
              "      <th>Month Name</th>\n",
              "      <th>t</th>\n",
              "    </tr>\n",
              "    <tr>\n",
              "      <th>Date</th>\n",
              "      <th></th>\n",
              "      <th></th>\n",
              "      <th></th>\n",
              "      <th></th>\n",
              "      <th></th>\n",
              "      <th></th>\n",
              "      <th></th>\n",
              "      <th></th>\n",
              "      <th></th>\n",
              "      <th></th>\n",
              "      <th></th>\n",
              "      <th></th>\n",
              "    </tr>\n",
              "  </thead>\n",
              "  <tbody>\n",
              "    <tr>\n",
              "      <th>2013-01-02</th>\n",
              "      <td>359.71</td>\n",
              "      <td>363.50</td>\n",
              "      <td>358.28</td>\n",
              "      <td>361.62</td>\n",
              "      <td>5083536</td>\n",
              "      <td>0</td>\n",
              "      <td>360.890</td>\n",
              "      <td>2013</td>\n",
              "      <td>1</td>\n",
              "      <td>Wednesday</td>\n",
              "      <td>Jan</td>\n",
              "      <td>2013.005479</td>\n",
              "    </tr>\n",
              "    <tr>\n",
              "      <th>2013-01-03</th>\n",
              "      <td>362.32</td>\n",
              "      <td>365.96</td>\n",
              "      <td>360.36</td>\n",
              "      <td>361.84</td>\n",
              "      <td>4636280</td>\n",
              "      <td>0</td>\n",
              "      <td>363.160</td>\n",
              "      <td>2013</td>\n",
              "      <td>1</td>\n",
              "      <td>Thursday</td>\n",
              "      <td>Jan</td>\n",
              "      <td>2013.008219</td>\n",
              "    </tr>\n",
              "    <tr>\n",
              "      <th>2013-01-04</th>\n",
              "      <td>364.67</td>\n",
              "      <td>370.74</td>\n",
              "      <td>363.84</td>\n",
              "      <td>368.98</td>\n",
              "      <td>5527104</td>\n",
              "      <td>0</td>\n",
              "      <td>367.290</td>\n",
              "      <td>2013</td>\n",
              "      <td>1</td>\n",
              "      <td>Friday</td>\n",
              "      <td>Jan</td>\n",
              "      <td>2013.010959</td>\n",
              "    </tr>\n",
              "    <tr>\n",
              "      <th>2013-01-07</th>\n",
              "      <td>367.72</td>\n",
              "      <td>369.69</td>\n",
              "      <td>365.29</td>\n",
              "      <td>367.38</td>\n",
              "      <td>3311534</td>\n",
              "      <td>0</td>\n",
              "      <td>367.490</td>\n",
              "      <td>2013</td>\n",
              "      <td>1</td>\n",
              "      <td>Monday</td>\n",
              "      <td>Jan</td>\n",
              "      <td>2013.019178</td>\n",
              "    </tr>\n",
              "    <tr>\n",
              "      <th>2013-01-08</th>\n",
              "      <td>367.77</td>\n",
              "      <td>368.15</td>\n",
              "      <td>362.22</td>\n",
              "      <td>366.65</td>\n",
              "      <td>3352074</td>\n",
              "      <td>0</td>\n",
              "      <td>365.185</td>\n",
              "      <td>2013</td>\n",
              "      <td>1</td>\n",
              "      <td>Tuesday</td>\n",
              "      <td>Jan</td>\n",
              "      <td>2013.021918</td>\n",
              "    </tr>\n",
              "  </tbody>\n",
              "</table>\n",
              "</div>"
            ],
            "text/plain": [
              "              Open    High     Low  ...  Weekday Name  Month Name            t\n",
              "Date                                ...                                       \n",
              "2013-01-02  359.71  363.50  358.28  ...     Wednesday         Jan  2013.005479\n",
              "2013-01-03  362.32  365.96  360.36  ...      Thursday         Jan  2013.008219\n",
              "2013-01-04  364.67  370.74  363.84  ...        Friday         Jan  2013.010959\n",
              "2013-01-07  367.72  369.69  365.29  ...        Monday         Jan  2013.019178\n",
              "2013-01-08  367.77  368.15  362.22  ...       Tuesday         Jan  2013.021918\n",
              "\n",
              "[5 rows x 12 columns]"
            ]
          },
          "metadata": {
            "tags": []
          },
          "execution_count": 37
        }
      ]
    },
    {
      "cell_type": "markdown",
      "metadata": {
        "id": "DX3aOVZZDiqg",
        "colab_type": "text"
      },
      "source": [
        "## Generalized Least Squares Model\n",
        "\n",
        "Since a normal regression model does not account for the fact that errors/residuals are correlated over time, and generalized least squares does account for this."
      ]
    },
    {
      "cell_type": "code",
      "metadata": {
        "id": "k0f6s7TU-Ztm",
        "colab_type": "code",
        "outputId": "1538d8d1-4d0f-43ad-9982-73cf4b72622a",
        "colab": {
          "base_uri": "https://localhost:8080/",
          "height": 352
        }
      },
      "source": [
        "exo = googl_four_df[['t', 'Weekday Name', 'Month Name']]\n",
        "exo = pd.get_dummies(exo)\n",
        "exo.tail()"
      ],
      "execution_count": 0,
      "outputs": [
        {
          "output_type": "execute_result",
          "data": {
            "text/html": [
              "<div>\n",
              "<style scoped>\n",
              "    .dataframe tbody tr th:only-of-type {\n",
              "        vertical-align: middle;\n",
              "    }\n",
              "\n",
              "    .dataframe tbody tr th {\n",
              "        vertical-align: top;\n",
              "    }\n",
              "\n",
              "    .dataframe thead th {\n",
              "        text-align: right;\n",
              "    }\n",
              "</style>\n",
              "<table border=\"1\" class=\"dataframe\">\n",
              "  <thead>\n",
              "    <tr style=\"text-align: right;\">\n",
              "      <th></th>\n",
              "      <th>t</th>\n",
              "      <th>Weekday Name_Friday</th>\n",
              "      <th>Weekday Name_Monday</th>\n",
              "      <th>Weekday Name_Thursday</th>\n",
              "      <th>Weekday Name_Tuesday</th>\n",
              "      <th>Weekday Name_Wednesday</th>\n",
              "      <th>Month Name_Apr</th>\n",
              "      <th>Month Name_Aug</th>\n",
              "      <th>Month Name_Dec</th>\n",
              "      <th>Month Name_Feb</th>\n",
              "      <th>Month Name_Jan</th>\n",
              "      <th>Month Name_Jul</th>\n",
              "      <th>Month Name_Jun</th>\n",
              "      <th>Month Name_Mar</th>\n",
              "      <th>Month Name_May</th>\n",
              "      <th>Month Name_Nov</th>\n",
              "      <th>Month Name_Oct</th>\n",
              "      <th>Month Name_Sep</th>\n",
              "    </tr>\n",
              "    <tr>\n",
              "      <th>Date</th>\n",
              "      <th></th>\n",
              "      <th></th>\n",
              "      <th></th>\n",
              "      <th></th>\n",
              "      <th></th>\n",
              "      <th></th>\n",
              "      <th></th>\n",
              "      <th></th>\n",
              "      <th></th>\n",
              "      <th></th>\n",
              "      <th></th>\n",
              "      <th></th>\n",
              "      <th></th>\n",
              "      <th></th>\n",
              "      <th></th>\n",
              "      <th></th>\n",
              "      <th></th>\n",
              "      <th></th>\n",
              "    </tr>\n",
              "  </thead>\n",
              "  <tbody>\n",
              "    <tr>\n",
              "      <th>2016-12-23</th>\n",
              "      <td>2016.967123</td>\n",
              "      <td>1</td>\n",
              "      <td>0</td>\n",
              "      <td>0</td>\n",
              "      <td>0</td>\n",
              "      <td>0</td>\n",
              "      <td>0</td>\n",
              "      <td>0</td>\n",
              "      <td>1</td>\n",
              "      <td>0</td>\n",
              "      <td>0</td>\n",
              "      <td>0</td>\n",
              "      <td>0</td>\n",
              "      <td>0</td>\n",
              "      <td>0</td>\n",
              "      <td>0</td>\n",
              "      <td>0</td>\n",
              "      <td>0</td>\n",
              "    </tr>\n",
              "    <tr>\n",
              "      <th>2016-12-27</th>\n",
              "      <td>2016.978082</td>\n",
              "      <td>0</td>\n",
              "      <td>0</td>\n",
              "      <td>0</td>\n",
              "      <td>1</td>\n",
              "      <td>0</td>\n",
              "      <td>0</td>\n",
              "      <td>0</td>\n",
              "      <td>1</td>\n",
              "      <td>0</td>\n",
              "      <td>0</td>\n",
              "      <td>0</td>\n",
              "      <td>0</td>\n",
              "      <td>0</td>\n",
              "      <td>0</td>\n",
              "      <td>0</td>\n",
              "      <td>0</td>\n",
              "      <td>0</td>\n",
              "    </tr>\n",
              "    <tr>\n",
              "      <th>2016-12-28</th>\n",
              "      <td>2016.980822</td>\n",
              "      <td>0</td>\n",
              "      <td>0</td>\n",
              "      <td>0</td>\n",
              "      <td>0</td>\n",
              "      <td>1</td>\n",
              "      <td>0</td>\n",
              "      <td>0</td>\n",
              "      <td>1</td>\n",
              "      <td>0</td>\n",
              "      <td>0</td>\n",
              "      <td>0</td>\n",
              "      <td>0</td>\n",
              "      <td>0</td>\n",
              "      <td>0</td>\n",
              "      <td>0</td>\n",
              "      <td>0</td>\n",
              "      <td>0</td>\n",
              "    </tr>\n",
              "    <tr>\n",
              "      <th>2016-12-29</th>\n",
              "      <td>2016.983562</td>\n",
              "      <td>0</td>\n",
              "      <td>0</td>\n",
              "      <td>1</td>\n",
              "      <td>0</td>\n",
              "      <td>0</td>\n",
              "      <td>0</td>\n",
              "      <td>0</td>\n",
              "      <td>1</td>\n",
              "      <td>0</td>\n",
              "      <td>0</td>\n",
              "      <td>0</td>\n",
              "      <td>0</td>\n",
              "      <td>0</td>\n",
              "      <td>0</td>\n",
              "      <td>0</td>\n",
              "      <td>0</td>\n",
              "      <td>0</td>\n",
              "    </tr>\n",
              "    <tr>\n",
              "      <th>2016-12-30</th>\n",
              "      <td>2016.986301</td>\n",
              "      <td>1</td>\n",
              "      <td>0</td>\n",
              "      <td>0</td>\n",
              "      <td>0</td>\n",
              "      <td>0</td>\n",
              "      <td>0</td>\n",
              "      <td>0</td>\n",
              "      <td>1</td>\n",
              "      <td>0</td>\n",
              "      <td>0</td>\n",
              "      <td>0</td>\n",
              "      <td>0</td>\n",
              "      <td>0</td>\n",
              "      <td>0</td>\n",
              "      <td>0</td>\n",
              "      <td>0</td>\n",
              "      <td>0</td>\n",
              "    </tr>\n",
              "  </tbody>\n",
              "</table>\n",
              "</div>"
            ],
            "text/plain": [
              "                      t  Weekday Name_Friday  ...  Month Name_Oct  Month Name_Sep\n",
              "Date                                          ...                                \n",
              "2016-12-23  2016.967123                    1  ...               0               0\n",
              "2016-12-27  2016.978082                    0  ...               0               0\n",
              "2016-12-28  2016.980822                    0  ...               0               0\n",
              "2016-12-29  2016.983562                    0  ...               0               0\n",
              "2016-12-30  2016.986301                    1  ...               0               0\n",
              "\n",
              "[5 rows x 18 columns]"
            ]
          },
          "metadata": {
            "tags": []
          },
          "execution_count": 38
        }
      ]
    },
    {
      "cell_type": "code",
      "metadata": {
        "id": "W5FCNyAUdBXS",
        "colab_type": "code",
        "outputId": "b2bc1671-fa78-441c-b64a-b05b6656014d",
        "colab": {
          "base_uri": "https://localhost:8080/",
          "height": 344
        }
      },
      "source": [
        "import statsmodels.api as sm\n",
        "\n",
        "# price_list = prices.tolist()\n",
        "\n",
        "first_gls = sm.GLS(endog = y_train, exog = exo)\n",
        "gls1_results = first_gls.fit()\n",
        "gls1_pred = gls1_results.predict(exo)\n",
        "\n",
        "# Store model predictions in a Series for easy plotting\n",
        "y_train_ = pd.Series(\n",
        "    gls1_pred\n",
        ")\n",
        "\n",
        "# Plot the data and the fitted trend\n",
        "y_train.plot.line()\n",
        "y_train_.plot.line(c='red')\n"
      ],
      "execution_count": 0,
      "outputs": [
        {
          "output_type": "execute_result",
          "data": {
            "text/plain": [
              "<matplotlib.axes._subplots.AxesSubplot at 0x7f8d51d996d8>"
            ]
          },
          "metadata": {
            "tags": []
          },
          "execution_count": 39
        },
        {
          "output_type": "display_data",
          "data": {
            "image/png": "[encoded data removed]",
            "text/plain": [
              "<Figure size 648x360 with 1 Axes>"
            ]
          },
          "metadata": {
            "tags": []
          }
        }
      ]
    },
    {
      "cell_type": "code",
      "metadata": {
        "id": "3y41uEZpgQDN",
        "colab_type": "code",
        "outputId": "227fdb8f-e593-4e5d-d9d4-1880132ece19",
        "colab": {
          "base_uri": "https://localhost:8080/",
          "height": 242
        }
      },
      "source": [
        "gls1_pred"
      ],
      "execution_count": 0,
      "outputs": [
        {
          "output_type": "execute_result",
          "data": {
            "text/plain": [
              "Date\n",
              "2013-01-02    390.343040\n",
              "2013-01-03    391.554171\n",
              "2013-01-04    391.268905\n",
              "2013-01-07    391.199027\n",
              "2013-01-08    392.317648\n",
              "                 ...    \n",
              "2016-12-23    814.885233\n",
              "2016-12-27    815.933976\n",
              "2016-12-28    815.905558\n",
              "2016-12-29    817.116690\n",
              "2016-12-30    816.831424\n",
              "Length: 1008, dtype: float64"
            ]
          },
          "metadata": {
            "tags": []
          },
          "execution_count": 40
        }
      ]
    },
    {
      "cell_type": "markdown",
      "metadata": {
        "id": "DmHRyVA6GB1p",
        "colab_type": "text"
      },
      "source": [
        "## ARIMA Models"
      ]
    },
    {
      "cell_type": "markdown",
      "metadata": {
        "id": "8Bfh9nvWR4j3",
        "colab_type": "text"
      },
      "source": [
        "First, to determine the validity of fitting an ARIMA model to these data, we had to test for stationarity. Test details found through this link: https://www.analyticsvidhya.com/blog/2018/09/non-stationary-time-series-python/"
      ]
    },
    {
      "cell_type": "code",
      "metadata": {
        "id": "t7jECLGQK0tg",
        "colab_type": "code",
        "outputId": "8e7fc215-9075-41f8-8796-13cbbfd848cb",
        "colab": {
          "base_uri": "https://localhost:8080/",
          "height": 173
        }
      },
      "source": [
        "#define function for ADF test\n",
        "from statsmodels.tsa.stattools import adfuller\n",
        "def adf_test(timeseries):\n",
        "    #Perform Dickey-Fuller test:\n",
        "    print ('Results of Dickey-Fuller Test:')\n",
        "    dftest = adfuller(timeseries, autolag='AIC')\n",
        "    dfoutput = pd.Series(dftest[0:4], index=['Test Statistic','p-value','#Lags Used','Number of Observations Used'])\n",
        "    dfoutput = round(dfoutput, 2)\n",
        "    for key,value in dftest[4].items():\n",
        "       dfoutput['Critical Value (%s)'%key] = round(value , 2)\n",
        "    print (dfoutput)\n",
        "\n",
        "#apply adf test on the series\n",
        "adf_test(y_train)"
      ],
      "execution_count": 0,
      "outputs": [
        {
          "output_type": "stream",
          "text": [
            "Results of Dickey-Fuller Test:\n",
            "Test Statistic                   -1.25\n",
            "p-value                           0.65\n",
            "#Lags Used                        4.00\n",
            "Number of Observations Used    1003.00\n",
            "Critical Value (1%)              -3.44\n",
            "Critical Value (5%)              -2.86\n",
            "Critical Value (10%)             -2.57\n",
            "dtype: float64\n"
          ],
          "name": "stdout"
        }
      ]
    },
    {
      "cell_type": "markdown",
      "metadata": {
        "id": "CEmrJLJALJa0",
        "colab_type": "text"
      },
      "source": [
        "The ADF test shows that there is not stationarity in the time series, which means differencing is needed for modeling this time series. "
      ]
    },
    {
      "cell_type": "code",
      "metadata": {
        "id": "j4hE3apZMINe",
        "colab_type": "code",
        "outputId": "0c1b8234-da5d-4606-cba9-901c0a55c3dd",
        "colab": {
          "base_uri": "https://localhost:8080/",
          "height": 346
        }
      },
      "source": [
        "diff1 = y_train.diff()\n",
        "\n",
        "# 1st Differencing\n",
        "(diff1).plot.line()\n",
        "# plot_acf(y_train.diff().dropna())"
      ],
      "execution_count": 0,
      "outputs": [
        {
          "output_type": "execute_result",
          "data": {
            "text/plain": [
              "<matplotlib.axes._subplots.AxesSubplot at 0x7f8d4f4a5898>"
            ]
          },
          "metadata": {
            "tags": []
          },
          "execution_count": 42
        },
        {
          "output_type": "display_data",
          "data": {
            "image/png": "[encoded data removed]",
            "text/plain": [
              "<Figure size 648x360 with 1 Axes>"
            ]
          },
          "metadata": {
            "tags": []
          }
        }
      ]
    },
    {
      "cell_type": "code",
      "metadata": {
        "id": "_Zn-83H0QZam",
        "colab_type": "code",
        "outputId": "ece8e2e7-54ab-46e7-db0e-e82e8fa84750",
        "colab": {
          "base_uri": "https://localhost:8080/",
          "height": 336
        }
      },
      "source": [
        "diff1_acf = plot_acf(diff1.dropna())"
      ],
      "execution_count": 0,
      "outputs": [
        {
          "output_type": "display_data",
          "data": {
            "image/png": "[encoded data removed]",
            "text/plain": [
              "<Figure size 648x360 with 1 Axes>"
            ]
          },
          "metadata": {
            "tags": []
          }
        }
      ]
    },
    {
      "cell_type": "code",
      "metadata": {
        "id": "v8Jy1i1qUyYy",
        "colab_type": "code",
        "outputId": "e9dd3e66-4388-4f4f-bf12-cb93e02eebea",
        "colab": {
          "base_uri": "https://localhost:8080/",
          "height": 336
        }
      },
      "source": [
        "diff1_pacf = plot_pacf(diff1.dropna())"
      ],
      "execution_count": 0,
      "outputs": [
        {
          "output_type": "display_data",
          "data": {
            "image/png": "[encoded data removed]",
            "text/plain": [
              "<Figure size 648x360 with 1 Axes>"
            ]
          },
          "metadata": {
            "tags": []
          }
        }
      ]
    },
    {
      "cell_type": "code",
      "metadata": {
        "id": "T-wdYdvuQhR2",
        "colab_type": "code",
        "outputId": "fcf5aba5-9bfd-43a9-dc3e-e64386126713",
        "colab": {
          "base_uri": "https://localhost:8080/",
          "height": 173
        }
      },
      "source": [
        "adf_test(diff1.dropna())"
      ],
      "execution_count": 0,
      "outputs": [
        {
          "output_type": "stream",
          "text": [
            "Results of Dickey-Fuller Test:\n",
            "Test Statistic                  -16.91\n",
            "p-value                           0.00\n",
            "#Lags Used                        3.00\n",
            "Number of Observations Used    1003.00\n",
            "Critical Value (1%)              -3.44\n",
            "Critical Value (5%)              -2.86\n",
            "Critical Value (10%)             -2.57\n",
            "dtype: float64\n"
          ],
          "name": "stdout"
        }
      ]
    },
    {
      "cell_type": "code",
      "metadata": {
        "id": "IWKX7m4NQlr4",
        "colab_type": "code",
        "outputId": "aa62f911-b9f6-44dd-9a93-2eebbb20534f",
        "colab": {
          "base_uri": "https://localhost:8080/",
          "height": 369
        }
      },
      "source": [
        "decomp = sm.tsa.seasonal_decompose(diff1.dropna(), model = 'additive',freq=252)\n",
        "f = decomp.plot()\n",
        "matplotlib.rcParams['figure.figsize'] = [9.0, 5.0]"
      ],
      "execution_count": 0,
      "outputs": [
        {
          "output_type": "display_data",
          "data": {
            "image/png": "[encoded data removed]",
            "text/plain": [
              "<Figure size 648x360 with 4 Axes>"
            ]
          },
          "metadata": {
            "tags": []
          }
        }
      ]
    },
    {
      "cell_type": "markdown",
      "metadata": {
        "id": "KqJvYFt3SQZx",
        "colab_type": "text"
      },
      "source": [
        "First differencing solves the stationarity. "
      ]
    },
    {
      "cell_type": "code",
      "metadata": {
        "id": "su7C0LifHPkO",
        "colab_type": "code",
        "outputId": "d323d233-4f2a-484d-dc3b-f83596b94036",
        "colab": {
          "base_uri": "https://localhost:8080/",
          "height": 469
        }
      },
      "source": [
        "from statsmodels.tsa.arima_model import ARIMA\n",
        "\n",
        "model111 = ARIMA(y_train[:-252], order=(1,1,1))#, freq = 'D')\n",
        "model111_fit = model111.fit(trend='nc')\n",
        "print(model111_fit.summary())"
      ],
      "execution_count": 0,
      "outputs": [
        {
          "output_type": "stream",
          "text": [
            "                             ARIMA Model Results                              \n",
            "==============================================================================\n",
            "Dep. Variable:                  D.avg   No. Observations:                  755\n",
            "Model:                 ARIMA(1, 1, 1)   Log Likelihood               -2579.419\n",
            "Method:                       css-mle   S.D. of innovations              7.371\n",
            "Date:                Mon, 16 Mar 2020   AIC                           5164.838\n",
            "Time:                        04:58:54   BIC                           5178.718\n",
            "Sample:                             1   HQIC                          5170.185\n",
            "                                                                              \n",
            "===============================================================================\n",
            "                  coef    std err          z      P>|z|      [0.025      0.975]\n",
            "-------------------------------------------------------------------------------\n",
            "ar.L1.D.avg    -0.0844      0.192     -0.440      0.660      -0.460       0.291\n",
            "ma.L1.D.avg     0.2667      0.185      1.440      0.150      -0.096       0.630\n",
            "                                    Roots                                    \n",
            "=============================================================================\n",
            "                  Real          Imaginary           Modulus         Frequency\n",
            "-----------------------------------------------------------------------------\n",
            "AR.1          -11.8462           +0.0000j           11.8462            0.5000\n",
            "MA.1           -3.7492           +0.0000j            3.7492            0.5000\n",
            "-----------------------------------------------------------------------------\n"
          ],
          "name": "stdout"
        },
        {
          "output_type": "stream",
          "text": [
            "/usr/local/lib/python3.6/dist-packages/statsmodels/tsa/base/tsa_model.py:219: ValueWarning: A date index has been provided, but it has no associated frequency information and so will be ignored when e.g. forecasting.\n",
            "  ' ignored when e.g. forecasting.', ValueWarning)\n",
            "/usr/local/lib/python3.6/dist-packages/statsmodels/tsa/base/tsa_model.py:219: ValueWarning: A date index has been provided, but it has no associated frequency information and so will be ignored when e.g. forecasting.\n",
            "  ' ignored when e.g. forecasting.', ValueWarning)\n"
          ],
          "name": "stderr"
        }
      ]
    },
    {
      "cell_type": "code",
      "metadata": {
        "id": "f_wpHfX1VJyq",
        "colab_type": "code",
        "outputId": "40c88126-407e-406f-9354-8b68cb74d57d",
        "colab": {
          "base_uri": "https://localhost:8080/",
          "height": 35
        }
      },
      "source": [
        "gls1_results.aic"
      ],
      "execution_count": 0,
      "outputs": [
        {
          "output_type": "execute_result",
          "data": {
            "text/plain": [
              "10534.188788002451"
            ]
          },
          "metadata": {
            "tags": []
          },
          "execution_count": 48
        }
      ]
    },
    {
      "cell_type": "code",
      "metadata": {
        "id": "lc1MTIctVTFY",
        "colab_type": "code",
        "outputId": "35f05f86-3696-4ec7-bb43-1250d6cf4344",
        "colab": {
          "base_uri": "https://localhost:8080/",
          "height": 326
        }
      },
      "source": [
        "pl = model111_fit.plot_predict(dynamic=False)\n",
        "plt.show()"
      ],
      "execution_count": 0,
      "outputs": [
        {
          "output_type": "display_data",
          "data": {
            "image/png": "[encoded data removed]",
            "text/plain": [
              "<Figure size 648x360 with 1 Axes>"
            ]
          },
          "metadata": {
            "tags": []
          }
        }
      ]
    },
    {
      "cell_type": "code",
      "metadata": {
        "id": "svJLmGNaXU-T",
        "colab_type": "code",
        "colab": {}
      },
      "source": [
        "def inverse_difference(history, yhat, interval=1):\n",
        "\treturn yhat + history[-interval]"
      ],
      "execution_count": 0,
      "outputs": []
    },
    {
      "cell_type": "code",
      "metadata": {
        "id": "OY18JJkCWrde",
        "colab_type": "code",
        "outputId": "cb88edec-9641-42d2-c839-3d6d29476bf3",
        "colab": {
          "base_uri": "https://localhost:8080/",
          "height": 104
        }
      },
      "source": [
        "f = model111_fit.predict()\n",
        "fits_arima = []\n",
        "for i in range(len(f)):\n",
        "  fi = inverse_difference(y_train[:-252], f[i], -i)\n",
        "  fits_arima.append(fi)\n",
        "\n",
        "fits_arima[0:5]"
      ],
      "execution_count": 0,
      "outputs": [
        {
          "output_type": "execute_result",
          "data": {
            "text/plain": [
              "[360.89,\n",
              " 363.55422790004195,\n",
              " 367.93549139676554,\n",
              " 367.35431344011886,\n",
              " 364.80097762098615]"
            ]
          },
          "metadata": {
            "tags": []
          },
          "execution_count": 51
        }
      ]
    },
    {
      "cell_type": "code",
      "metadata": {
        "id": "VFuOEZKbYPTk",
        "colab_type": "code",
        "outputId": "d0f5a39f-37ac-4162-b37c-03c8e59b8c69",
        "colab": {
          "base_uri": "https://localhost:8080/",
          "height": 35
        }
      },
      "source": [
        "from sklearn.metrics import mean_squared_error\n",
        "\n",
        "mean_squared_error(fits_arima, y_train[:-253]) ** .5"
      ],
      "execution_count": 0,
      "outputs": [
        {
          "output_type": "execute_result",
          "data": {
            "text/plain": [
              "1.3474925198864283"
            ]
          },
          "metadata": {
            "tags": []
          },
          "execution_count": 52
        }
      ]
    },
    {
      "cell_type": "code",
      "metadata": {
        "id": "G1EsJlpwbatD",
        "colab_type": "code",
        "outputId": "1d73472b-0655-413f-942a-75a463667f5f",
        "colab": {
          "base_uri": "https://localhost:8080/",
          "height": 158
        }
      },
      "source": [
        "forc = model111_fit.predict(start= 755, end = 1006)\n",
        "edited_forecasts_2016 = []\n",
        "for i in range(len(forc)):\n",
        "  fi_p = inverse_difference(y_train[-252:], forc[i + 754], -i)\n",
        "  edited_forecasts_2016.append(fi_p)\n",
        "\n",
        "edited_forecasts_2016[0:5]"
      ],
      "execution_count": 0,
      "outputs": [
        {
          "output_type": "stream",
          "text": [
            "/usr/local/lib/python3.6/dist-packages/statsmodels/tsa/base/tsa_model.py:576: ValueWarning: No supported index is available. Prediction results will be given with an integer index beginning at `start`.\n",
            "  ValueWarning)\n"
          ],
          "name": "stderr"
        },
        {
          "output_type": "execute_result",
          "data": {
            "text/plain": [
              "[754.0231097109523,\n",
              " 761.0096578427907,\n",
              " 756.9844765498486,\n",
              " 745.2849143497626,\n",
              " 739.5208513833119]"
            ]
          },
          "metadata": {
            "tags": []
          },
          "execution_count": 53
        }
      ]
    },
    {
      "cell_type": "code",
      "metadata": {
        "colab_type": "code",
        "outputId": "9ca30fcd-d542-4380-c3cc-8e790711f187",
        "id": "cJvSFw9cb3Ab",
        "colab": {
          "base_uri": "https://localhost:8080/",
          "height": 345
        }
      },
      "source": [
        "forecast_2016 = pd.Series(edited_forecasts_2016, index=y_train[-252:].index)\n",
        "forecast_2016.plot.line(legend=True, lw=2)\n",
        "y_train[-252:].plot.line(legend=True, lw = 4, alpha = .5)"
      ],
      "execution_count": 0,
      "outputs": [
        {
          "output_type": "execute_result",
          "data": {
            "text/plain": [
              "<matplotlib.axes._subplots.AxesSubplot at 0x7f8d4d8710b8>"
            ]
          },
          "metadata": {
            "tags": []
          },
          "execution_count": 54
        },
        {
          "output_type": "display_data",
          "data": {
            "image/png": "[encoded data removed]",
            "text/plain": [
              "<Figure size 648x360 with 1 Axes>"
            ]
          },
          "metadata": {
            "tags": []
          }
        }
      ]
    },
    {
      "cell_type": "code",
      "metadata": {
        "id": "8tyY3lQfcC6-",
        "colab_type": "code",
        "outputId": "6a906550-b9f5-4dd3-e035-5c80b6a0a883",
        "colab": {
          "base_uri": "https://localhost:8080/",
          "height": 35
        }
      },
      "source": [
        "from sklearn.metrics import mean_squared_error\n",
        "\n",
        "mean_squared_error(forecast_2016, y_train[-252:]) ** .5"
      ],
      "execution_count": 0,
      "outputs": [
        {
          "output_type": "execute_result",
          "data": {
            "text/plain": [
              "0.10417464121889002"
            ]
          },
          "metadata": {
            "tags": []
          },
          "execution_count": 55
        }
      ]
    },
    {
      "cell_type": "markdown",
      "metadata": {
        "id": "czV57fBagM-Z",
        "colab_type": "text"
      },
      "source": [
        "## SARIMA Model"
      ]
    },
    {
      "cell_type": "code",
      "metadata": {
        "id": "Nee8gu2LgdL5",
        "colab_type": "code",
        "colab": {}
      },
      "source": [
        "import itertools"
      ],
      "execution_count": 0,
      "outputs": []
    },
    {
      "cell_type": "code",
      "metadata": {
        "id": "T-qf6mtWgckj",
        "colab_type": "code",
        "colab": {}
      },
      "source": [
        "p = d = q = range(0, 2)\n",
        "pdq = list(itertools.product(p, d, q))\n",
        "seasonal_pdq = [(x[0], x[1], x[2], 12) for x in list(itertools.product(p, d, q))]"
      ],
      "execution_count": 0,
      "outputs": []
    },
    {
      "cell_type": "code",
      "metadata": {
        "id": "pQj540gqhSUp",
        "colab_type": "code",
        "colab": {}
      },
      "source": [
        "y_train.index = pd.DatetimeIndex(y_train.index).to_period('D')\n"
      ],
      "execution_count": 0,
      "outputs": []
    },
    {
      "cell_type": "code",
      "metadata": {
        "id": "xQ4YUc6IAlNL",
        "colab_type": "code",
        "outputId": "943e7acf-31c4-4df1-a2e1-7b438e6c2ca2",
        "colab": {
          "base_uri": "https://localhost:8080/",
          "height": 155
        }
      },
      "source": [
        "seasonal_pdq"
      ],
      "execution_count": 0,
      "outputs": [
        {
          "output_type": "execute_result",
          "data": {
            "text/plain": [
              "[(0, 0, 0, 12),\n",
              " (0, 0, 1, 12),\n",
              " (0, 1, 0, 12),\n",
              " (0, 1, 1, 12),\n",
              " (1, 0, 0, 12),\n",
              " (1, 0, 1, 12),\n",
              " (1, 1, 0, 12),\n",
              " (1, 1, 1, 12)]"
            ]
          },
          "metadata": {
            "tags": []
          },
          "execution_count": 59
        }
      ]
    },
    {
      "cell_type": "code",
      "metadata": {
        "id": "BxlPVwrXgjH1",
        "colab_type": "code",
        "outputId": "1dc6665e-e44a-4c3f-dcec-7525bb67db5d",
        "colab": {
          "base_uri": "https://localhost:8080/",
          "height": 104
        }
      },
      "source": [
        "all_sarima = pd.Series()\n",
        "\n",
        "for param in pdq:\n",
        "    for param_seasonal in seasonal_pdq:\n",
        "        try:\n",
        "            mod = sm.tsa.statespace.SARIMAX(y_train, order=param, seasonal_order=param_seasonal, \n",
        "                                            enforce_stationarity=False, enforce_invertibility=False)\n",
        "            results = mod.fit()\n",
        "            all_sarima['ARIMA{}x{}12'.format(param, param_seasonal)] = results.aic\n",
        "            #print('ARIMA{}x{}12 - AIC:{}'.format(param,param_seasonal,results.aic))\n",
        "        except: \n",
        "            continue\n",
        "\n",
        "all_sarima.idxmin()"
      ],
      "execution_count": 0,
      "outputs": [
        {
          "output_type": "stream",
          "text": [
            "/usr/local/lib/python3.6/dist-packages/statsmodels/base/model.py:512: ConvergenceWarning: Maximum Likelihood optimization failed to converge. Check mle_retvals\n",
            "  \"Check mle_retvals\", ConvergenceWarning)\n",
            "/usr/local/lib/python3.6/dist-packages/statsmodels/base/model.py:512: ConvergenceWarning: Maximum Likelihood optimization failed to converge. Check mle_retvals\n",
            "  \"Check mle_retvals\", ConvergenceWarning)\n"
          ],
          "name": "stderr"
        },
        {
          "output_type": "execute_result",
          "data": {
            "text/plain": [
              "'ARIMA(0, 1, 1)x(0, 1, 1, 12)12'"
            ]
          },
          "metadata": {
            "tags": []
          },
          "execution_count": 60
        }
      ]
    },
    {
      "cell_type": "code",
      "metadata": {
        "id": "QrAn5OFORWGC",
        "colab_type": "code",
        "outputId": "d3d30033-7516-4ff8-805f-0c76704ea5d2",
        "colab": {
          "base_uri": "https://localhost:8080/",
          "height": 35
        }
      },
      "source": [
        "all_sarima.min()"
      ],
      "execution_count": 0,
      "outputs": [
        {
          "output_type": "execute_result",
          "data": {
            "text/plain": [
              "6834.049689293803"
            ]
          },
          "metadata": {
            "tags": []
          },
          "execution_count": 61
        }
      ]
    },
    {
      "cell_type": "code",
      "metadata": {
        "id": "v7ElKgWuA04g",
        "colab_type": "code",
        "colab": {}
      },
      "source": [
        "mod = sm.tsa.statespace.SARIMAX(y_train, order=(1, 1, 1), seasonal_order=(1, 1, 1, 12), \n",
        "                                            enforce_stationarity=False, enforce_invertibility=False)"
      ],
      "execution_count": 0,
      "outputs": []
    },
    {
      "cell_type": "markdown",
      "metadata": {
        "id": "wpuAzAIpDI6Q",
        "colab_type": "text"
      },
      "source": [
        "## Long Short Term Memory Machine Learning Implementation\n",
        "\n",
        "This modeling technique is a form of a Recurrent Neural Network that accounts for both recent history data points and long term history data points to make predictions. \n",
        "\n",
        "Sources: \n",
        "\n",
        "https://machinelearningmastery.com/time-series-forecasting-long-short-term-memory-network-python/\n"
      ]
    },
    {
      "cell_type": "code",
      "metadata": {
        "id": "fICfqPxamL0S",
        "colab_type": "code",
        "outputId": "001b88b5-34c9-43c5-bf91-a80b9e31e097",
        "colab": {
          "base_uri": "https://localhost:8080/",
          "height": 64
        }
      },
      "source": [
        "import tensorflow as tf"
      ],
      "execution_count": 0,
      "outputs": [
        {
          "output_type": "display_data",
          "data": {
            "text/html": [
              "<p style=\"color: red;\">\n",
              "The default version of TensorFlow in Colab will soon switch to TensorFlow 2.x.<br>\n",
              "We recommend you <a href=\"https://www.tensorflow.org/guide/migrate\" target=\"_blank\">upgrade</a> now \n",
              "or ensure your notebook will continue to use TensorFlow 1.x via the <code>%tensorflow_version 1.x</code> magic:\n",
              "<a href=\"https://colab.research.google.com/notebooks/tensorflow_version.ipynb\" target=\"_blank\">more info</a>.</p>\n"
            ],
            "text/plain": [
              "<IPython.core.display.HTML object>"
            ]
          },
          "metadata": {
            "tags": []
          }
        }
      ]
    },
    {
      "cell_type": "markdown",
      "metadata": {
        "id": "S2kQWgSrUab6",
        "colab_type": "text"
      },
      "source": [
        "### Model focused on minimizing Train Error, predictions not as good"
      ]
    },
    {
      "cell_type": "code",
      "metadata": {
        "id": "y97yKY1SoYyC",
        "colab_type": "code",
        "outputId": "6e407cd7-5b5e-47d2-9cb7-aaca5fe7c2a1",
        "colab": {
          "base_uri": "https://localhost:8080/",
          "height": 841
        }
      },
      "source": [
        "from sklearn.metrics import mean_squared_error\n",
        "from sklearn.preprocessing import MinMaxScaler\n",
        "from keras.models import Sequential\n",
        "from keras.layers import Dense\n",
        "from keras.layers import LSTM\n",
        "from math import sqrt\n",
        "from matplotlib import pyplot\n",
        "import numpy as np\n",
        "\n",
        "# frame a sequence as a supervised learning problem\n",
        "def timeseries_to_supervised(data, lag=1):\n",
        "\tdf = pd.DataFrame(data)\n",
        "\tcolumns = [df.shift(i) for i in range(1, lag+1)]\n",
        "\tcolumns.append(df)\n",
        "\tdf = pd.concat(columns, axis=1)\n",
        "\tdf.fillna(0, inplace=True)\n",
        "\treturn df\n",
        "\n",
        "# create a differenced series\n",
        "def difference(dataset, interval=1):\n",
        "\tdiff = list()\n",
        "\tfor i in range(interval, len(dataset)):\n",
        "\t\tvalue = dataset[i] - dataset[i - interval]\n",
        "\t\tdiff.append(value)\n",
        "\treturn pd.Series(diff)\n",
        "\n",
        "# invert differenced value\n",
        "def inverse_difference(history, yhat, interval=1):\n",
        "\treturn yhat + history[-interval]\n",
        "\n",
        "# scale train and test data to [-1, 1]\n",
        "def scale(train, test):\n",
        "\t# fit scaler\n",
        "\tscaler = MinMaxScaler(feature_range=(-1, 1))\n",
        "\tscaler = scaler.fit(train)\n",
        "\t# transform train\n",
        "\ttrain = train.reshape(train.shape[0], train.shape[1])\n",
        "\ttrain_scaled = scaler.transform(train)\n",
        "\t# transform test\n",
        "\ttest = test.reshape(test.shape[0], test.shape[1])\n",
        "\ttest_scaled = scaler.transform(test)\n",
        "\treturn scaler, train_scaled, test_scaled\n",
        "\n",
        "# inverse scaling for a forecasted value\n",
        "def invert_scale(scaler, X, value):\n",
        "\tnew_row = [x for x in X] + [value]\n",
        "\tarray = np.array(new_row)\n",
        "\tarray = array.reshape(1, len(array))\n",
        "\tinverted = scaler.inverse_transform(array)\n",
        "\treturn inverted[0, -1]\n",
        "\n",
        "# fit an LSTM network to training data\n",
        "def fit_lstm(train, batch_size, nb_epoch, neurons):\n",
        "\tX, y = train[:, 0:-1], train[:, -1]\n",
        "\tX = X.reshape(X.shape[0], 1, X.shape[1])\n",
        "\tmodel = Sequential()\n",
        "\tmodel.add(LSTM(neurons, batch_input_shape=(batch_size, X.shape[1], X.shape[2]), stateful=True))\n",
        "\tmodel.add(Dense(1))\n",
        "\tmodel.compile(loss='mean_squared_error', optimizer='adam')\n",
        "\tfor i in range(nb_epoch):\n",
        "\t\tmodel.fit(X, y, epochs=1, batch_size=batch_size, verbose=0, shuffle=False)#, validation_split = .33)\n",
        "\t\tmodel.reset_states()\n",
        "\treturn model\n",
        "\n",
        "# make a one-step forecast\n",
        "def forecast_lstm(model, batch_size, X):\n",
        "\tX = X.reshape(1, 1, len(X))\n",
        "\tyhat = model.predict(X, batch_size=batch_size)\n",
        "\treturn yhat[0,0]\n",
        "\n",
        "# transform data to be stationary\n",
        "raw_values = y_train.values\n",
        "diff_values = difference(raw_values, 1)\n",
        "\n",
        "# transform data to be supervised learning\n",
        "supervised = timeseries_to_supervised(diff_values, 1)\n",
        "supervised_values = supervised.values\n",
        "\n",
        "# split data into train and test-sets\n",
        "train, test = supervised_values[0:-12], supervised_values[-12:]\n",
        "\n",
        "# transform the scale of the data\n",
        "scaler, train_scaled, test_scaled = scale(train, test)\n",
        "\n",
        "# fit the model\n",
        "lstm_model = fit_lstm(train_scaled, 1, 10, 4)\n",
        "# forecast the entire training dataset to build up state for forecasting\n",
        "train_reshaped = train_scaled[:, 0].reshape(len(train_scaled), 1, 1)\n",
        "lstm_model.predict(train_reshaped, batch_size=1)\n",
        "\n",
        "# walk-forward validation on the test data\n",
        "predictions = list()\n",
        "for i in range(len(test_scaled)):\n",
        "\t# make one-step forecast\n",
        "\tX, y = test_scaled[i, 0:-1], test_scaled[i, -1]\n",
        "\tyhat = forecast_lstm(lstm_model, 1, X)\n",
        "\t# invert scaling\n",
        "\tyhat = invert_scale(scaler, X, yhat)\n",
        "\t# invert differencing\n",
        "\tyhat = inverse_difference(raw_values, yhat, len(test_scaled)+1-i)\n",
        "\t# store forecast\n",
        "\tpredictions.append(yhat)\n",
        "\texpected = raw_values[len(train) + i + 1]\n",
        "\t# print('12/%d/16, Predicted=%f, Expected=%f' % (i+1 + 12, yhat, expected))\n",
        "\n",
        "# report performance\n",
        "rmse = sqrt(mean_squared_error(raw_values[-12:], predictions))\n",
        "print('Test RMSE: %.3f' % rmse)\n",
        "# line plot of observed vs predicted\n",
        "pyplot.plot(raw_values[-12:]) # orange line \n",
        "pyplot.plot(predictions)\n",
        "# pyplot.plot.legend()\n",
        "pyplot.show()\n"
      ],
      "execution_count": 0,
      "outputs": [
        {
          "output_type": "stream",
          "text": [
            "WARNING:tensorflow:From /usr/local/lib/python3.6/dist-packages/keras/backend/tensorflow_backend.py:66: The name tf.get_default_graph is deprecated. Please use tf.compat.v1.get_default_graph instead.\n",
            "\n",
            "WARNING:tensorflow:From /usr/local/lib/python3.6/dist-packages/keras/backend/tensorflow_backend.py:541: The name tf.placeholder is deprecated. Please use tf.compat.v1.placeholder instead.\n",
            "\n",
            "WARNING:tensorflow:From /usr/local/lib/python3.6/dist-packages/keras/backend/tensorflow_backend.py:4432: The name tf.random_uniform is deprecated. Please use tf.random.uniform instead.\n",
            "\n"
          ],
          "name": "stdout"
        },
        {
          "output_type": "stream",
          "text": [
            "Using TensorFlow backend.\n"
          ],
          "name": "stderr"
        },
        {
          "output_type": "stream",
          "text": [
            "WARNING:tensorflow:From /usr/local/lib/python3.6/dist-packages/keras/optimizers.py:793: The name tf.train.Optimizer is deprecated. Please use tf.compat.v1.train.Optimizer instead.\n",
            "\n",
            "WARNING:tensorflow:From /usr/local/lib/python3.6/dist-packages/tensorflow_core/python/ops/math_grad.py:1424: where (from tensorflow.python.ops.array_ops) is deprecated and will be removed in a future version.\n",
            "Instructions for updating:\n",
            "Use tf.where in 2.0, which has the same broadcast rule as np.where\n",
            "WARNING:tensorflow:From /usr/local/lib/python3.6/dist-packages/keras/backend/tensorflow_backend.py:1033: The name tf.assign_add is deprecated. Please use tf.compat.v1.assign_add instead.\n",
            "\n",
            "WARNING:tensorflow:From /usr/local/lib/python3.6/dist-packages/keras/backend/tensorflow_backend.py:1020: The name tf.assign is deprecated. Please use tf.compat.v1.assign instead.\n",
            "\n",
            "WARNING:tensorflow:From /usr/local/lib/python3.6/dist-packages/keras/backend/tensorflow_backend.py:3005: The name tf.Session is deprecated. Please use tf.compat.v1.Session instead.\n",
            "\n",
            "WARNING:tensorflow:From /usr/local/lib/python3.6/dist-packages/keras/backend/tensorflow_backend.py:190: The name tf.get_default_session is deprecated. Please use tf.compat.v1.get_default_session instead.\n",
            "\n",
            "WARNING:tensorflow:From /usr/local/lib/python3.6/dist-packages/keras/backend/tensorflow_backend.py:197: The name tf.ConfigProto is deprecated. Please use tf.compat.v1.ConfigProto instead.\n",
            "\n",
            "WARNING:tensorflow:From /usr/local/lib/python3.6/dist-packages/keras/backend/tensorflow_backend.py:207: The name tf.global_variables is deprecated. Please use tf.compat.v1.global_variables instead.\n",
            "\n",
            "WARNING:tensorflow:From /usr/local/lib/python3.6/dist-packages/keras/backend/tensorflow_backend.py:216: The name tf.is_variable_initialized is deprecated. Please use tf.compat.v1.is_variable_initialized instead.\n",
            "\n",
            "WARNING:tensorflow:From /usr/local/lib/python3.6/dist-packages/keras/backend/tensorflow_backend.py:223: The name tf.variables_initializer is deprecated. Please use tf.compat.v1.variables_initializer instead.\n",
            "\n",
            "Test RMSE: 3.384\n"
          ],
          "name": "stdout"
        },
        {
          "output_type": "display_data",
          "data": {
            "image/png": "[encoded data removed]",
            "text/plain": [
              "<Figure size 648x360 with 1 Axes>"
            ]
          },
          "metadata": {
            "tags": []
          }
        }
      ]
    },
    {
      "cell_type": "code",
      "metadata": {
        "id": "O5g_6wJ1pvFJ",
        "colab_type": "code",
        "outputId": "98157239-a9c6-485a-ea61-aa8f4d620e0a",
        "colab": {
          "base_uri": "https://localhost:8080/",
          "height": 35
        }
      },
      "source": [
        "len(raw_values[-12:])"
      ],
      "execution_count": 0,
      "outputs": [
        {
          "output_type": "execute_result",
          "data": {
            "text/plain": [
              "12"
            ]
          },
          "metadata": {
            "tags": []
          },
          "execution_count": 65
        }
      ]
    },
    {
      "cell_type": "code",
      "metadata": {
        "id": "2grDi9MiuPh3",
        "colab_type": "code",
        "outputId": "10e7e2e0-5cd1-4783-d9b2-029aa5dd2a05",
        "colab": {
          "base_uri": "https://localhost:8080/",
          "height": 104
        }
      },
      "source": [
        "lstm_fitted = lstm_model.predict(train_reshaped, batch_size=1)\n",
        "fitted_vals = []\n",
        "\n",
        "for i in range(len(train_scaled)):\n",
        "  X, y = train_scaled[i, 0:-1], lstm_fitted[i]\n",
        "  yhat = invert_scale(scaler, X, y)\n",
        "  yhat = inverse_difference(raw_values, yhat, -i)\n",
        "  # print(len(train_scaled)+1-i)\n",
        "  fitted_vals.append(yhat)\n",
        "\n",
        "fitted_vals[0:5]"
      ],
      "execution_count": 0,
      "outputs": [
        {
          "output_type": "execute_result",
          "data": {
            "text/plain": [
              "[361.9626216690242,\n",
              " 364.07529269494114,\n",
              " 368.3871158096194,\n",
              " 368.0219671572745,\n",
              " 365.0201560303569]"
            ]
          },
          "metadata": {
            "tags": []
          },
          "execution_count": 85
        }
      ]
    },
    {
      "cell_type": "code",
      "metadata": {
        "id": "_EfhDqsRytyI",
        "colab_type": "code",
        "outputId": "c2832471-8452-4706-d76f-ccda73adf88f",
        "colab": {
          "base_uri": "https://localhost:8080/",
          "height": 362
        }
      },
      "source": [
        "fitted_vals = pd.Series(fitted_vals, index = y_train.index[:-13])\n",
        "fitted_vals.plot.line(legend=True, label='Fitted', lw=2)\n",
        "y_train[:-13].plot.line(legend=True, alpha = .5)"
      ],
      "execution_count": 0,
      "outputs": [
        {
          "output_type": "execute_result",
          "data": {
            "text/plain": [
              "<matplotlib.axes._subplots.AxesSubplot at 0x7f8ca8512128>"
            ]
          },
          "metadata": {
            "tags": []
          },
          "execution_count": 90
        },
        {
          "output_type": "display_data",
          "data": {
            "image/png": "[encoded data removed]",
            "text/plain": [
              "<Figure size 648x360 with 1 Axes>"
            ]
          },
          "metadata": {
            "tags": []
          }
        }
      ]
    },
    {
      "cell_type": "code",
      "metadata": {
        "id": "HVosY59cDvIG",
        "colab_type": "code",
        "outputId": "7c6c3202-2cb8-4e2e-8e89-ff1d328fae90",
        "colab": {
          "base_uri": "https://localhost:8080/",
          "height": 35
        }
      },
      "source": [
        "train_rmse = sqrt(mean_squared_error(raw_values[:-13], fitted_vals))\n",
        "print('Train RMSE: %.3f' % train_rmse)"
      ],
      "execution_count": 0,
      "outputs": [
        {
          "output_type": "stream",
          "text": [
            "Train RMSE: 1.595\n"
          ],
          "name": "stdout"
        }
      ]
    },
    {
      "cell_type": "markdown",
      "metadata": {
        "id": "_jdu-xkKUiO4",
        "colab_type": "text"
      },
      "source": [
        "### Model focused on minizing Test Error, compromising fit of the training data"
      ]
    },
    {
      "cell_type": "code",
      "metadata": {
        "id": "fSa2rMx2UnLA",
        "colab_type": "code",
        "outputId": "09519f10-1efd-4b4b-ca22-d1c7365c7495",
        "colab": {
          "base_uri": "https://localhost:8080/",
          "height": 337
        }
      },
      "source": [
        "# split data into train and test-sets\n",
        "train1, test1 = supervised_values[0:-252], supervised_values[-252:]\n",
        "\n",
        "# transform the scale of the data\n",
        "scaler, train_scaled1, test_scaled1 = scale(train1, test1)\n",
        "\n",
        "# fit the model\n",
        "lstm_model1 = fit_lstm(train_scaled1, 1, 10, 4)\n",
        "# forecast the entire training dataset to build up state for forecasting\n",
        "train_reshaped1 = train_scaled1[:, 0].reshape(len(train_scaled1), 1, 1)\n",
        "lstm_model1.predict(train_reshaped1, batch_size=1)\n",
        "\n",
        "# walk-forward validation on the test data\n",
        "predictions1 = list()\n",
        "for i in range(len(test_scaled1)):\n",
        "\t# make one-step forecast\n",
        "\tX1, y1 = test_scaled1[i, 0:-1], test_scaled1[i, -1]\n",
        "\tyhat1 = forecast_lstm(lstm_model1, 1, X1)\n",
        "\t# invert scaling\n",
        "\tyhat1 = invert_scale(scaler, X1, yhat1)\n",
        "\t# invert differencing\n",
        "\tyhat1 = inverse_difference(raw_values, yhat1, len(test_scaled1)+1-i)\n",
        "\t# store forecast\n",
        "\tpredictions1.append(yhat1)\n",
        "\texpected1 = raw_values[len(train1) + i + 1]\n",
        "\t# print('12/%d/16, Predicted=%f, Expected=%f' % (i+1 + 12, yhat, expected))\n",
        "\n",
        "# report performance\n",
        "rmse1 = sqrt(mean_squared_error(raw_values[-252:], predictions1))\n",
        "print('Test RMSE: %.3f' % rmse1)\n",
        "# line plot of observed vs predicted\n",
        "pyplot.plot(raw_values[-252:]) # orange line \n",
        "pyplot.plot(predictions1)\n",
        "# pyplot.plot.legend()\n",
        "pyplot.show()"
      ],
      "execution_count": 0,
      "outputs": [
        {
          "output_type": "stream",
          "text": [
            "Test RMSE: 8.614\n"
          ],
          "name": "stdout"
        },
        {
          "output_type": "display_data",
          "data": {
            "image/png": "[encoded data removed]",
            "text/plain": [
              "<Figure size 648x360 with 1 Axes>"
            ]
          },
          "metadata": {
            "tags": []
          }
        }
      ]
    },
    {
      "cell_type": "code",
      "metadata": {
        "id": "VUzFlMFwUssw",
        "colab_type": "code",
        "outputId": "ad900f3a-7525-4e41-d725-461aad414080",
        "colab": {
          "base_uri": "https://localhost:8080/",
          "height": 104
        }
      },
      "source": [
        "lstm_fitted1 = lstm_model1.predict(train_reshaped1, batch_size=1)\n",
        "fitted_vals1 = []\n",
        "\n",
        "for i in range(len(train_scaled1)):\n",
        "  X1, y1 = train_scaled1[i, 0:-1], lstm_fitted1[i]\n",
        "  yhat1 = invert_scale(scaler, X1, y1)\n",
        "  yhat1 = inverse_difference(raw_values, yhat1, -i)\n",
        "  fitted_vals1.append(yhat1)\n",
        "\n",
        "fitted_vals1[0:5]"
      ],
      "execution_count": 0,
      "outputs": [
        {
          "output_type": "execute_result",
          "data": {
            "text/plain": [
              "[361.68619575828313,\n",
              " 364.1605902653187,\n",
              " 368.5483917917311,\n",
              " 368.5396780676395,\n",
              " 366.0267545413226]"
            ]
          },
          "metadata": {
            "tags": []
          },
          "execution_count": 70
        }
      ]
    },
    {
      "cell_type": "code",
      "metadata": {
        "id": "JNVR6B4sUuVt",
        "colab_type": "code",
        "outputId": "888fe3a9-20cc-4032-ad3d-e60b552176fb",
        "colab": {
          "base_uri": "https://localhost:8080/",
          "height": 362
        }
      },
      "source": [
        "fitted_vals1 = pd.Series(fitted_vals1, index = y_train.index[:-253])\n",
        "fitted_vals1.plot.line(legend=True)\n",
        "y_train[:-252].plot.line(legend=True)"
      ],
      "execution_count": 0,
      "outputs": [
        {
          "output_type": "execute_result",
          "data": {
            "text/plain": [
              "<matplotlib.axes._subplots.AxesSubplot at 0x7f8d08317ba8>"
            ]
          },
          "metadata": {
            "tags": []
          },
          "execution_count": 71
        },
        {
          "output_type": "display_data",
          "data": {
            "image/png": "[encoded data removed]",
            "text/plain": [
              "<Figure size 648x360 with 1 Axes>"
            ]
          },
          "metadata": {
            "tags": []
          }
        }
      ]
    },
    {
      "cell_type": "code",
      "metadata": {
        "id": "mfcrZqEgNpgU",
        "colab_type": "code",
        "outputId": "678cb094-4402-49c6-ba6d-d72c991d52de",
        "colab": {
          "base_uri": "https://localhost:8080/",
          "height": 35
        }
      },
      "source": [
        "train_rmse1 = sqrt(mean_squared_error(raw_values[:-253], fitted_vals1))\n",
        "print('Train RMSE: %.3f' % train_rmse1)\n"
      ],
      "execution_count": 0,
      "outputs": [
        {
          "output_type": "stream",
          "text": [
            "Train RMSE: 1.405\n"
          ],
          "name": "stdout"
        }
      ]
    },
    {
      "cell_type": "markdown",
      "metadata": {
        "id": "5bCSx_SwsDWF",
        "colab_type": "text"
      },
      "source": [
        "## Model Evaluation"
      ]
    },
    {
      "cell_type": "code",
      "metadata": {
        "id": "6ApP2k1HsJ8u",
        "colab_type": "code",
        "colab": {}
      },
      "source": [
        "from sklearn.model_selection import TimeSeriesSplit\n",
        "\n",
        "def evaluate_model(model_name, y, gls_exogenous = exo):\n",
        "\n",
        "  errors = []\n",
        "  splits = TimeSeriesSplit(n_splits = 5)\n",
        "  \n",
        "  for train_index, test_index in splits.split(y):\n",
        "    train_data = y[train_index]\n",
        "    test_data = y[test_index]\n",
        "\n",
        "    if model_name == 'linear' or model_name == 'polynomial' or model_name == 'GLS': \n",
        "      train_dates = googl_four_df.iloc[train_index]['avg'].index\n",
        "      test_dates = googl_four_df.iloc[test_index]['avg'].index\n",
        "      t_train = generate_t(train_dates)\n",
        "      t_test = generate_t(test_dates)\n",
        "\n",
        "      # testing and training linear model \n",
        "      if model_name == 'linear':\n",
        "        model = LinearRegression()\n",
        "        model.fit(X = t_train.to_frame(), y = train_data)\n",
        "        fitted_vals = model.predict(t_train.to_frame())\n",
        "        pred_vals = model.predict(t_test.to_frame())\n",
        "\n",
        "      # testing and training polynomial model (3rd degree, 12 periods)\n",
        "      elif model_name == 'polynomial':\n",
        "        pipeline = make_pipeline(\n",
        "            make_union(\n",
        "                PolynomialFeatures(degree=3, include_bias=False),\n",
        "                FunctionTransformer(lambda t: np.sin(2 * 12 * np.pi * t)),\n",
        "                FunctionTransformer(lambda t: np.cos(2 * 12 * np.pi * t))\n",
        "            ),\n",
        "            LinearRegression()\n",
        "        )\n",
        "        pipeline.fit(X=t_train.to_frame(), y=train_data)\n",
        "        fitted_vals = pipeline.predict(t_train.to_frame())\n",
        "        pred_vals = pipeline.predict(t_test.to_frame())   \n",
        "\n",
        "      # GLS evaluation\n",
        "      elif model_name == 'GLS':\n",
        "        e_train = gls_exogenous.loc[train_dates]\n",
        "        e_test = gls_exogenous.loc[test_dates]\n",
        "        e_train.index = train_data.index\n",
        "        # print(train_data.index, '\\n', e_train.index)\n",
        "        gls = sm.GLS(endog = train_data, exog = e_train)\n",
        "        gls_fit = gls.fit()\n",
        "        fitted_vals = gls_fit.predict(e_train)\n",
        "        pred_vals = gls_fit.predict(e_test)\n",
        "\n",
        "    elif model_name == 'ARIMA':\n",
        "      model_arima = ARIMA(train_data, order=(1,1,1))#, freq = 'D')\n",
        "      model_arima_fit = model_arima.fit(trend='nc')\n",
        "\n",
        "      # extract fitted values from arima \n",
        "      f = model_arima_fit.predict()\n",
        "      fitted_vals = []\n",
        "      for i in range(len(f)):\n",
        "        fi = inverse_difference(train_data, f[i], -i)\n",
        "        fitted_vals.append(fi)\n",
        "      \n",
        "      # extract prediction for test data \n",
        "      test_start = len(train_data)\n",
        "      test_end = test_start + len(test_data) - 1\n",
        "      forc = model_arima_fit.predict(start= test_start, end = test_end)\n",
        "      pred_vals = []\n",
        "      for i in range(len(forc)):\n",
        "        fi_p = inverse_difference(test_data, forc[i], -i)\n",
        "        pred_vals.append(fi_p)\n",
        "\n",
        "      fitted_vals = np.asarray(fitted_vals)\n",
        "      train_data = train_data[:-1]\n",
        "\n",
        "    # SARIMA evaluation\n",
        "    elif model_name == 'SARIMA':\n",
        "      mod = sm.tsa.statespace.SARIMAX(train_data, order=(1, 1, 1), seasonal_order=(1, 1, 1, 12), \n",
        "                                            enforce_stationarity=False, enforce_invertibility=False)\n",
        "      mod_fit = mod.fit()\n",
        "      fitted_vals = mod_fit.get_prediction().predicted_mean\n",
        "      pred_vals = mod_fit.get_forecast(steps = len(test_data)).predicted_mean\n",
        "\n",
        "    # LSTM evaluation\n",
        "    elif model_name == 'LSTM':\n",
        "      \n",
        "      raw_values = train_data.append(test_data).values \n",
        "\n",
        "      raw_train_values = train_data.values\n",
        "      diff_train_values = difference(raw_train_values, 1)\n",
        "\n",
        "      raw_test_values = test_data.values\n",
        "      diff_test_values = difference(raw_test_values, 1)\n",
        "\n",
        "      supervised_train = timeseries_to_supervised(diff_train_values, 1)\n",
        "      supervised_test = timeseries_to_supervised(diff_test_values, 1)\n",
        "\n",
        "      supervised_train_val = supervised_train.values\n",
        "      supervised_test_val = supervised_test.values\n",
        "\n",
        "      scaler, train_scaled, test_scaled = scale(supervised_train_val, supervised_test_val)\n",
        "\n",
        "      lstm_model = fit_lstm(train_scaled, 1, 10, 4)\n",
        "      train_reshaped = train_scaled[:, 0].reshape(len(train_scaled), 1, 1)\n",
        "      lstm_model.predict(train_reshaped, batch_size=1)\n",
        "\n",
        "      fitted_vals = []\n",
        "      for i in range(len(train_scaled)):\n",
        "        X, y1 = train_scaled[i, 0:-1], lstm_fitted[i]\n",
        "        yhat = invert_scale(scaler, X, y1)\n",
        "        yhat = inverse_difference(raw_values, yhat, -i)\n",
        "        fitted_vals.append(yhat)\n",
        "\n",
        "      pred_vals = []\n",
        "      for i in range(len(test_scaled)):\n",
        "        X, y2 = test_scaled[i, 0:-1], test_scaled[i, -1]\n",
        "        yhat = forecast_lstm(lstm_model, 1, X)\n",
        "        yhat = invert_scale(scaler, X, yhat)\n",
        "        yhat = inverse_difference(raw_values, yhat, len(test_scaled)+1-i)\n",
        "        pred_vals.append(yhat)\n",
        "\n",
        "      train_data = train_data[:-1]\n",
        "      test_data = test_data[:-1]\n",
        "        \n",
        "    else:\n",
        "      raise ValueError('Enter one of the following valid models: linear, polynomial, GLS, ARIMA, SARIMA, LSTM')\n",
        "\n",
        "    train_error = mean_squared_error(fitted_vals, train_data) ** .5 \n",
        "    test_error = mean_squared_error(pred_vals, test_data) ** .5 \n",
        "    errors.append([train_error, test_error])\n",
        "\n",
        "  return pd.DataFrame(data= errors, columns=['train error', 'test error'])\n"
      ],
      "execution_count": 0,
      "outputs": []
    },
    {
      "cell_type": "code",
      "metadata": {
        "id": "ZsyYomGdwnoS",
        "colab_type": "code",
        "colab": {}
      },
      "source": [
        "def generate_t(dates):\n",
        "  return dates.year + (30 * (dates.month - 1) + dates.day) / 365"
      ],
      "execution_count": 0,
      "outputs": []
    },
    {
      "cell_type": "code",
      "metadata": {
        "id": "hZsrp1_4wTke",
        "colab_type": "code",
        "outputId": "b8f46e65-9075-465c-e6c0-de3c058888be",
        "colab": {
          "base_uri": "https://localhost:8080/",
          "height": 52
        }
      },
      "source": [
        "linear_evaluation = evaluate_model('linear', y_train)\n",
        "polynomial_evaluation = evaluate_model('polynomial', y_train)\n",
        "gls_evaluation = evaluate_model('GLS', y_train)\n",
        "arima_evaluation = evaluate_model('ARIMA', y_train)\n",
        "sarima_evaluation = evaluate_model('SARIMA', y_train)\n",
        "lstm_evaluation = evaluate_model('LSTM', y_train)"
      ],
      "execution_count": 0,
      "outputs": [
        {
          "output_type": "stream",
          "text": [
            "/usr/local/lib/python3.6/dist-packages/statsmodels/base/model.py:512: ConvergenceWarning: Maximum Likelihood optimization failed to converge. Check mle_retvals\n",
            "  \"Check mle_retvals\", ConvergenceWarning)\n"
          ],
          "name": "stderr"
        }
      ]
    },
    {
      "cell_type": "code",
      "metadata": {
        "id": "N14l6qAURDRH",
        "colab_type": "code",
        "outputId": "1b132187-84ea-4748-9194-8b080cbb9d0f",
        "colab": {
          "base_uri": "https://localhost:8080/",
          "height": 228
        }
      },
      "source": [
        "all_evals = {'linear' : linear_evaluation, \n",
        "             'polynomial':polynomial_evaluation, \n",
        "             'GLS':gls_evaluation, \n",
        "             'ARIMA':arima_evaluation,\n",
        "             'SARIMA':sarima_evaluation, \n",
        "             'LSTM':lstm_evaluation}\n",
        "test_errors = pd.Series()\n",
        "train_errors = pd.Series() \n",
        "\n",
        "for k in all_evals: \n",
        "  cur = all_evals[k]\n",
        "  test_errors[k] = cur['test error'].mean()\n",
        "  train_errors[k] = cur['train error'].mean()\n",
        "\n",
        "all_errors = pd.concat([test_errors, train_errors], axis=1)\n",
        "all_errors.columns = ['avg test error', 'avg train error']\n",
        "all_errors.sort_values(by='avg test error')"
      ],
      "execution_count": 0,
      "outputs": [
        {
          "output_type": "execute_result",
          "data": {
            "text/html": [
              "<div>\n",
              "<style scoped>\n",
              "    .dataframe tbody tr th:only-of-type {\n",
              "        vertical-align: middle;\n",
              "    }\n",
              "\n",
              "    .dataframe tbody tr th {\n",
              "        vertical-align: top;\n",
              "    }\n",
              "\n",
              "    .dataframe thead th {\n",
              "        text-align: right;\n",
              "    }\n",
              "</style>\n",
              "<table border=\"1\" class=\"dataframe\">\n",
              "  <thead>\n",
              "    <tr style=\"text-align: right;\">\n",
              "      <th></th>\n",
              "      <th>avg test error</th>\n",
              "      <th>avg train error</th>\n",
              "    </tr>\n",
              "  </thead>\n",
              "  <tbody>\n",
              "    <tr>\n",
              "      <th>ARIMA</th>\n",
              "      <td>0.079866</td>\n",
              "      <td>1.141291</td>\n",
              "    </tr>\n",
              "    <tr>\n",
              "      <th>LSTM</th>\n",
              "      <td>1.584603</td>\n",
              "      <td>1.403297</td>\n",
              "    </tr>\n",
              "    <tr>\n",
              "      <th>SARIMA</th>\n",
              "      <td>65.066475</td>\n",
              "      <td>22.948108</td>\n",
              "    </tr>\n",
              "    <tr>\n",
              "      <th>linear</th>\n",
              "      <td>70.307618</td>\n",
              "      <td>34.491820</td>\n",
              "    </tr>\n",
              "    <tr>\n",
              "      <th>polynomial</th>\n",
              "      <td>156.077550</td>\n",
              "      <td>27.017984</td>\n",
              "    </tr>\n",
              "    <tr>\n",
              "      <th>GLS</th>\n",
              "      <td>5957.358042</td>\n",
              "      <td>29.342050</td>\n",
              "    </tr>\n",
              "  </tbody>\n",
              "</table>\n",
              "</div>"
            ],
            "text/plain": [
              "            avg test error  avg train error\n",
              "ARIMA             0.079866         1.141291\n",
              "LSTM              1.584603         1.403297\n",
              "SARIMA           65.066475        22.948108\n",
              "linear           70.307618        34.491820\n",
              "polynomial      156.077550        27.017984\n",
              "GLS            5957.358042        29.342050"
            ]
          },
          "metadata": {
            "tags": []
          },
          "execution_count": 77
        }
      ]
    },
    {
      "cell_type": "markdown",
      "metadata": {
        "id": "u8g6GpjM_f_i",
        "colab_type": "text"
      },
      "source": [
        "# Part 5: Sentiment Analysis"
      ]
    },
    {
      "cell_type": "markdown",
      "metadata": {
        "id": "FpTGCzcsEqgD",
        "colab_type": "text"
      },
      "source": [
        "## Afinn Lexicon\n"
      ]
    },
    {
      "cell_type": "code",
      "metadata": {
        "id": "Ec165JMlS_im",
        "colab_type": "code",
        "outputId": "7a5dd042-47d0-4adf-b475-01e242ed3c8a",
        "colab": {
          "base_uri": "https://localhost:8080/",
          "height": 35
        }
      },
      "source": [
        "!pip install afinn"
      ],
      "execution_count": 0,
      "outputs": [
        {
          "output_type": "stream",
          "text": [
            "Requirement already satisfied: afinn in /usr/local/lib/python3.6/dist-packages (0.1)\n"
          ],
          "name": "stdout"
        }
      ]
    },
    {
      "cell_type": "code",
      "metadata": {
        "id": "UIQ7wCmkUrJP",
        "colab_type": "code",
        "colab": {}
      },
      "source": [
        "from afinn import Afinn\n",
        "from nltk.corpus import gutenberg\n",
        "import textwrap\n",
        "afinn = Afinn()"
      ],
      "execution_count": 0,
      "outputs": []
    },
    {
      "cell_type": "code",
      "metadata": {
        "id": "kIYf1cA9WJoj",
        "colab_type": "code",
        "colab": {}
      },
      "source": [
        "sent = []\n",
        "for i in range(0,len(articles_df[\"headline.main\"])):\n",
        "  x = afinn.score(articles_df[\"headline.main\"][i])\n",
        "  sent.append(x)\n",
        "\n",
        "sentiments = pd.DataFrame()\n",
        "sentiments[\"sentiments\"] = pd.Series(sent)"
      ],
      "execution_count": 0,
      "outputs": []
    },
    {
      "cell_type": "code",
      "metadata": {
        "id": "S2hvHi1SD4CH",
        "colab_type": "code",
        "colab": {}
      },
      "source": [
        "article_sentiments = sentiments.join(articles_df)"
      ],
      "execution_count": 0,
      "outputs": []
    },
    {
      "cell_type": "code",
      "metadata": {
        "id": "eZwZxGK5EvHD",
        "colab_type": "code",
        "outputId": "739762a0-d543-44fc-d518-5bdc7023c6d4",
        "colab": {
          "base_uri": "https://localhost:8080/",
          "height": 106
        }
      },
      "source": [
        "for i in range(0,len(article_sentiments[\"pub_date\"])):\n",
        "  article_sentiments[\"pub_date\"].iloc[i] = article_sentiments[\"pub_date\"].iloc[i][0:10]"
      ],
      "execution_count": 0,
      "outputs": [
        {
          "output_type": "stream",
          "text": [
            "/usr/local/lib/python3.6/dist-packages/pandas/core/indexing.py:205: SettingWithCopyWarning: \n",
            "A value is trying to be set on a copy of a slice from a DataFrame\n",
            "\n",
            "See the caveats in the documentation: http://pandas.pydata.org/pandas-docs/stable/user_guide/indexing.html#returning-a-view-versus-a-copy\n",
            "  self._setitem_with_indexer(indexer, value)\n"
          ],
          "name": "stderr"
        }
      ]
    },
    {
      "cell_type": "code",
      "metadata": {
        "id": "Kb-Se3nkISv7",
        "colab_type": "code",
        "colab": {}
      },
      "source": [
        "article_sentiments[\"Year\"] = [i[0:4] for i in article_sentiments[\"pub_date\"]]\n",
        "article_sentiments[\"Month\"] = [i[5:7] for i in article_sentiments[\"pub_date\"]]\n"
      ],
      "execution_count": 0,
      "outputs": []
    },
    {
      "cell_type": "code",
      "metadata": {
        "id": "QqcP-qOsJHwR",
        "colab_type": "code",
        "colab": {}
      },
      "source": [
        "yearly_sentiments = article_sentiments[article_sentiments[\"sentiments\"] != 0].groupby([\"Year\",\"Month\"])[\"sentiments\"].mean()"
      ],
      "execution_count": 0,
      "outputs": []
    },
    {
      "cell_type": "code",
      "metadata": {
        "id": "5MnPVHXxJ9xT",
        "colab_type": "code",
        "colab": {}
      },
      "source": [
        "yearly_sentiments = yearly_sentiments.to_frame().reset_index()"
      ],
      "execution_count": 0,
      "outputs": []
    },
    {
      "cell_type": "code",
      "metadata": {
        "id": "pYXHnXNTUE_b",
        "colab_type": "code",
        "colab": {}
      },
      "source": [
        "googl_senti = googl_four_df.reset_index()\n",
        "new = googl_senti[\"Date\"].astype(str).str.split(\"-\",expand = True)\n",
        "googl_senti[\"Year\"] = new[0].astype(str)\n",
        "googl_senti[\"Month\"] = new[1].astype(str)\n",
        "googl_senti[\"Day\"] = new[2].astype(str)"
      ],
      "execution_count": 0,
      "outputs": []
    },
    {
      "cell_type": "code",
      "metadata": {
        "id": "uBv2q6Y5WEGw",
        "colab_type": "code",
        "outputId": "53f2351c-08cd-4903-8151-a812b9787225",
        "colab": {
          "base_uri": "https://localhost:8080/",
          "height": 194
        }
      },
      "source": [
        "googl_senti.head()"
      ],
      "execution_count": 0,
      "outputs": [
        {
          "output_type": "execute_result",
          "data": {
            "text/html": [
              "<div>\n",
              "<style scoped>\n",
              "    .dataframe tbody tr th:only-of-type {\n",
              "        vertical-align: middle;\n",
              "    }\n",
              "\n",
              "    .dataframe tbody tr th {\n",
              "        vertical-align: top;\n",
              "    }\n",
              "\n",
              "    .dataframe thead th {\n",
              "        text-align: right;\n",
              "    }\n",
              "</style>\n",
              "<table border=\"1\" class=\"dataframe\">\n",
              "  <thead>\n",
              "    <tr style=\"text-align: right;\">\n",
              "      <th></th>\n",
              "      <th>Date</th>\n",
              "      <th>Open</th>\n",
              "      <th>High</th>\n",
              "      <th>Low</th>\n",
              "      <th>Close</th>\n",
              "      <th>Volume</th>\n",
              "      <th>OpenInt</th>\n",
              "      <th>avg</th>\n",
              "      <th>Year</th>\n",
              "      <th>Month</th>\n",
              "      <th>Weekday Name</th>\n",
              "      <th>Day</th>\n",
              "    </tr>\n",
              "  </thead>\n",
              "  <tbody>\n",
              "    <tr>\n",
              "      <th>0</th>\n",
              "      <td>2013-01-02</td>\n",
              "      <td>359.71</td>\n",
              "      <td>363.50</td>\n",
              "      <td>358.28</td>\n",
              "      <td>361.62</td>\n",
              "      <td>5083536</td>\n",
              "      <td>0</td>\n",
              "      <td>360.890</td>\n",
              "      <td>2013</td>\n",
              "      <td>01</td>\n",
              "      <td>Wednesday</td>\n",
              "      <td>02</td>\n",
              "    </tr>\n",
              "    <tr>\n",
              "      <th>1</th>\n",
              "      <td>2013-01-03</td>\n",
              "      <td>362.32</td>\n",
              "      <td>365.96</td>\n",
              "      <td>360.36</td>\n",
              "      <td>361.84</td>\n",
              "      <td>4636280</td>\n",
              "      <td>0</td>\n",
              "      <td>363.160</td>\n",
              "      <td>2013</td>\n",
              "      <td>01</td>\n",
              "      <td>Thursday</td>\n",
              "      <td>03</td>\n",
              "    </tr>\n",
              "    <tr>\n",
              "      <th>2</th>\n",
              "      <td>2013-01-04</td>\n",
              "      <td>364.67</td>\n",
              "      <td>370.74</td>\n",
              "      <td>363.84</td>\n",
              "      <td>368.98</td>\n",
              "      <td>5527104</td>\n",
              "      <td>0</td>\n",
              "      <td>367.290</td>\n",
              "      <td>2013</td>\n",
              "      <td>01</td>\n",
              "      <td>Friday</td>\n",
              "      <td>04</td>\n",
              "    </tr>\n",
              "    <tr>\n",
              "      <th>3</th>\n",
              "      <td>2013-01-07</td>\n",
              "      <td>367.72</td>\n",
              "      <td>369.69</td>\n",
              "      <td>365.29</td>\n",
              "      <td>367.38</td>\n",
              "      <td>3311534</td>\n",
              "      <td>0</td>\n",
              "      <td>367.490</td>\n",
              "      <td>2013</td>\n",
              "      <td>01</td>\n",
              "      <td>Monday</td>\n",
              "      <td>07</td>\n",
              "    </tr>\n",
              "    <tr>\n",
              "      <th>4</th>\n",
              "      <td>2013-01-08</td>\n",
              "      <td>367.77</td>\n",
              "      <td>368.15</td>\n",
              "      <td>362.22</td>\n",
              "      <td>366.65</td>\n",
              "      <td>3352074</td>\n",
              "      <td>0</td>\n",
              "      <td>365.185</td>\n",
              "      <td>2013</td>\n",
              "      <td>01</td>\n",
              "      <td>Tuesday</td>\n",
              "      <td>08</td>\n",
              "    </tr>\n",
              "  </tbody>\n",
              "</table>\n",
              "</div>"
            ],
            "text/plain": [
              "        Date    Open    High     Low  ...  Year  Month  Weekday Name  Day\n",
              "0 2013-01-02  359.71  363.50  358.28  ...  2013     01     Wednesday   02\n",
              "1 2013-01-03  362.32  365.96  360.36  ...  2013     01      Thursday   03\n",
              "2 2013-01-04  364.67  370.74  363.84  ...  2013     01        Friday   04\n",
              "3 2013-01-07  367.72  369.69  365.29  ...  2013     01        Monday   07\n",
              "4 2013-01-08  367.77  368.15  362.22  ...  2013     01       Tuesday   08\n",
              "\n",
              "[5 rows x 12 columns]"
            ]
          },
          "metadata": {
            "tags": []
          },
          "execution_count": 165
        }
      ]
    },
    {
      "cell_type": "code",
      "metadata": {
        "id": "zODtK8yqMbzG",
        "colab_type": "code",
        "colab": {}
      },
      "source": [
        "yearly_sentiments[\"Year\"] = yearly_sentiments[\"Year\"].astype(str)\n",
        "yearly_sentiments[\"Month\"] = yearly_sentiments[\"Month\"].astype(str)"
      ],
      "execution_count": 0,
      "outputs": []
    },
    {
      "cell_type": "code",
      "metadata": {
        "id": "wjUvyiF8Lf10",
        "colab_type": "code",
        "colab": {}
      },
      "source": [
        "googl_senti = pd.merge(googl_senti,yearly_sentiments, how = \"left\", left_on = [\"Year\", \"Month\"], right_on = [\"Year\", \"Month\"])"
      ],
      "execution_count": 0,
      "outputs": []
    },
    {
      "cell_type": "code",
      "metadata": {
        "id": "RM1CmxqpP3Ph",
        "colab_type": "code",
        "colab": {}
      },
      "source": [
        "googl_senti.set_index(\"Date\",inplace= True)"
      ],
      "execution_count": 0,
      "outputs": []
    },
    {
      "cell_type": "code",
      "metadata": {
        "id": "N60DXrSVZqYJ",
        "colab_type": "code",
        "outputId": "d25c9cd9-7699-493d-ae95-c2a0d910085d",
        "colab": {
          "base_uri": "https://localhost:8080/",
          "height": 195
        }
      },
      "source": [
        "# Convert dates to a decimal year\n",
        "date = googl_senti.index\n",
        "t = date.year + (30 * (date.month - 1) + date.day) / 365\n",
        "# t = date.year + (date.month / 12)\n",
        "t"
      ],
      "execution_count": 0,
      "outputs": [
        {
          "output_type": "execute_result",
          "data": {
            "text/plain": [
              "Float64Index([2013.0054794520547, 2013.0082191780823, 2013.0109589041097,\n",
              "              2013.0191780821917,  2013.021917808219, 2013.0246575342467,\n",
              "               2013.027397260274, 2013.0301369863014, 2013.0383561643835,\n",
              "               2013.041095890411,\n",
              "              ...\n",
              "              2016.9479452054795, 2016.9561643835616,  2016.958904109589,\n",
              "              2016.9616438356165,  2016.964383561644, 2016.9671232876713,\n",
              "               2016.978082191781, 2016.9808219178083, 2016.9835616438356,\n",
              "               2016.986301369863],\n",
              "             dtype='float64', name='Date', length=1008)"
            ]
          },
          "metadata": {
            "tags": []
          },
          "execution_count": 169
        }
      ]
    },
    {
      "cell_type": "code",
      "metadata": {
        "id": "4yYt7ChGbdR5",
        "colab_type": "code",
        "outputId": "c08f7bef-5567-4278-b0a7-9a7e94f95022",
        "colab": {
          "base_uri": "https://localhost:8080/",
          "height": 634
        }
      },
      "source": [
        "googl_senti['t'] = t\n",
        "exo = googl_senti[['t', 'Weekday Name', 'Month',\"sentiments\"]]\n",
        "exo = pd.get_dummies(exo)\n",
        "exo"
      ],
      "execution_count": 0,
      "outputs": [
        {
          "output_type": "execute_result",
          "data": {
            "text/html": [
              "<div>\n",
              "<style scoped>\n",
              "    .dataframe tbody tr th:only-of-type {\n",
              "        vertical-align: middle;\n",
              "    }\n",
              "\n",
              "    .dataframe tbody tr th {\n",
              "        vertical-align: top;\n",
              "    }\n",
              "\n",
              "    .dataframe thead th {\n",
              "        text-align: right;\n",
              "    }\n",
              "</style>\n",
              "<table border=\"1\" class=\"dataframe\">\n",
              "  <thead>\n",
              "    <tr style=\"text-align: right;\">\n",
              "      <th></th>\n",
              "      <th>t</th>\n",
              "      <th>sentiments</th>\n",
              "      <th>Weekday Name_Friday</th>\n",
              "      <th>Weekday Name_Monday</th>\n",
              "      <th>Weekday Name_Thursday</th>\n",
              "      <th>Weekday Name_Tuesday</th>\n",
              "      <th>Weekday Name_Wednesday</th>\n",
              "      <th>Month_01</th>\n",
              "      <th>Month_02</th>\n",
              "      <th>Month_03</th>\n",
              "      <th>Month_04</th>\n",
              "      <th>Month_05</th>\n",
              "      <th>Month_06</th>\n",
              "      <th>Month_07</th>\n",
              "      <th>Month_08</th>\n",
              "      <th>Month_09</th>\n",
              "      <th>Month_10</th>\n",
              "      <th>Month_11</th>\n",
              "      <th>Month_12</th>\n",
              "    </tr>\n",
              "    <tr>\n",
              "      <th>Date</th>\n",
              "      <th></th>\n",
              "      <th></th>\n",
              "      <th></th>\n",
              "      <th></th>\n",
              "      <th></th>\n",
              "      <th></th>\n",
              "      <th></th>\n",
              "      <th></th>\n",
              "      <th></th>\n",
              "      <th></th>\n",
              "      <th></th>\n",
              "      <th></th>\n",
              "      <th></th>\n",
              "      <th></th>\n",
              "      <th></th>\n",
              "      <th></th>\n",
              "      <th></th>\n",
              "      <th></th>\n",
              "      <th></th>\n",
              "    </tr>\n",
              "  </thead>\n",
              "  <tbody>\n",
              "    <tr>\n",
              "      <th>2013-01-02</th>\n",
              "      <td>2013.005479</td>\n",
              "      <td>1.0</td>\n",
              "      <td>0</td>\n",
              "      <td>0</td>\n",
              "      <td>0</td>\n",
              "      <td>0</td>\n",
              "      <td>1</td>\n",
              "      <td>1</td>\n",
              "      <td>0</td>\n",
              "      <td>0</td>\n",
              "      <td>0</td>\n",
              "      <td>0</td>\n",
              "      <td>0</td>\n",
              "      <td>0</td>\n",
              "      <td>0</td>\n",
              "      <td>0</td>\n",
              "      <td>0</td>\n",
              "      <td>0</td>\n",
              "      <td>0</td>\n",
              "    </tr>\n",
              "    <tr>\n",
              "      <th>2013-01-03</th>\n",
              "      <td>2013.008219</td>\n",
              "      <td>1.0</td>\n",
              "      <td>0</td>\n",
              "      <td>0</td>\n",
              "      <td>1</td>\n",
              "      <td>0</td>\n",
              "      <td>0</td>\n",
              "      <td>1</td>\n",
              "      <td>0</td>\n",
              "      <td>0</td>\n",
              "      <td>0</td>\n",
              "      <td>0</td>\n",
              "      <td>0</td>\n",
              "      <td>0</td>\n",
              "      <td>0</td>\n",
              "      <td>0</td>\n",
              "      <td>0</td>\n",
              "      <td>0</td>\n",
              "      <td>0</td>\n",
              "    </tr>\n",
              "    <tr>\n",
              "      <th>2013-01-04</th>\n",
              "      <td>2013.010959</td>\n",
              "      <td>1.0</td>\n",
              "      <td>1</td>\n",
              "      <td>0</td>\n",
              "      <td>0</td>\n",
              "      <td>0</td>\n",
              "      <td>0</td>\n",
              "      <td>1</td>\n",
              "      <td>0</td>\n",
              "      <td>0</td>\n",
              "      <td>0</td>\n",
              "      <td>0</td>\n",
              "      <td>0</td>\n",
              "      <td>0</td>\n",
              "      <td>0</td>\n",
              "      <td>0</td>\n",
              "      <td>0</td>\n",
              "      <td>0</td>\n",
              "      <td>0</td>\n",
              "    </tr>\n",
              "    <tr>\n",
              "      <th>2013-01-07</th>\n",
              "      <td>2013.019178</td>\n",
              "      <td>1.0</td>\n",
              "      <td>0</td>\n",
              "      <td>1</td>\n",
              "      <td>0</td>\n",
              "      <td>0</td>\n",
              "      <td>0</td>\n",
              "      <td>1</td>\n",
              "      <td>0</td>\n",
              "      <td>0</td>\n",
              "      <td>0</td>\n",
              "      <td>0</td>\n",
              "      <td>0</td>\n",
              "      <td>0</td>\n",
              "      <td>0</td>\n",
              "      <td>0</td>\n",
              "      <td>0</td>\n",
              "      <td>0</td>\n",
              "      <td>0</td>\n",
              "    </tr>\n",
              "    <tr>\n",
              "      <th>2013-01-08</th>\n",
              "      <td>2013.021918</td>\n",
              "      <td>1.0</td>\n",
              "      <td>0</td>\n",
              "      <td>0</td>\n",
              "      <td>0</td>\n",
              "      <td>1</td>\n",
              "      <td>0</td>\n",
              "      <td>1</td>\n",
              "      <td>0</td>\n",
              "      <td>0</td>\n",
              "      <td>0</td>\n",
              "      <td>0</td>\n",
              "      <td>0</td>\n",
              "      <td>0</td>\n",
              "      <td>0</td>\n",
              "      <td>0</td>\n",
              "      <td>0</td>\n",
              "      <td>0</td>\n",
              "      <td>0</td>\n",
              "    </tr>\n",
              "    <tr>\n",
              "      <th>...</th>\n",
              "      <td>...</td>\n",
              "      <td>...</td>\n",
              "      <td>...</td>\n",
              "      <td>...</td>\n",
              "      <td>...</td>\n",
              "      <td>...</td>\n",
              "      <td>...</td>\n",
              "      <td>...</td>\n",
              "      <td>...</td>\n",
              "      <td>...</td>\n",
              "      <td>...</td>\n",
              "      <td>...</td>\n",
              "      <td>...</td>\n",
              "      <td>...</td>\n",
              "      <td>...</td>\n",
              "      <td>...</td>\n",
              "      <td>...</td>\n",
              "      <td>...</td>\n",
              "      <td>...</td>\n",
              "    </tr>\n",
              "    <tr>\n",
              "      <th>2016-12-23</th>\n",
              "      <td>2016.967123</td>\n",
              "      <td>0.6</td>\n",
              "      <td>1</td>\n",
              "      <td>0</td>\n",
              "      <td>0</td>\n",
              "      <td>0</td>\n",
              "      <td>0</td>\n",
              "      <td>0</td>\n",
              "      <td>0</td>\n",
              "      <td>0</td>\n",
              "      <td>0</td>\n",
              "      <td>0</td>\n",
              "      <td>0</td>\n",
              "      <td>0</td>\n",
              "      <td>0</td>\n",
              "      <td>0</td>\n",
              "      <td>0</td>\n",
              "      <td>0</td>\n",
              "      <td>1</td>\n",
              "    </tr>\n",
              "    <tr>\n",
              "      <th>2016-12-27</th>\n",
              "      <td>2016.978082</td>\n",
              "      <td>0.6</td>\n",
              "      <td>0</td>\n",
              "      <td>0</td>\n",
              "      <td>0</td>\n",
              "      <td>1</td>\n",
              "      <td>0</td>\n",
              "      <td>0</td>\n",
              "      <td>0</td>\n",
              "      <td>0</td>\n",
              "      <td>0</td>\n",
              "      <td>0</td>\n",
              "      <td>0</td>\n",
              "      <td>0</td>\n",
              "      <td>0</td>\n",
              "      <td>0</td>\n",
              "      <td>0</td>\n",
              "      <td>0</td>\n",
              "      <td>1</td>\n",
              "    </tr>\n",
              "    <tr>\n",
              "      <th>2016-12-28</th>\n",
              "      <td>2016.980822</td>\n",
              "      <td>0.6</td>\n",
              "      <td>0</td>\n",
              "      <td>0</td>\n",
              "      <td>0</td>\n",
              "      <td>0</td>\n",
              "      <td>1</td>\n",
              "      <td>0</td>\n",
              "      <td>0</td>\n",
              "      <td>0</td>\n",
              "      <td>0</td>\n",
              "      <td>0</td>\n",
              "      <td>0</td>\n",
              "      <td>0</td>\n",
              "      <td>0</td>\n",
              "      <td>0</td>\n",
              "      <td>0</td>\n",
              "      <td>0</td>\n",
              "      <td>1</td>\n",
              "    </tr>\n",
              "    <tr>\n",
              "      <th>2016-12-29</th>\n",
              "      <td>2016.983562</td>\n",
              "      <td>0.6</td>\n",
              "      <td>0</td>\n",
              "      <td>0</td>\n",
              "      <td>1</td>\n",
              "      <td>0</td>\n",
              "      <td>0</td>\n",
              "      <td>0</td>\n",
              "      <td>0</td>\n",
              "      <td>0</td>\n",
              "      <td>0</td>\n",
              "      <td>0</td>\n",
              "      <td>0</td>\n",
              "      <td>0</td>\n",
              "      <td>0</td>\n",
              "      <td>0</td>\n",
              "      <td>0</td>\n",
              "      <td>0</td>\n",
              "      <td>1</td>\n",
              "    </tr>\n",
              "    <tr>\n",
              "      <th>2016-12-30</th>\n",
              "      <td>2016.986301</td>\n",
              "      <td>0.6</td>\n",
              "      <td>1</td>\n",
              "      <td>0</td>\n",
              "      <td>0</td>\n",
              "      <td>0</td>\n",
              "      <td>0</td>\n",
              "      <td>0</td>\n",
              "      <td>0</td>\n",
              "      <td>0</td>\n",
              "      <td>0</td>\n",
              "      <td>0</td>\n",
              "      <td>0</td>\n",
              "      <td>0</td>\n",
              "      <td>0</td>\n",
              "      <td>0</td>\n",
              "      <td>0</td>\n",
              "      <td>0</td>\n",
              "      <td>1</td>\n",
              "    </tr>\n",
              "  </tbody>\n",
              "</table>\n",
              "<p>1008 rows × 19 columns</p>\n",
              "</div>"
            ],
            "text/plain": [
              "                      t  sentiments  ...  Month_11  Month_12\n",
              "Date                                 ...                    \n",
              "2013-01-02  2013.005479         1.0  ...         0         0\n",
              "2013-01-03  2013.008219         1.0  ...         0         0\n",
              "2013-01-04  2013.010959         1.0  ...         0         0\n",
              "2013-01-07  2013.019178         1.0  ...         0         0\n",
              "2013-01-08  2013.021918         1.0  ...         0         0\n",
              "...                 ...         ...  ...       ...       ...\n",
              "2016-12-23  2016.967123         0.6  ...         0         1\n",
              "2016-12-27  2016.978082         0.6  ...         0         1\n",
              "2016-12-28  2016.980822         0.6  ...         0         1\n",
              "2016-12-29  2016.983562         0.6  ...         0         1\n",
              "2016-12-30  2016.986301         0.6  ...         0         1\n",
              "\n",
              "[1008 rows x 19 columns]"
            ]
          },
          "metadata": {
            "tags": []
          },
          "execution_count": 170
        }
      ]
    },
    {
      "cell_type": "code",
      "metadata": {
        "id": "JRKveLyOdQLt",
        "colab_type": "code",
        "colab": {}
      },
      "source": [
        "from sklearn.model_selection import TimeSeriesSplit\n",
        "errors = []\n",
        "splits = TimeSeriesSplit(n_splits = 5)\n",
        "y_train = googl_senti['avg']\n",
        "for train_index, test_index in splits.split(y_train):\n",
        "  train_data = y_train[train_index]\n",
        "  test_data = y_train[test_index]\n",
        "\n",
        "train_dates = googl_senti.iloc[train_index]['avg'].index\n",
        "test_dates = googl_senti.iloc[test_index]['avg'].index\n",
        "e_train = exo.iloc[1:864]\n",
        "e_test = exo.iloc[864:1007]"
      ],
      "execution_count": 0,
      "outputs": []
    },
    {
      "cell_type": "code",
      "metadata": {
        "id": "45ybc5KgjDMz",
        "colab_type": "code",
        "colab": {}
      },
      "source": [
        "yearly_sentiments[\"day\"] = \"01\"\n",
        "yearly_sentiments[\"Date\"] = (yearly_sentiments[\"Year\"] + \"-\" +\n",
        "                             yearly_sentiments[\"Month\"] + \"-\" +\n",
        "                             yearly_sentiments[\"day\"])\n",
        "yearly_sentiments[\"Date\"] = pd.to_datetime(yearly_sentiments[\"Date\"])"
      ],
      "execution_count": 0,
      "outputs": []
    },
    {
      "cell_type": "code",
      "metadata": {
        "id": "F987qkDJ0CVV",
        "colab_type": "code",
        "colab": {}
      },
      "source": [
        "yearly_sentiments.set_index(\"Date\", inplace = True)"
      ],
      "execution_count": 0,
      "outputs": []
    },
    {
      "cell_type": "code",
      "metadata": {
        "id": "pykFu-i9jcyB",
        "colab_type": "code",
        "outputId": "4fd3ddb3-b102-416b-dfd0-af881e678d10",
        "colab": {
          "base_uri": "https://localhost:8080/",
          "height": 499
        }
      },
      "source": [
        "from statsmodels.tsa.arima_model import ARIMA\n",
        "resid_inter = ARIMA(gls_fit.resid,order=(1,1,1))\n",
        "print(resid_inter.fit().summary())"
      ],
      "execution_count": 0,
      "outputs": [
        {
          "output_type": "stream",
          "text": [
            "/usr/local/lib/python3.6/dist-packages/statsmodels/tsa/base/tsa_model.py:219: ValueWarning: A date index has been provided, but it has no associated frequency information and so will be ignored when e.g. forecasting.\n",
            "  ' ignored when e.g. forecasting.', ValueWarning)\n",
            "/usr/local/lib/python3.6/dist-packages/statsmodels/tsa/base/tsa_model.py:219: ValueWarning: A date index has been provided, but it has no associated frequency information and so will be ignored when e.g. forecasting.\n",
            "  ' ignored when e.g. forecasting.', ValueWarning)\n"
          ],
          "name": "stderr"
        },
        {
          "output_type": "stream",
          "text": [
            "                             ARIMA Model Results                              \n",
            "==============================================================================\n",
            "Dep. Variable:                    D.y   No. Observations:                 1007\n",
            "Model:                 ARIMA(1, 1, 1)   Log Likelihood               -3536.242\n",
            "Method:                       css-mle   S.D. of innovations              8.107\n",
            "Date:                Tue, 17 Mar 2020   AIC                           7080.484\n",
            "Time:                        00:51:40   BIC                           7100.143\n",
            "Sample:                             1   HQIC                          7087.954\n",
            "                                                                              \n",
            "==============================================================================\n",
            "                 coef    std err          z      P>|z|      [0.025      0.975]\n",
            "------------------------------------------------------------------------------\n",
            "const          0.0083      0.288      0.029      0.977      -0.556       0.573\n",
            "ar.L1.D.y     -0.1165      0.232     -0.502      0.616      -0.571       0.338\n",
            "ma.L1.D.y      0.2584      0.226      1.143      0.253      -0.185       0.701\n",
            "                                    Roots                                    \n",
            "=============================================================================\n",
            "                  Real          Imaginary           Modulus         Frequency\n",
            "-----------------------------------------------------------------------------\n",
            "AR.1           -8.5822           +0.0000j            8.5822            0.5000\n",
            "MA.1           -3.8706           +0.0000j            3.8706            0.5000\n",
            "-----------------------------------------------------------------------------\n"
          ],
          "name": "stdout"
        }
      ]
    },
    {
      "cell_type": "code",
      "metadata": {
        "id": "aAGbcrUl0ySb",
        "colab_type": "code",
        "outputId": "d26b9347-12ab-421c-d125-42ac5c67f601",
        "colab": {
          "base_uri": "https://localhost:8080/",
          "height": 1000
        }
      },
      "source": [
        "avg_price_month = googl_four_df.groupby([\"Year\",\"Month\"])[\"avg\"].mean().reset_index()\n",
        "avg_price_month"
      ],
      "execution_count": 0,
      "outputs": [
        {
          "output_type": "execute_result",
          "data": {
            "text/html": [
              "<div>\n",
              "<style scoped>\n",
              "    .dataframe tbody tr th:only-of-type {\n",
              "        vertical-align: middle;\n",
              "    }\n",
              "\n",
              "    .dataframe tbody tr th {\n",
              "        vertical-align: top;\n",
              "    }\n",
              "\n",
              "    .dataframe thead th {\n",
              "        text-align: right;\n",
              "    }\n",
              "</style>\n",
              "<table border=\"1\" class=\"dataframe\">\n",
              "  <thead>\n",
              "    <tr style=\"text-align: right;\">\n",
              "      <th></th>\n",
              "      <th>Year</th>\n",
              "      <th>Month</th>\n",
              "      <th>avg</th>\n",
              "    </tr>\n",
              "  </thead>\n",
              "  <tbody>\n",
              "    <tr>\n",
              "      <th>0</th>\n",
              "      <td>2013</td>\n",
              "      <td>1</td>\n",
              "      <td>367.085000</td>\n",
              "    </tr>\n",
              "    <tr>\n",
              "      <th>1</th>\n",
              "      <td>2013</td>\n",
              "      <td>2</td>\n",
              "      <td>392.765000</td>\n",
              "    </tr>\n",
              "    <tr>\n",
              "      <th>2</th>\n",
              "      <td>2013</td>\n",
              "      <td>3</td>\n",
              "      <td>409.154000</td>\n",
              "    </tr>\n",
              "    <tr>\n",
              "      <th>3</th>\n",
              "      <td>2013</td>\n",
              "      <td>4</td>\n",
              "      <td>397.442727</td>\n",
              "    </tr>\n",
              "    <tr>\n",
              "      <th>4</th>\n",
              "      <td>2013</td>\n",
              "      <td>5</td>\n",
              "      <td>438.035000</td>\n",
              "    </tr>\n",
              "    <tr>\n",
              "      <th>5</th>\n",
              "      <td>2013</td>\n",
              "      <td>6</td>\n",
              "      <td>438.733500</td>\n",
              "    </tr>\n",
              "    <tr>\n",
              "      <th>6</th>\n",
              "      <td>2013</td>\n",
              "      <td>7</td>\n",
              "      <td>450.492273</td>\n",
              "    </tr>\n",
              "    <tr>\n",
              "      <th>7</th>\n",
              "      <td>2013</td>\n",
              "      <td>8</td>\n",
              "      <td>438.226364</td>\n",
              "    </tr>\n",
              "    <tr>\n",
              "      <th>8</th>\n",
              "      <td>2013</td>\n",
              "      <td>9</td>\n",
              "      <td>442.164250</td>\n",
              "    </tr>\n",
              "    <tr>\n",
              "      <th>9</th>\n",
              "      <td>2013</td>\n",
              "      <td>10</td>\n",
              "      <td>468.663261</td>\n",
              "    </tr>\n",
              "    <tr>\n",
              "      <th>10</th>\n",
              "      <td>2013</td>\n",
              "      <td>11</td>\n",
              "      <td>515.695750</td>\n",
              "    </tr>\n",
              "    <tr>\n",
              "      <th>11</th>\n",
              "      <td>2013</td>\n",
              "      <td>12</td>\n",
              "      <td>541.753333</td>\n",
              "    </tr>\n",
              "    <tr>\n",
              "      <th>12</th>\n",
              "      <td>2014</td>\n",
              "      <td>1</td>\n",
              "      <td>568.058810</td>\n",
              "    </tr>\n",
              "    <tr>\n",
              "      <th>13</th>\n",
              "      <td>2014</td>\n",
              "      <td>2</td>\n",
              "      <td>594.844474</td>\n",
              "    </tr>\n",
              "    <tr>\n",
              "      <th>14</th>\n",
              "      <td>2014</td>\n",
              "      <td>3</td>\n",
              "      <td>592.778095</td>\n",
              "    </tr>\n",
              "    <tr>\n",
              "      <th>15</th>\n",
              "      <td>2014</td>\n",
              "      <td>4</td>\n",
              "      <td>546.562143</td>\n",
              "    </tr>\n",
              "    <tr>\n",
              "      <th>16</th>\n",
              "      <td>2014</td>\n",
              "      <td>5</td>\n",
              "      <td>541.884762</td>\n",
              "    </tr>\n",
              "    <tr>\n",
              "      <th>17</th>\n",
              "      <td>2014</td>\n",
              "      <td>6</td>\n",
              "      <td>566.065000</td>\n",
              "    </tr>\n",
              "    <tr>\n",
              "      <th>18</th>\n",
              "      <td>2014</td>\n",
              "      <td>7</td>\n",
              "      <td>592.264773</td>\n",
              "    </tr>\n",
              "    <tr>\n",
              "      <th>19</th>\n",
              "      <td>2014</td>\n",
              "      <td>8</td>\n",
              "      <td>583.265000</td>\n",
              "    </tr>\n",
              "    <tr>\n",
              "      <th>20</th>\n",
              "      <td>2014</td>\n",
              "      <td>9</td>\n",
              "      <td>591.583571</td>\n",
              "    </tr>\n",
              "    <tr>\n",
              "      <th>21</th>\n",
              "      <td>2014</td>\n",
              "      <td>10</td>\n",
              "      <td>558.076957</td>\n",
              "    </tr>\n",
              "    <tr>\n",
              "      <th>22</th>\n",
              "      <td>2014</td>\n",
              "      <td>11</td>\n",
              "      <td>552.865789</td>\n",
              "    </tr>\n",
              "    <tr>\n",
              "      <th>23</th>\n",
              "      <td>2014</td>\n",
              "      <td>12</td>\n",
              "      <td>529.778636</td>\n",
              "    </tr>\n",
              "    <tr>\n",
              "      <th>24</th>\n",
              "      <td>2015</td>\n",
              "      <td>1</td>\n",
              "      <td>515.844750</td>\n",
              "    </tr>\n",
              "    <tr>\n",
              "      <th>25</th>\n",
              "      <td>2015</td>\n",
              "      <td>2</td>\n",
              "      <td>540.028684</td>\n",
              "    </tr>\n",
              "    <tr>\n",
              "      <th>26</th>\n",
              "      <td>2015</td>\n",
              "      <td>3</td>\n",
              "      <td>566.130455</td>\n",
              "    </tr>\n",
              "    <tr>\n",
              "      <th>27</th>\n",
              "      <td>2015</td>\n",
              "      <td>4</td>\n",
              "      <td>549.671667</td>\n",
              "    </tr>\n",
              "    <tr>\n",
              "      <th>28</th>\n",
              "      <td>2015</td>\n",
              "      <td>5</td>\n",
              "      <td>547.739250</td>\n",
              "    </tr>\n",
              "    <tr>\n",
              "      <th>29</th>\n",
              "      <td>2015</td>\n",
              "      <td>6</td>\n",
              "      <td>550.965000</td>\n",
              "    </tr>\n",
              "    <tr>\n",
              "      <th>30</th>\n",
              "      <td>2015</td>\n",
              "      <td>7</td>\n",
              "      <td>617.223182</td>\n",
              "    </tr>\n",
              "    <tr>\n",
              "      <th>31</th>\n",
              "      <td>2015</td>\n",
              "      <td>8</td>\n",
              "      <td>668.770476</td>\n",
              "    </tr>\n",
              "    <tr>\n",
              "      <th>32</th>\n",
              "      <td>2015</td>\n",
              "      <td>9</td>\n",
              "      <td>648.152619</td>\n",
              "    </tr>\n",
              "    <tr>\n",
              "      <th>33</th>\n",
              "      <td>2015</td>\n",
              "      <td>10</td>\n",
              "      <td>690.254318</td>\n",
              "    </tr>\n",
              "    <tr>\n",
              "      <th>34</th>\n",
              "      <td>2015</td>\n",
              "      <td>11</td>\n",
              "      <td>758.869250</td>\n",
              "    </tr>\n",
              "    <tr>\n",
              "      <th>35</th>\n",
              "      <td>2015</td>\n",
              "      <td>12</td>\n",
              "      <td>770.742841</td>\n",
              "    </tr>\n",
              "    <tr>\n",
              "      <th>36</th>\n",
              "      <td>2016</td>\n",
              "      <td>1</td>\n",
              "      <td>736.243789</td>\n",
              "    </tr>\n",
              "    <tr>\n",
              "      <th>37</th>\n",
              "      <td>2016</td>\n",
              "      <td>2</td>\n",
              "      <td>726.162700</td>\n",
              "    </tr>\n",
              "    <tr>\n",
              "      <th>38</th>\n",
              "      <td>2016</td>\n",
              "      <td>3</td>\n",
              "      <td>745.646545</td>\n",
              "    </tr>\n",
              "    <tr>\n",
              "      <th>39</th>\n",
              "      <td>2016</td>\n",
              "      <td>4</td>\n",
              "      <td>756.875976</td>\n",
              "    </tr>\n",
              "    <tr>\n",
              "      <th>40</th>\n",
              "      <td>2016</td>\n",
              "      <td>5</td>\n",
              "      <td>725.822214</td>\n",
              "    </tr>\n",
              "    <tr>\n",
              "      <th>41</th>\n",
              "      <td>2016</td>\n",
              "      <td>6</td>\n",
              "      <td>719.971932</td>\n",
              "    </tr>\n",
              "    <tr>\n",
              "      <th>42</th>\n",
              "      <td>2016</td>\n",
              "      <td>7</td>\n",
              "      <td>739.791000</td>\n",
              "    </tr>\n",
              "    <tr>\n",
              "      <th>43</th>\n",
              "      <td>2016</td>\n",
              "      <td>8</td>\n",
              "      <td>799.735761</td>\n",
              "    </tr>\n",
              "    <tr>\n",
              "      <th>44</th>\n",
              "      <td>2016</td>\n",
              "      <td>9</td>\n",
              "      <td>801.006667</td>\n",
              "    </tr>\n",
              "    <tr>\n",
              "      <th>45</th>\n",
              "      <td>2016</td>\n",
              "      <td>10</td>\n",
              "      <td>814.752643</td>\n",
              "    </tr>\n",
              "    <tr>\n",
              "      <th>46</th>\n",
              "      <td>2016</td>\n",
              "      <td>11</td>\n",
              "      <td>785.825262</td>\n",
              "    </tr>\n",
              "    <tr>\n",
              "      <th>47</th>\n",
              "      <td>2016</td>\n",
              "      <td>12</td>\n",
              "      <td>800.369619</td>\n",
              "    </tr>\n",
              "  </tbody>\n",
              "</table>\n",
              "</div>"
            ],
            "text/plain": [
              "    Year  Month         avg\n",
              "0   2013      1  367.085000\n",
              "1   2013      2  392.765000\n",
              "2   2013      3  409.154000\n",
              "3   2013      4  397.442727\n",
              "4   2013      5  438.035000\n",
              "5   2013      6  438.733500\n",
              "6   2013      7  450.492273\n",
              "7   2013      8  438.226364\n",
              "8   2013      9  442.164250\n",
              "9   2013     10  468.663261\n",
              "10  2013     11  515.695750\n",
              "11  2013     12  541.753333\n",
              "12  2014      1  568.058810\n",
              "13  2014      2  594.844474\n",
              "14  2014      3  592.778095\n",
              "15  2014      4  546.562143\n",
              "16  2014      5  541.884762\n",
              "17  2014      6  566.065000\n",
              "18  2014      7  592.264773\n",
              "19  2014      8  583.265000\n",
              "20  2014      9  591.583571\n",
              "21  2014     10  558.076957\n",
              "22  2014     11  552.865789\n",
              "23  2014     12  529.778636\n",
              "24  2015      1  515.844750\n",
              "25  2015      2  540.028684\n",
              "26  2015      3  566.130455\n",
              "27  2015      4  549.671667\n",
              "28  2015      5  547.739250\n",
              "29  2015      6  550.965000\n",
              "30  2015      7  617.223182\n",
              "31  2015      8  668.770476\n",
              "32  2015      9  648.152619\n",
              "33  2015     10  690.254318\n",
              "34  2015     11  758.869250\n",
              "35  2015     12  770.742841\n",
              "36  2016      1  736.243789\n",
              "37  2016      2  726.162700\n",
              "38  2016      3  745.646545\n",
              "39  2016      4  756.875976\n",
              "40  2016      5  725.822214\n",
              "41  2016      6  719.971932\n",
              "42  2016      7  739.791000\n",
              "43  2016      8  799.735761\n",
              "44  2016      9  801.006667\n",
              "45  2016     10  814.752643\n",
              "46  2016     11  785.825262\n",
              "47  2016     12  800.369619"
            ]
          },
          "metadata": {
            "tags": []
          },
          "execution_count": 176
        }
      ]
    },
    {
      "cell_type": "code",
      "metadata": {
        "id": "w96W1b8R1sIL",
        "colab_type": "code",
        "colab": {}
      },
      "source": [
        "avg_price_month[\"day\"] = \"01\"\n",
        "avg_price_month[\"Date\"] = (avg_price_month[\"Year\"].astype(str) + \"-\" +\n",
        "                             avg_price_month[\"Month\"].astype(str) + \"-\" +\n",
        "                             avg_price_month[\"day\"].astype(str))"
      ],
      "execution_count": 0,
      "outputs": []
    },
    {
      "cell_type": "code",
      "metadata": {
        "id": "el9xpSPp2djB",
        "colab_type": "code",
        "colab": {}
      },
      "source": [
        "avg_price_month.set_index(\"Date\", inplace = True)"
      ],
      "execution_count": 0,
      "outputs": []
    },
    {
      "cell_type": "code",
      "metadata": {
        "id": "mbeSDS3Rwzt8",
        "colab_type": "code",
        "outputId": "6d544d9d-3dcf-46d8-cd04-6abb88bcc535",
        "colab": {
          "base_uri": "https://localhost:8080/",
          "height": 352
        }
      },
      "source": [
        "(avg_price_month['avg'].diff(1)).plot()"
      ],
      "execution_count": 0,
      "outputs": [
        {
          "output_type": "execute_result",
          "data": {
            "text/plain": [
              "<matplotlib.axes._subplots.AxesSubplot at 0x7f0c7feb56a0>"
            ]
          },
          "metadata": {
            "tags": []
          },
          "execution_count": 179
        },
        {
          "output_type": "display_data",
          "data": {
            "image/png": "[encoded data removed]",
            "text/plain": [
              "<Figure size 648x360 with 1 Axes>"
            ]
          },
          "metadata": {
            "tags": []
          }
        }
      ]
    },
    {
      "cell_type": "code",
      "metadata": {
        "id": "aDQj8dU_3DDv",
        "colab_type": "code",
        "outputId": "ef391c47-416f-45b4-dbf9-d7ae786b9f77",
        "colab": {
          "base_uri": "https://localhost:8080/",
          "height": 363
        }
      },
      "source": [
        "y_train_ = pd.Series(\n",
        "    yearly_sentiments[\"sentiments\"]\n",
        ")\n",
        "\n",
        "# Plot the data and the fitted trend\n",
        "y_train_.plot.line()"
      ],
      "execution_count": 0,
      "outputs": [
        {
          "output_type": "execute_result",
          "data": {
            "text/plain": [
              "<matplotlib.axes._subplots.AxesSubplot at 0x7f0c83dd52b0>"
            ]
          },
          "metadata": {
            "tags": []
          },
          "execution_count": 180
        },
        {
          "output_type": "display_data",
          "data": {
            "image/png": "[encoded data removed]",
            "text/plain": [
              "<Figure size 648x360 with 1 Axes>"
            ]
          },
          "metadata": {
            "tags": []
          }
        }
      ]
    },
    {
      "cell_type": "code",
      "metadata": {
        "id": "iJleA_b96ZEr",
        "colab_type": "code",
        "outputId": "10c0bb8f-9b4a-4558-9478-9f4b05cd053e",
        "colab": {
          "base_uri": "https://localhost:8080/",
          "height": 356
        }
      },
      "source": [
        "plt.figure()\n",
        "f, axes = plt.subplots(2, 1)\n",
        "axes[0].plot(avg_price_month['avg'].diff(1))\n",
        "axes[0].set_ylabel('Avg Stock Price')\n",
        "axes[0].tick_params(axis = 'x', bottom = False, labelbottom = False)\n",
        "\n",
        "axes[1].plot(y_train_)\n",
        "axes[1].set_ylabel('Sentiment Value')"
      ],
      "execution_count": 0,
      "outputs": [
        {
          "output_type": "execute_result",
          "data": {
            "text/plain": [
              "Text(0, 0.5, 'Sentiment Value')"
            ]
          },
          "metadata": {
            "tags": []
          },
          "execution_count": 181
        },
        {
          "output_type": "display_data",
          "data": {
            "text/plain": [
              "<Figure size 648x360 with 0 Axes>"
            ]
          },
          "metadata": {
            "tags": []
          }
        },
        {
          "output_type": "display_data",
          "data": {
            "image/png": "[encoded data removed]",
            "text/plain": [
              "<Figure size 648x360 with 2 Axes>"
            ]
          },
          "metadata": {
            "tags": []
          }
        }
      ]
    }
  ]
}